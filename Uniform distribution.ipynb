{
 "cells": [
  {
   "cell_type": "markdown",
   "id": "35f3f51f-985a-42bf-a681-de01436f7412",
   "metadata": {},
   "source": [
    "## Uniform distribution"
   ]
  },
  {
   "cell_type": "code",
   "execution_count": null,
   "id": "e2d19f78-dbad-4d4b-b0e7-6c22d225fb07",
   "metadata": {},
   "outputs": [],
   "source": [
    "1. Continous uniform distribution \n",
    "2. Discrete uniform distribution "
   ]
  },
  {
   "cell_type": "code",
   "execution_count": null,
   "id": "374f648d-c95c-4131-8502-48ca807128c8",
   "metadata": {},
   "outputs": [],
   "source": [
    "1. Continous uniform distribution  (Continous Random Varibale) :\n",
    "\n",
    "This distribution describes an experiment where there is an aribitary outcome that lies between certain bounds. The bounds are defined by the \n",
    "parameters A and B which are the minimum and maximum values. "
   ]
  },
  {
   "cell_type": "code",
   "execution_count": null,
   "id": "d3d66a2e-9b7e-420a-b1d6-459b02d96b43",
   "metadata": {},
   "outputs": [],
   "source": [
    "2. Discrete uniform distribution (Discrete Random Variable):\n",
    "\n",
    "In this distribution finite number of values are eqully observed, every one of n values has equal probability 1/n. \n",
    "\n",
    "Another way of saying is this \"a known finite number of outcomes equally likely to happen. "
   ]
  }
 ],
 "metadata": {
  "kernelspec": {
   "display_name": "Python 3 (ipykernel)",
   "language": "python",
   "name": "python3"
  },
  "language_info": {
   "codemirror_mode": {
    "name": "ipython",
    "version": 3
   },
   "file_extension": ".py",
   "mimetype": "text/x-python",
   "name": "python",
   "nbconvert_exporter": "python",
   "pygments_lexer": "ipython3",
   "version": "3.11.7"
  }
 },
 "nbformat": 4,
 "nbformat_minor": 5
}
