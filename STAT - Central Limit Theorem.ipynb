{
 "cells": [
  {
   "cell_type": "markdown",
   "id": "01ae97f6-4fea-453d-a3ec-0a9f2348d928",
   "metadata": {},
   "source": [
    "# Central Limit Theorem "
   ]
  },
  {
   "cell_type": "code",
   "execution_count": null,
   "id": "eb90293b-154d-4038-af6d-336cc666fe9c",
   "metadata": {},
   "outputs": [],
   "source": [
    "CLT relies on the conept of a sampling distribution, which is the probability distribution of a statistic for a large number of sample\n",
    "taken from a population. "
   ]
  },
  {
   "cell_type": "code",
   "execution_count": null,
   "id": "60436ab4-134e-4306-8acb-4319a5267cbc",
   "metadata": {},
   "outputs": [],
   "source": [
    "The central limit theorem says that the sampling distribution of the mean will always be normally distributed, as long as the sample size\n",
    "is large enough. \n",
    "\n",
    "Regardless of whether the population has a normal, poisson, binomial or any other distribution, \n",
    "the sampling distribution of the mean will always be normal. "
   ]
  },
  {
   "cell_type": "code",
   "execution_count": null,
   "id": "a808072c-4805-4be6-89df-3d3494e8aac6",
   "metadata": {},
   "outputs": [],
   "source": [
    "Ex: from a large data if take let's say 100 samples then the mean of those 100 samples will have a normal/gaussian distribution. "
   ]
  },
  {
   "cell_type": "code",
   "execution_count": null,
   "id": "c44a4070-c7c1-4e3a-8f7f-820cde97507c",
   "metadata": {},
   "outputs": [],
   "source": []
  },
  {
   "cell_type": "code",
   "execution_count": null,
   "id": "01954f15-93db-4306-989f-a0a6a37d3680",
   "metadata": {},
   "outputs": [],
   "source": []
  }
 ],
 "metadata": {
  "kernelspec": {
   "display_name": "Python 3 (ipykernel)",
   "language": "python",
   "name": "python3"
  },
  "language_info": {
   "codemirror_mode": {
    "name": "ipython",
    "version": 3
   },
   "file_extension": ".py",
   "mimetype": "text/x-python",
   "name": "python",
   "nbconvert_exporter": "python",
   "pygments_lexer": "ipython3",
   "version": "3.11.7"
  }
 },
 "nbformat": 4,
 "nbformat_minor": 5
}
