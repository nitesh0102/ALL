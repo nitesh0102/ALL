{
 "cells": [
  {
   "cell_type": "markdown",
   "id": "462d8da2-09ce-40f5-9a57-817b5e1e782e",
   "metadata": {},
   "source": [
    "## ML Project Lifecycle"
   ]
  },
  {
   "cell_type": "markdown",
   "id": "0665f634-e1d0-463e-ae01-1a3da1a81f16",
   "metadata": {},
   "source": [
    "<text color=\"green\"> Data Collection -> EDA -> FE -> Model Train -> Web App( Flask) -> Deployment </text>"
   ]
  },
  {
   "cell_type": "markdown",
   "id": "11bf97cf-b49c-47a9-9a36-77d91b336eca",
   "metadata": {},
   "source": []
  },
  {
   "cell_type": "code",
   "execution_count": null,
   "id": "97195843-85b3-4bb5-a084-a1f3112a3ca4",
   "metadata": {},
   "outputs": [],
   "source": []
  }
 ],
 "metadata": {
  "kernelspec": {
   "display_name": "Python 3 (ipykernel)",
   "language": "python",
   "name": "python3"
  },
  "language_info": {
   "codemirror_mode": {
    "name": "ipython",
    "version": 3
   },
   "file_extension": ".py",
   "mimetype": "text/x-python",
   "name": "python",
   "nbconvert_exporter": "python",
   "pygments_lexer": "ipython3",
   "version": "3.11.7"
  }
 },
 "nbformat": 4,
 "nbformat_minor": 5
}
