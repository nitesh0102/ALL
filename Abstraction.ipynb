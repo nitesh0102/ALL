{
 "cells": [
  {
   "cell_type": "code",
   "execution_count": null,
   "id": "afa66ce6-c957-4d4d-b386-ea3f59de668f",
   "metadata": {},
   "outputs": [],
   "source": [
    "class pwskills:\n",
    "\n",
    "     def student_details(self):\n",
    "         pass\n",
    "     def student_assignmet(self):\n",
    "         pass\n",
    "    def student_marks(self):\n",
    "        pass"
   ]
  },
  {
   "cell_type": "code",
   "execution_count": 3,
   "id": "19d09990-de46-45a1-8d34-c5677fbc0001",
   "metadata": {},
   "outputs": [],
   "source": [
    "import abc\n",
    "class pwskills:\n",
    "    @abc.abstractmethod\n",
    "    def student_details(self):\n",
    "         pass\n",
    "    @abc.abstractmethod \n",
    "    def student_assignmet(self):\n",
    "         pass\n",
    "    @abc.abstractmethod\n",
    "    def student_marks(self):\n",
    "        pass"
   ]
  },
  {
   "cell_type": "code",
   "execution_count": null,
   "id": "e078fc0e-779a-48d0-9b50-203ac39dd785",
   "metadata": {},
   "outputs": [],
   "source": [
    "#above is a skeleton class "
   ]
  },
  {
   "cell_type": "code",
   "execution_count": 4,
   "id": "f5ba7e6b-184f-456a-b676-7a3714279d2d",
   "metadata": {},
   "outputs": [],
   "source": [
    "class data_science(pwskills):\n",
    "    def student_details(self):\n",
    "        return \"it will return details of data science\"\n",
    "    def student_assignment(self):\n",
    "        return \"it will return assignment of data science\""
   ]
  },
  {
   "cell_type": "code",
   "execution_count": 5,
   "id": "87a63479-ee19-4876-87ae-691e18de6818",
   "metadata": {},
   "outputs": [],
   "source": [
    "class web_dev(pwskills):\n",
    "    def student_details(self):\n",
    "        return \"it will return details of web dev\"\n",
    "    def student_marks(self):\n",
    "        return \"it will return marks of web dev\""
   ]
  },
  {
   "cell_type": "code",
   "execution_count": 6,
   "id": "3d8eea73-e953-4aa1-b29c-fc16999c88e1",
   "metadata": {},
   "outputs": [],
   "source": [
    "#object "
   ]
  },
  {
   "cell_type": "code",
   "execution_count": 7,
   "id": "e9cea988-45d0-4e66-ab15-b13a7176bfb0",
   "metadata": {},
   "outputs": [],
   "source": [
    "ds = data_science()"
   ]
  },
  {
   "cell_type": "code",
   "execution_count": 9,
   "id": "56b06931-1729-4e9b-862d-ac5a4feb9e21",
   "metadata": {},
   "outputs": [
    {
     "data": {
      "text/plain": [
       "<bound method data_science.student_assignment of <__main__.data_science object at 0x0000021C13A02590>>"
      ]
     },
     "execution_count": 9,
     "metadata": {},
     "output_type": "execute_result"
    }
   ],
   "source": [
    "ds.student_assignment"
   ]
  },
  {
   "cell_type": "code",
   "execution_count": 12,
   "id": "8d7b933f-03c9-44a5-a77e-bf5f8b50b2fb",
   "metadata": {},
   "outputs": [
    {
     "data": {
      "text/plain": [
       "'it will return assignment of data science'"
      ]
     },
     "execution_count": 12,
     "metadata": {},
     "output_type": "execute_result"
    }
   ],
   "source": [
    "ds.student_assignment()"
   ]
  },
  {
   "cell_type": "code",
   "execution_count": null,
   "id": "92d00138-431c-4091-898d-537ad932e4a3",
   "metadata": {},
   "outputs": [],
   "source": []
  }
 ],
 "metadata": {
  "kernelspec": {
   "display_name": "Python 3 (ipykernel)",
   "language": "python",
   "name": "python3"
  },
  "language_info": {
   "codemirror_mode": {
    "name": "ipython",
    "version": 3
   },
   "file_extension": ".py",
   "mimetype": "text/x-python",
   "name": "python",
   "nbconvert_exporter": "python",
   "pygments_lexer": "ipython3",
   "version": "3.11.7"
  }
 },
 "nbformat": 4,
 "nbformat_minor": 5
}
