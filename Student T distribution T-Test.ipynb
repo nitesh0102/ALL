{
 "cells": [
  {
   "cell_type": "code",
   "execution_count": null,
   "id": "dd1f2257-bcb0-4bf0-b192-729f5577411d",
   "metadata": {},
   "outputs": [],
   "source": [
    "In Z Test we need population standard deviation but what if we don't have population standard deviation (sigma), how we will perform \n",
    "the analysis. "
   ]
  },
  {
   "cell_type": "code",
   "execution_count": null,
   "id": "f548b9e8-bf30-46ed-aaf7-3b721ad6b070",
   "metadata": {},
   "outputs": [],
   "source": [
    "We can use student t distribution "
   ]
  },
  {
   "cell_type": "code",
   "execution_count": null,
   "id": "be3d16d0-afa9-4521-b7ea-411390033be8",
   "metadata": {},
   "outputs": [],
   "source": []
  },
  {
   "cell_type": "code",
   "execution_count": null,
   "id": "481ad2f9-b5b9-4d2f-92a2-c9a8e2598e28",
   "metadata": {},
   "outputs": [],
   "source": [
    "formula for z score  =   (Xi - mean)/((SD)/sqrt(n))\n",
    "\n",
    "SD = sigma = population standard distribution\n",
    "\n",
    "formula for T score  =  (Xi - Mean)/(s/sqrt(n))\n",
    "\n",
    "s = sample standard deviation"
   ]
  },
  {
   "cell_type": "code",
   "execution_count": null,
   "id": "cf37fbbc-3699-44ba-b3a2-bc20ba00dedf",
   "metadata": {},
   "outputs": [],
   "source": []
  },
  {
   "cell_type": "code",
   "execution_count": null,
   "id": "140d1f8a-40f1-4b05-99c2-f512f6b364b1",
   "metadata": {},
   "outputs": [],
   "source": [
    "for t test we use t table similarly like T table. \n",
    "\n",
    "Degree of freedom is very important and it is (n-1)"
   ]
  },
  {
   "cell_type": "code",
   "execution_count": null,
   "id": "1db8decd-9a46-41bf-961d-b6b201059d40",
   "metadata": {},
   "outputs": [],
   "source": []
  },
  {
   "cell_type": "markdown",
   "id": "8dd082e7-3c44-4097-a876-97b9c6187ee3",
   "metadata": {},
   "source": [
    "## T-stats and T-test"
   ]
  },
  {
   "cell_type": "code",
   "execution_count": null,
   "id": "52ac044a-626a-49ad-8bab-4bbfbff7f558",
   "metadata": {},
   "outputs": [],
   "source": [
    "# Q1 In the population the avg iq = 100. A team of reseracher want to test a new medication to see if it has either a +ve or -ve\n",
    "effect on intelligence or no effect at all. A sample of 30 participants who have taken the medication has a mean of 140 \n",
    "with a standard deviation of 20. Did the medication affect the intelligence ? \n",
    "C.I = 95% "
   ]
  },
  {
   "cell_type": "code",
   "execution_count": null,
   "id": "537ae271-25ea-4ec6-b17a-ee5b9568bb3e",
   "metadata": {},
   "outputs": [],
   "source": [
    "Ans: \n",
    "\n",
    "Alpha = 0.05\n",
    "Population mean = 100 = mu\n",
    "sample mean = 140 = Xi\n",
    "Sample Standard deviation S = 20 \n",
    "\n",
    "H0 = 100 = mu\n",
    "H1 != 100 !=mu\n",
    "\n",
    "Alpha = 0.05\n",
    "degree of freedom = n-1 = 30-1 = 29\n",
    "\n",
    "Decision rule\n",
    "\n",
    "2.5% - 95% - 2.5% on bell curve\n",
    "\n",
    "T- table \n",
    "\n",
    "Z-score value = 2.045 = boundary value on both side\n",
    "\n",
    "-2.045 and +2.045\n",
    "\n",
    "If t test is less than the  -2.045 or greater than 2.045 then we will reject the null hypothesis\n",
    "\n",
    "\n",
    "t = 140-100 / 20/root(30) = 10.96 \n",
    "\n",
    "\n",
    "since my T-test value is greater than 2.045 we have to reject the null hypothesis. \n",
    "\n",
    "\n",
    "Conclusion : Medication increased the IQ\n",
    "\n"
   ]
  },
  {
   "cell_type": "code",
   "execution_count": null,
   "id": "cc37803f-9f14-4ebe-81a0-a63d835040f3",
   "metadata": {},
   "outputs": [],
   "source": []
  },
  {
   "cell_type": "markdown",
   "id": "eb4f23ce-5ee0-49c7-9994-53c129408fc2",
   "metadata": {},
   "source": [
    "## T-test and Z-test"
   ]
  },
  {
   "cell_type": "code",
   "execution_count": null,
   "id": "1a71f8fe-e09b-42b9-b1b2-c939ce8d9424",
   "metadata": {},
   "outputs": [],
   "source": [
    "When to use T-test and Z-test"
   ]
  },
  {
   "cell_type": "code",
   "execution_count": null,
   "id": "b71e43f0-4ed8-413f-a9be-f3f06f960d47",
   "metadata": {},
   "outputs": [],
   "source": [
    "1. Do you know the population standard deviation ? (Sigma)\n",
    "\n",
    "No - Use T-test\n",
    "\n",
    "Yes ---- Then check the sample size if it is above 30\n",
    "\n",
    "No - Use T - test\n",
    "\n",
    "Yes - Use Z - test\n"
   ]
  }
 ],
 "metadata": {
  "kernelspec": {
   "display_name": "Python 3 (ipykernel)",
   "language": "python",
   "name": "python3"
  },
  "language_info": {
   "codemirror_mode": {
    "name": "ipython",
    "version": 3
   },
   "file_extension": ".py",
   "mimetype": "text/x-python",
   "name": "python",
   "nbconvert_exporter": "python",
   "pygments_lexer": "ipython3",
   "version": "3.11.7"
  }
 },
 "nbformat": 4,
 "nbformat_minor": 5
}
