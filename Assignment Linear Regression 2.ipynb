{
 "cells": [
  {
   "cell_type": "code",
   "execution_count": 1,
   "id": "154911c9-b7d4-4983-8554-d7a692b9f1be",
   "metadata": {},
   "outputs": [],
   "source": [
    "#Q1"
   ]
  },
  {
   "cell_type": "code",
   "execution_count": null,
   "id": "190f8104-e43e-415d-9dda-4b3f14dbb684",
   "metadata": {},
   "outputs": [],
   "source": [
    "R-squared: It tells how well the model (Best fit line) fits the data. \n",
    "\n",
    "High R Sq means many data points are close to the best fit line and vice versa.\n",
    "\n",
    "R-squared =   1 - SS res/ SS total"
   ]
  },
  {
   "cell_type": "code",
   "execution_count": null,
   "id": "ac968a49-90af-4295-b4ec-51fe437b6839",
   "metadata": {},
   "outputs": [],
   "source": []
  },
  {
   "cell_type": "code",
   "execution_count": 2,
   "id": "3d6d8bf6-6a42-49db-b5f5-cdab800a3927",
   "metadata": {},
   "outputs": [],
   "source": [
    "#Q2"
   ]
  },
  {
   "cell_type": "code",
   "execution_count": null,
   "id": "7e880477-e5e9-43f3-a03e-e77933107b94",
   "metadata": {},
   "outputs": [],
   "source": [
    "Adjusted R-Squared is an updated version of R-squared which takes account of the number of independent variables while calculating R-squared. \n",
    "The main problem with R-squared is that the R-Square value always increases\n",
    "with an increase in independent variables irrespective of the fact that where the independent variable is contributing to the model or not."
   ]
  },
  {
   "cell_type": "code",
   "execution_count": null,
   "id": "4471ea58-e5f3-4d51-a559-a4d636fd7b38",
   "metadata": {},
   "outputs": [],
   "source": [
    "AdjustedR^2 =1– ( (1−R^2)⋅(n−1) / n−k−1)\n",
    "​\n"
   ]
  },
  {
   "cell_type": "code",
   "execution_count": null,
   "id": "60eb1e6f-b0d2-45e1-a886-b0433893140c",
   "metadata": {},
   "outputs": [],
   "source": [
    "\n"
   ]
  },
  {
   "cell_type": "code",
   "execution_count": 3,
   "id": "379c1646-48ef-4e43-b740-4498aa50e238",
   "metadata": {},
   "outputs": [],
   "source": [
    "#Q3"
   ]
  },
  {
   "cell_type": "code",
   "execution_count": null,
   "id": "13cae3b0-eae5-4354-9c81-cad984b8e80a",
   "metadata": {},
   "outputs": [],
   "source": [
    "Adjusted R-squared is better in following conditions: \n",
    "\n",
    "1. Multiple Regression : Ad r-sq is better than r-squared becuase it accounts for the number of predictors in a model. \n",
    "\n",
    "2. Model Comparison : Ad r-sq helps compare model with diff number of predictors to find the best performing one. \n",
    "\n",
    "3. Ad r-sq penalizes the inclusion of irrelavant predictors, so it's less likely to be misled by a high r -sq values that's due to overfitting. \n",
    "\n",
    "The adjusted r-squared value can decrease if a new predictor does not improve the model's fit, making it a more reliable measure of model accuracy. \n",
    "For this reason, the adjusted r-squared can be used as a tool by data analysts to help them decide which predictors to include."
   ]
  },
  {
   "cell_type": "code",
   "execution_count": null,
   "id": "8f5f6943-0faa-48a2-b341-172694df5448",
   "metadata": {},
   "outputs": [],
   "source": []
  },
  {
   "cell_type": "code",
   "execution_count": 4,
   "id": "9c0783f4-cc23-46e3-aa39-a9f1e62de457",
   "metadata": {},
   "outputs": [],
   "source": [
    "#Q4"
   ]
  },
  {
   "cell_type": "code",
   "execution_count": null,
   "id": "8bbb75ba-be69-4f57-9056-8edd812be8df",
   "metadata": {},
   "outputs": [],
   "source": [
    "MSE : it is error calculated by   subtracting    estimated from actuals and squaring them and then taking mean. \n",
    "Other words Mean Squared Error represents the average of the squared difference between the original and predicted values in the data set.\n",
    "It measures the variance of the residuals.\n"
   ]
  },
  {
   "cell_type": "code",
   "execution_count": null,
   "id": "8eee4fc7-3c0e-40c6-9552-c2a9d19408c8",
   "metadata": {},
   "outputs": [],
   "source": []
  },
  {
   "cell_type": "code",
   "execution_count": 5,
   "id": "30c2c11a-42cb-448d-b1a7-ab7d8ded2d5a",
   "metadata": {},
   "outputs": [],
   "source": [
    "# Q5"
   ]
  },
  {
   "cell_type": "code",
   "execution_count": null,
   "id": "ef21ae74-9035-4752-9b0f-fda16833248d",
   "metadata": {},
   "outputs": [],
   "source": []
  }
 ],
 "metadata": {
  "kernelspec": {
   "display_name": "Python 3 (ipykernel)",
   "language": "python",
   "name": "python3"
  },
  "language_info": {
   "codemirror_mode": {
    "name": "ipython",
    "version": 3
   },
   "file_extension": ".py",
   "mimetype": "text/x-python",
   "name": "python",
   "nbconvert_exporter": "python",
   "pygments_lexer": "ipython3",
   "version": "3.11.7"
  }
 },
 "nbformat": 4,
 "nbformat_minor": 5
}
