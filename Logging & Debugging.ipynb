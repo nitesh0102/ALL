{
 "cells": [
  {
   "cell_type": "code",
   "execution_count": 1,
   "id": "566054d6-f3ad-4904-bdec-0abe6c797473",
   "metadata": {},
   "outputs": [
    {
     "name": "stdout",
     "output_type": "stream",
     "text": [
      "this is my print statment\n"
     ]
    }
   ],
   "source": [
    "print(\"this is my print statment\")"
   ]
  },
  {
   "cell_type": "code",
   "execution_count": 3,
   "id": "649c6f77-988c-4214-84a2-b942111523b4",
   "metadata": {},
   "outputs": [],
   "source": [
    "## Logging is something which saves record. To keep it permanent. \n"
   ]
  },
  {
   "cell_type": "code",
   "execution_count": 2,
   "id": "299acba2-92ce-41c2-8af1-b38a18cc5fa0",
   "metadata": {},
   "outputs": [],
   "source": [
    "import logging"
   ]
  },
  {
   "cell_type": "code",
   "execution_count": 6,
   "id": "4458f224-c3bf-4c95-968c-48938746b4ad",
   "metadata": {},
   "outputs": [],
   "source": [
    "logging.basicConfig(filename = \"test.log\",level = logging.INFO)"
   ]
  },
  {
   "cell_type": "code",
   "execution_count": 14,
   "id": "3cff3bdf-610f-40c9-b9d6-ff6f1f237e84",
   "metadata": {},
   "outputs": [],
   "source": [
    "logging.info(\"this is my line of education\") "
   ]
  },
  {
   "cell_type": "code",
   "execution_count": 12,
   "id": "4d45f1cc-2354-4800-8f28-491c0e50ab71",
   "metadata": {},
   "outputs": [],
   "source": [
    "logging.info(\"this my second line of execu/tion\")"
   ]
  },
  {
   "cell_type": "code",
   "execution_count": 13,
   "id": "e259e0b8-ef7b-45b5-b553-a0d3b0a93664",
   "metadata": {},
   "outputs": [],
   "source": [
    "logging.error(\"this is my error\")"
   ]
  },
  {
   "cell_type": "code",
   "execution_count": 16,
   "id": "cdcf8424-75f1-42dd-a089-a7c1d94d4dfa",
   "metadata": {},
   "outputs": [],
   "source": [
    "logging.warning(\"this is warning\")"
   ]
  },
  {
   "cell_type": "code",
   "execution_count": 17,
   "id": "2a30f52c-f11d-4788-b0f4-4f1da49caeac",
   "metadata": {},
   "outputs": [],
   "source": [
    "logging.debug(\"this is debug\")"
   ]
  },
  {
   "cell_type": "markdown",
   "id": "f9bafd10-36ba-4f2d-aa8e-e4ab8ec7c4d3",
   "metadata": {},
   "source": [
    "# Hierarchy "
   ]
  },
  {
   "cell_type": "markdown",
   "id": "2cb03bf8-4424-411e-97ce-a9ea4f90727b",
   "metadata": {},
   "source": [
    "1. Noset\n",
    "2. Debug\n",
    "3. Info\n",
    "4. Warning\n",
    "5. Error\n",
    "6. Critical"
   ]
  },
  {
   "cell_type": "code",
   "execution_count": 18,
   "id": "176c38ad-5f29-4340-b813-7d382b5f68d0",
   "metadata": {},
   "outputs": [],
   "source": [
    "logging.shutdown()"
   ]
  },
  {
   "cell_type": "code",
   "execution_count": 26,
   "id": "7d142376-f937-47ed-8429-4636cb6ba3ab",
   "metadata": {},
   "outputs": [],
   "source": [
    "logging.basicConfig(filename = \"test33.log\",level = logging.DEBUG,format = '%(asctime)s %(message)s')"
   ]
  },
  {
   "cell_type": "code",
   "execution_count": 29,
   "id": "56efb7df-d045-4bd4-976a-28781a72188f",
   "metadata": {},
   "outputs": [],
   "source": [
    "logging.info(\"this is my line of education\")"
   ]
  },
  {
   "cell_type": "code",
   "execution_count": 28,
   "id": "bcc462bc-ded5-4662-9a4e-12ea611c0162",
   "metadata": {},
   "outputs": [],
   "source": [
    "logging.basicConfig(filename = \"test22.log\",level = logging.INFO)"
   ]
  },
  {
   "cell_type": "code",
   "execution_count": 3,
   "id": "e9a5f365-8ed3-4de4-b8b9-615205fa0768",
   "metadata": {},
   "outputs": [],
   "source": [
    "logging.basicConfig(filename = \"test34.log\",level = logging.DEBUG,format = '%(asctime)s %(message)s')"
   ]
  },
  {
   "cell_type": "code",
   "execution_count": 4,
   "id": "4640683e-eda6-453e-a685-5bc31cf65bbb",
   "metadata": {},
   "outputs": [],
   "source": [
    "# Implementation with python "
   ]
  },
  {
   "cell_type": "code",
   "execution_count": 5,
   "id": "571f0c47-f09f-4927-8959-21929d77db76",
   "metadata": {},
   "outputs": [],
   "source": [
    "l = [1,2,3,[4,5,6],\"nitesh\",\"sethia\"]"
   ]
  },
  {
   "cell_type": "code",
   "execution_count": 13,
   "id": "cf4246d2-a02e-4be3-ba50-5d187c4158bc",
   "metadata": {},
   "outputs": [],
   "source": [
    "l1_int = []\n",
    "l2_str = []\n",
    "for i in l:\n",
    "    logging.info(\"this is the start of my first for loop {}\".format(l))\n",
    "    logging.info(\"this is the value of i am logging {}\".format(i))\n",
    "    if type(i)  == list:\n",
    "        for j in i:\n",
    "            if type(j) == int:\n",
    "                l1_int.append(j)\n",
    "    elif type(i) == int:\n",
    "        l1_int.append(i)\n",
    "    else:\n",
    "        if type(i) == str:\n",
    "            l2_str.append(i)"
   ]
  },
  {
   "cell_type": "code",
   "execution_count": 10,
   "id": "e8d8a1b4-d273-4adc-ac7a-93052d9fb856",
   "metadata": {},
   "outputs": [
    {
     "data": {
      "text/plain": [
       "[1, 2, 3, 4, 5, 6]"
      ]
     },
     "execution_count": 10,
     "metadata": {},
     "output_type": "execute_result"
    }
   ],
   "source": [
    "l1_int"
   ]
  },
  {
   "cell_type": "code",
   "execution_count": 11,
   "id": "74ccee90-0df8-4473-9fd1-3bb6f3d19fe8",
   "metadata": {},
   "outputs": [
    {
     "data": {
      "text/plain": [
       "['nitesh', 'sethia']"
      ]
     },
     "execution_count": 11,
     "metadata": {},
     "output_type": "execute_result"
    }
   ],
   "source": [
    "l2_str"
   ]
  },
  {
   "cell_type": "code",
   "execution_count": null,
   "id": "f09b1a02-3c01-4e55-b83f-649cdb4d49b0",
   "metadata": {},
   "outputs": [],
   "source": []
  }
 ],
 "metadata": {
  "kernelspec": {
   "display_name": "Python 3 (ipykernel)",
   "language": "python",
   "name": "python3"
  },
  "language_info": {
   "codemirror_mode": {
    "name": "ipython",
    "version": 3
   },
   "file_extension": ".py",
   "mimetype": "text/x-python",
   "name": "python",
   "nbconvert_exporter": "python",
   "pygments_lexer": "ipython3",
   "version": "3.11.7"
  }
 },
 "nbformat": 4,
 "nbformat_minor": 5
}
