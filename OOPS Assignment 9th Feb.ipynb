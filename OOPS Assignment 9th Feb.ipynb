{
 "cells": [
  {
   "cell_type": "code",
   "execution_count": 1,
   "id": "7dfe2e7e-daed-49c2-8f62-848cca3dd492",
   "metadata": {},
   "outputs": [],
   "source": [
    "#Q1"
   ]
  },
  {
   "cell_type": "code",
   "execution_count": 4,
   "id": "4952fea6-b06c-499c-b077-97fa908ed150",
   "metadata": {},
   "outputs": [],
   "source": [
    "class vechile: \n",
    "    def __init__(self,name_of_vehicle,max_speed,average_of_vehicle):\n",
    "        self.name_of_vehicle = vehicle\n",
    "        self.max_speed = speed\n",
    "        self.average_of_vehicle = avg\n",
    "    "
   ]
  },
  {
   "cell_type": "code",
   "execution_count": 45,
   "id": "d4706595-7f49-4cdc-806a-7ce6ea17e3ce",
   "metadata": {},
   "outputs": [],
   "source": [
    "class vehicle: \n",
    "    def __init__(self,name_of_vehicle,max_speed,average_of_vehicle):\n",
    "        self.name_of_vehicle = name_of_vehicle\n",
    "        self.max_speed = max_speed\n",
    "        self.average_of_vehicle = average_of_vehicle\n",
    "\n",
    "    def test_fun(self):\n",
    "        print(\" The name of the vehicle is :\", self.name_of_vehicle)"
   ]
  },
  {
   "cell_type": "code",
   "execution_count": 20,
   "id": "d346ee34-46f1-4ebd-846f-068507563179",
   "metadata": {},
   "outputs": [],
   "source": [
    "test_vehicle = vehicle(\"Nexon\",220,15)"
   ]
  },
  {
   "cell_type": "code",
   "execution_count": 21,
   "id": "e93407e3-6070-4750-a054-3f62c0896581",
   "metadata": {},
   "outputs": [
    {
     "name": "stdout",
     "output_type": "stream",
     "text": [
      " The name of the vehicle is : Nexon\n"
     ]
    }
   ],
   "source": [
    "test_vehicle.test_fun()"
   ]
  },
  {
   "cell_type": "code",
   "execution_count": 46,
   "id": "f75dc16b-1f07-44d5-91d7-709a787ef9e8",
   "metadata": {},
   "outputs": [],
   "source": [
    "class small_vehicle(vehicle):\n",
    "\n",
    "    def __init__(self,seating_capacity):\n",
    "        self.seating_capacity  = seating_capacity\n",
    "    def test_small_vehicle (self):\n",
    "        #test_fun()\n",
    "        print(\"seating_capacity:\",self.seating_capacity,vehicle.name_of_vehicle())"
   ]
  },
  {
   "cell_type": "code",
   "execution_count": 43,
   "id": "02464b3e-545f-4642-9e23-1127c36f084f",
   "metadata": {},
   "outputs": [],
   "source": [
    "test_obj1 = small_vehicle(5)\n"
   ]
  },
  {
   "cell_type": "code",
   "execution_count": 44,
   "id": "a9f81a8e-d81e-4aef-a761-490f0fc7a4a7",
   "metadata": {},
   "outputs": [
    {
     "ename": "AttributeError",
     "evalue": "type object 'vehicle' has no attribute 'name_of_vehicle'",
     "output_type": "error",
     "traceback": [
      "\u001b[1;31m---------------------------------------------------------------------------\u001b[0m",
      "\u001b[1;31mAttributeError\u001b[0m                            Traceback (most recent call last)",
      "Cell \u001b[1;32mIn[44], line 1\u001b[0m\n\u001b[1;32m----> 1\u001b[0m test_obj1\u001b[38;5;241m.\u001b[39mtest_small_vehicle()\n",
      "Cell \u001b[1;32mIn[40], line 7\u001b[0m, in \u001b[0;36msmall_vehicle.test_small_vehicle\u001b[1;34m(self)\u001b[0m\n\u001b[0;32m      5\u001b[0m \u001b[38;5;28;01mdef\u001b[39;00m \u001b[38;5;21mtest_small_vehicle\u001b[39m (\u001b[38;5;28mself\u001b[39m):\n\u001b[0;32m      6\u001b[0m     \u001b[38;5;66;03m#test_fun()\u001b[39;00m\n\u001b[1;32m----> 7\u001b[0m     \u001b[38;5;28mprint\u001b[39m(\u001b[38;5;124m\"\u001b[39m\u001b[38;5;124mseating_capacity:\u001b[39m\u001b[38;5;124m\"\u001b[39m,\u001b[38;5;28mself\u001b[39m\u001b[38;5;241m.\u001b[39mseating_capacity,vehicle\u001b[38;5;241m.\u001b[39mname_of_vehicle())\n",
      "\u001b[1;31mAttributeError\u001b[0m: type object 'vehicle' has no attribute 'name_of_vehicle'"
     ]
    }
   ],
   "source": [
    "test_obj1.test_small_vehicle()"
   ]
  },
  {
   "cell_type": "code",
   "execution_count": 15,
   "id": "babe612f-832d-48e1-857b-a4298e448679",
   "metadata": {},
   "outputs": [],
   "source": [
    "class vechile: \n",
    "    def __init__(self,name_of_vehicle,max_speed,average_of_vehicle):\n",
    "        self.name_of_vehicle = name_of_vehicle\n",
    "        self.max_speed = max_speed\n",
    "        self.average_of_vehicle = average_of_vehicle\n",
    "    def test_fun1(self):\n",
    "        return name_of_vehicle\n",
    "    "
   ]
  },
  {
   "cell_type": "code",
   "execution_count": 6,
   "id": "5008be90-7f66-43a7-babb-9e8a3d6d8281",
   "metadata": {},
   "outputs": [],
   "source": [
    "innova = vechile(\"innova\",200,15)"
   ]
  },
  {
   "cell_type": "code",
   "execution_count": 7,
   "id": "58f3ec19-a244-4e7b-bbb4-1d83065724e3",
   "metadata": {},
   "outputs": [
    {
     "data": {
      "text/plain": [
       "15"
      ]
     },
     "execution_count": 7,
     "metadata": {},
     "output_type": "execute_result"
    }
   ],
   "source": [
    "innova.average_of_vehicle"
   ]
  },
  {
   "cell_type": "code",
   "execution_count": 21,
   "id": "a634283a-1ee8-47de-a6ec-ea53daa9c831",
   "metadata": {},
   "outputs": [],
   "source": [
    "class vc(vechile):\n",
    "    def __init__(self,seating_capacity):\n",
    "        self.seating_capacity = seating_capacity\n",
    "    def test_fun(self):\n",
    "        return self.seating_capacity"
   ]
  },
  {
   "cell_type": "code",
   "execution_count": 22,
   "id": "e4799df4-f4a3-4be4-988f-eb2e2c3794fb",
   "metadata": {},
   "outputs": [],
   "source": [
    "suzuki = vc(5)\n",
    "#suzuki=vechile(\"maruti\", 100,20)"
   ]
  },
  {
   "cell_type": "code",
   "execution_count": 24,
   "id": "8258c403-4eb6-4451-8f50-0e3c0d6bf6bd",
   "metadata": {},
   "outputs": [
    {
     "ename": "NameError",
     "evalue": "name 'name_of_vehicle' is not defined",
     "output_type": "error",
     "traceback": [
      "\u001b[1;31m---------------------------------------------------------------------------\u001b[0m",
      "\u001b[1;31mNameError\u001b[0m                                 Traceback (most recent call last)",
      "Cell \u001b[1;32mIn[24], line 1\u001b[0m\n\u001b[1;32m----> 1\u001b[0m suzuki\u001b[38;5;241m.\u001b[39mtest_fun1()\n",
      "Cell \u001b[1;32mIn[15], line 7\u001b[0m, in \u001b[0;36mvechile.test_fun1\u001b[1;34m(self)\u001b[0m\n\u001b[0;32m      6\u001b[0m \u001b[38;5;28;01mdef\u001b[39;00m \u001b[38;5;21mtest_fun1\u001b[39m(\u001b[38;5;28mself\u001b[39m):\n\u001b[1;32m----> 7\u001b[0m     \u001b[38;5;28;01mreturn\u001b[39;00m name_of_vehicle\n",
      "\u001b[1;31mNameError\u001b[0m: name 'name_of_vehicle' is not defined"
     ]
    }
   ],
   "source": [
    "suzuki.test_fun1()"
   ]
  },
  {
   "cell_type": "code",
   "execution_count": null,
   "id": "2cd5e2e0-db25-4d26-a6ac-c92ca0b81ac3",
   "metadata": {},
   "outputs": [],
   "source": []
  }
 ],
 "metadata": {
  "kernelspec": {
   "display_name": "Python 3 (ipykernel)",
   "language": "python",
   "name": "python3"
  },
  "language_info": {
   "codemirror_mode": {
    "name": "ipython",
    "version": 3
   },
   "file_extension": ".py",
   "mimetype": "text/x-python",
   "name": "python",
   "nbconvert_exporter": "python",
   "pygments_lexer": "ipython3",
   "version": "3.11.7"
  }
 },
 "nbformat": 4,
 "nbformat_minor": 5
}
