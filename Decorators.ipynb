{
 "cells": [
  {
   "cell_type": "code",
   "execution_count": 5,
   "id": "16825075-8977-4013-97a3-0b9cbf116419",
   "metadata": {},
   "outputs": [],
   "source": [
    "def test_fun():\n",
    "    print(\"this is start of my function\")\n",
    "    print(4*5)\n",
    "    print(\"this is end of my function\")"
   ]
  },
  {
   "cell_type": "code",
   "execution_count": 6,
   "id": "7a4f0b1c-1e9c-4882-8dd3-0fc83b8f9146",
   "metadata": {},
   "outputs": [
    {
     "name": "stdout",
     "output_type": "stream",
     "text": [
      "this is start of my function\n",
      "20\n",
      "this is end of my function\n"
     ]
    }
   ],
   "source": [
    "test_fun()"
   ]
  },
  {
   "cell_type": "code",
   "execution_count": 7,
   "id": "e916be9f-ee3a-48cb-b68a-5c9fb5377b1f",
   "metadata": {},
   "outputs": [],
   "source": [
    "#Decorating the function "
   ]
  },
  {
   "cell_type": "code",
   "execution_count": 27,
   "id": "bb1579e8-a473-42e5-80a1-3f7b020d23df",
   "metadata": {},
   "outputs": [],
   "source": [
    "def deco(func):\n",
    "    def inner_deco():\n",
    "        print(\"this is the start of my function\")\n",
    "        func()\n",
    "        print(\"this is the end of my function\")\n",
    "    return inner_deco"
   ]
  },
  {
   "cell_type": "code",
   "execution_count": 28,
   "id": "f785fd5e-c909-4400-85da-b1af99b31d9a",
   "metadata": {},
   "outputs": [],
   "source": [
    "@deco\n",
    "def test_fun2():\n",
    "    print(4*5)"
   ]
  },
  {
   "cell_type": "code",
   "execution_count": 29,
   "id": "cc962661-c9bc-464b-9cd9-8369879f3d21",
   "metadata": {},
   "outputs": [
    {
     "data": {
      "text/plain": [
       "<function __main__.deco.<locals>.inner_deco()>"
      ]
     },
     "execution_count": 29,
     "metadata": {},
     "output_type": "execute_result"
    }
   ],
   "source": [
    "deco(test_fun2)"
   ]
  },
  {
   "cell_type": "code",
   "execution_count": 30,
   "id": "58d29ff9-3d51-4309-8336-9907372c1e2e",
   "metadata": {},
   "outputs": [
    {
     "name": "stdout",
     "output_type": "stream",
     "text": [
      "this is the start of my function\n",
      "20\n",
      "this is the end of my function\n"
     ]
    }
   ],
   "source": [
    "test_fun2()"
   ]
  },
  {
   "cell_type": "code",
   "execution_count": null,
   "id": "22d3876b-7b8e-465d-b896-b42ebaf9f746",
   "metadata": {},
   "outputs": [],
   "source": []
  }
 ],
 "metadata": {
  "kernelspec": {
   "display_name": "Python 3 (ipykernel)",
   "language": "python",
   "name": "python3"
  },
  "language_info": {
   "codemirror_mode": {
    "name": "ipython",
    "version": 3
   },
   "file_extension": ".py",
   "mimetype": "text/x-python",
   "name": "python",
   "nbconvert_exporter": "python",
   "pygments_lexer": "ipython3",
   "version": "3.11.7"
  }
 },
 "nbformat": 4,
 "nbformat_minor": 5
}
