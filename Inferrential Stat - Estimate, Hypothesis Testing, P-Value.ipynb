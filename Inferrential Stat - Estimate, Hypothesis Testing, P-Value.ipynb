{
 "cells": [
  {
   "cell_type": "code",
   "execution_count": 2,
   "id": "65f809ac-014e-45ab-b9f6-9245ad92ea78",
   "metadata": {},
   "outputs": [],
   "source": [
    "#Estimate - It is a speicified observed numerical value used to estimate unknown population parameter. "
   ]
  },
  {
   "cell_type": "code",
   "execution_count": null,
   "id": "f134fff5-a985-4cb0-9c29-1c641e222c7c",
   "metadata": {},
   "outputs": [],
   "source": [
    "Types of Estimate: \n",
    "1. Point Estimate : Single Numerical value to estimate an unknown popultion \n",
    "Ex: Sample mean is a point estimate of population mean \n",
    "Point estimate have error \n",
    "2. Interval Estimate : Range of values used to estimate the unknown population parameter\n",
    "\n",
    "This is called as Confidence Interval. "
   ]
  },
  {
   "cell_type": "code",
   "execution_count": null,
   "id": "ab4374c7-84ee-481c-b5eb-9ed1019a57d1",
   "metadata": {},
   "outputs": [],
   "source": []
  },
  {
   "cell_type": "markdown",
   "id": "a9aa7158-6ecc-4e2a-acc2-36770b66e71a",
   "metadata": {},
   "source": [
    "# Hypothesis Testing "
   ]
  },
  {
   "cell_type": "code",
   "execution_count": null,
   "id": "59a6de6e-48cc-4931-9cd7-8c4e30d1b2ae",
   "metadata": {},
   "outputs": [],
   "source": [
    "Hypothesis is part of inferntial stats. Main Aim of IS is to come to an conlusion using assumption for an unknown population"
   ]
  },
  {
   "cell_type": "code",
   "execution_count": null,
   "id": "d75ede5c-ef73-4de9-be4e-49cec7ef7e42",
   "metadata": {},
   "outputs": [],
   "source": []
  },
  {
   "cell_type": "code",
   "execution_count": null,
   "id": "8337b775-2ae3-4ae5-bb3c-323f186f20f9",
   "metadata": {},
   "outputs": [],
   "source": [
    "Hypothesis testing mechanism: \n",
    "\n",
    "Step 1: \n",
    "Write Null Hypothesis H0\n",
    "\n",
    "The assumption you are begining with. \n",
    "\n",
    "Step 2: \n",
    "Write Alternate Hypothesis H1\n",
    "\n",
    "Ex: If a person has commited some crime then null hypothesis is Inncoent untill proven guilty (H0) and H1 is Guilty. \n",
    "\n",
    "Step 3: \n",
    "Experiments : Statistical Analysis ( Z-test, T-test, Anova etc.) \n",
    "Basically collecting proofs. \n",
    "\n",
    "Step 4: \n",
    "Accept the null hypothesis or reject the null hypothesis. "
   ]
  },
  {
   "cell_type": "code",
   "execution_count": null,
   "id": "2670bae4-af0f-437a-a28d-48b567f89c7c",
   "metadata": {},
   "outputs": [],
   "source": []
  },
  {
   "cell_type": "markdown",
   "id": "7b8143c7-da84-4f25-822a-e58936960a83",
   "metadata": {},
   "source": [
    "## P-Value"
   ]
  },
  {
   "cell_type": "code",
   "execution_count": null,
   "id": "6b964b5e-457b-4c4a-b50e-7a6ff7fb4d09",
   "metadata": {},
   "outputs": [],
   "source": [
    "P value is a number, calculated from a statistical test,\n",
    "that describes how likely you are to have found a particular set of observation if the null \n",
    "hypothesis were true. \n",
    "\n",
    "P-values are used in hypothesis testing to help decide whether to reject the null hypothesis. "
   ]
  }
 ],
 "metadata": {
  "kernelspec": {
   "display_name": "Python 3 (ipykernel)",
   "language": "python",
   "name": "python3"
  },
  "language_info": {
   "codemirror_mode": {
    "name": "ipython",
    "version": 3
   },
   "file_extension": ".py",
   "mimetype": "text/x-python",
   "name": "python",
   "nbconvert_exporter": "python",
   "pygments_lexer": "ipython3",
   "version": "3.11.7"
  }
 },
 "nbformat": 4,
 "nbformat_minor": 5
}
