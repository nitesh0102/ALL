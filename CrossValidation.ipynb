{
 "cells": [
  {
   "cell_type": "code",
   "execution_count": null,
   "id": "d8a8d117-a4b2-4878-a0af-9b0e9db3c78c",
   "metadata": {},
   "outputs": [],
   "source": [
    "Data : \n",
    "\n",
    "Train                            Test\n",
    "\n",
    "train   Validation "
   ]
  },
  {
   "cell_type": "code",
   "execution_count": null,
   "id": "387ed841-64f9-4927-987e-3cb2d01f01e2",
   "metadata": {},
   "outputs": [],
   "source": []
  },
  {
   "cell_type": "code",
   "execution_count": null,
   "id": "3fdfc1cc-7150-4a6a-9d79-1fff8925a9f8",
   "metadata": {},
   "outputs": [],
   "source": [
    "Train Data = 1000\n",
    "CV = 5\n",
    "\n",
    "instance \n",
    "\n",
    "CV = 1\n",
    "\n",
    "1st 200 Validation Next 800 Train\n",
    "we will use this data \n",
    "and check model accuracy \n",
    "AC1\n",
    "\n",
    "\n",
    "instance \n",
    "\n",
    "CV = 2\n",
    "Next 200 Validation  Remaining Training \n",
    "\n",
    "AC2\n",
    "........\n",
    "\n",
    "AC3\n",
    "AC4 and AC5\n",
    "\n",
    "\n",
    "Avg of all the accuracy will be final accuracy for model. "
   ]
  },
  {
   "cell_type": "code",
   "execution_count": null,
   "id": "7674ef73-0fc2-4e27-b808-a613cabcb3d2",
   "metadata": {},
   "outputs": [],
   "source": []
  }
 ],
 "metadata": {
  "kernelspec": {
   "display_name": "Python 3 (ipykernel)",
   "language": "python",
   "name": "python3"
  },
  "language_info": {
   "codemirror_mode": {
    "name": "ipython",
    "version": 3
   },
   "file_extension": ".py",
   "mimetype": "text/x-python",
   "name": "python",
   "nbconvert_exporter": "python",
   "pygments_lexer": "ipython3",
   "version": "3.11.7"
  }
 },
 "nbformat": 4,
 "nbformat_minor": 5
}
