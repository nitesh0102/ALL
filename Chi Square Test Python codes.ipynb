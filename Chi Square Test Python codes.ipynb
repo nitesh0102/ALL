{
 "cells": [
  {
   "cell_type": "markdown",
   "id": "d39133aa-9e39-4777-ae9d-fa4193985f99",
   "metadata": {},
   "source": [
    "## Chi Square test"
   ]
  },
  {
   "cell_type": "code",
   "execution_count": null,
   "id": "d645b3de-946f-4bea-b7a6-2612cde401a9",
   "metadata": {},
   "outputs": [],
   "source": [
    "Chi Square test for goodness of fit."
   ]
  },
  {
   "cell_type": "code",
   "execution_count": null,
   "id": "0892c289-838c-4ab9-abbc-f25047977e95",
   "metadata": {},
   "outputs": [],
   "source": [
    "This test claims about population proportion.  (Proportion - Categorial) "
   ]
  },
  {
   "cell_type": "code",
   "execution_count": null,
   "id": "32177e85-ad36-40de-8b9c-9fde1d85cb47",
   "metadata": {},
   "outputs": [],
   "source": [
    "It is a non parametric test that is performed on categorial(ordinal and nominal) data."
   ]
  },
  {
   "cell_type": "code",
   "execution_count": null,
   "id": "0ec7de39-6a28-48fb-b0ca-3d0c7383cfa6",
   "metadata": {},
   "outputs": [],
   "source": [
    "Ex: \n",
    "There is a population of male who likes diffrent color bikes. \n",
    "\n",
    "Color             Count(Theory)         Sample \n",
    "Yellow            1/3                    22\n",
    "Red               1/3                    17 \n",
    "Orange            1/3                    59\n",
    "\n",
    "Now does this sample fit the theory. \n",
    "\n",
    "Chi-Square test is perfromed to check fit. \n",
    "\n",
    "Theory - Theory categorial distribution \n",
    "Sample - Observed Categorial distribution \n",
    "    \n"
   ]
  },
  {
   "cell_type": "code",
   "execution_count": null,
   "id": "077d7248-98dd-472d-9f5e-28d773dbdcc1",
   "metadata": {},
   "outputs": [],
   "source": [
    "Goodness of fit test:\n",
    "\n",
    "\n",
    "In a science class of 75 students, 11 are left handed. Does this class fit the theory that 12% of people are left handed? \n",
    "\n",
    "Ans:          \n",
    "\n",
    "Type                          Theory                     Observed \n",
    "Left handed                   12 - 9                        11\n",
    "Right handed                  88 - 66                       64"
   ]
  },
  {
   "cell_type": "code",
   "execution_count": null,
   "id": "ca29fadc-a77e-48f3-bd08-732c0476a744",
   "metadata": {},
   "outputs": [],
   "source": []
  },
  {
   "cell_type": "code",
   "execution_count": null,
   "id": "92976284-5e97-4bea-8c22-1358450f4c23",
   "metadata": {},
   "outputs": [],
   "source": [
    "Chi Square For goodness of fit "
   ]
  },
  {
   "cell_type": "code",
   "execution_count": null,
   "id": "430da3cf-522d-4c7a-832f-d0b12802c98e",
   "metadata": {},
   "outputs": [],
   "source": [
    "Expected Data-2010\n",
    "\n",
    "<50   20%\n",
    "50-75 30%\n",
    ">75    50%"
   ]
  },
  {
   "cell_type": "code",
   "execution_count": null,
   "id": "9ca5cdc0-671a-40dc-9806-3255613c0ee8",
   "metadata": {},
   "outputs": [],
   "source": [
    "Observed Data (n = 500) -2020\n",
    "<50       140\n",
    "50-75     160\n",
    ">75       200"
   ]
  },
  {
   "cell_type": "code",
   "execution_count": null,
   "id": "0d33f27b-5b10-464a-a81e-dfdb8c11e11e",
   "metadata": {},
   "outputs": [],
   "source": [
    "Expected in 2020 based on 2010\n",
    "\n",
    "<50          100\n",
    "50-75        150\n",
    ">75          250"
   ]
  },
  {
   "cell_type": "code",
   "execution_count": null,
   "id": "b289ca02-c508-4f19-a003-587dce382896",
   "metadata": {},
   "outputs": [],
   "source": [
    "Applying the chi Square test to check goodness of test\n",
    "\n",
    "1. Null Hypothesis : H0 = The data meets the expectation \n",
    "2. Alt Hypothesis : H1 = The data does not meet the expectation \n",
    "\n",
    "\n",
    "3. Alpha = 0.05 \n",
    "C.I. = 95% \n",
    "\n",
    "\n",
    "4. Degree of Freedom \n",
    "df = k-1 = 3 - 1 = 2\n",
    "\n",
    "\n",
    "5. Decision Boundary \n",
    "\n",
    "\n",
    "Within C.I. Accept the null hypothesis\n",
    "\n",
    "\n",
    "Use Chi Square table \n",
    "\n",
    "Critical Value = 5.991\n",
    "\n",
    "if my Chi- Square test is greater than 5.99 we will reject the null hypothesis else we fail to reject the null hypothesis. \n",
    "\n",
    "\n",
    "X^2 = sum(O-E)^2/ E\n",
    "\n",
    " for this example : 26.66\n",
    "\n",
    "Chi Sqaure test value is greater than 5.99 hence we have to reject the null hypothesis. \n",
    "\n",
    "conclusion : The weights of the population of 2020 are different than those expected in 2010 population. \n",
    "\n"
   ]
  },
  {
   "cell_type": "code",
   "execution_count": null,
   "id": "08bfb649-a13b-4514-98b2-2e3b1f72f34b",
   "metadata": {},
   "outputs": [],
   "source": []
  },
  {
   "cell_type": "markdown",
   "id": "c1a9b51b-a09b-47bb-b997-5937d8885b3c",
   "metadata": {},
   "source": [
    "## Chi Square test using Python "
   ]
  },
  {
   "cell_type": "code",
   "execution_count": 1,
   "id": "f8e1080b-4521-4a1c-9c33-e0e09e5a141e",
   "metadata": {},
   "outputs": [],
   "source": [
    "import scipy.stats as stat\n",
    "import numpy as np"
   ]
  },
  {
   "cell_type": "code",
   "execution_count": 2,
   "id": "af9ba2af-9f51-4e92-ac0f-5a96faa0b08d",
   "metadata": {},
   "outputs": [],
   "source": [
    "## no of hours student study daily in a weekly basis\n",
    "\n",
    "\n",
    "expected_data =  [8,6,7,9,6,9,7]\n",
    "\n",
    "sampled_data  = [7,8,6,9,9,6,7]"
   ]
  },
  {
   "cell_type": "code",
   "execution_count": 3,
   "id": "589cb9fd-eba0-4d27-9780-0fa5d9594450",
   "metadata": {},
   "outputs": [
    {
     "data": {
      "text/plain": [
       "52"
      ]
     },
     "execution_count": 3,
     "metadata": {},
     "output_type": "execute_result"
    }
   ],
   "source": [
    "sum(expected_data)"
   ]
  },
  {
   "cell_type": "code",
   "execution_count": 4,
   "id": "c2d791df-1491-498f-ae54-76ab7fa9f9b0",
   "metadata": {},
   "outputs": [
    {
     "data": {
      "text/plain": [
       "52"
      ]
     },
     "execution_count": 4,
     "metadata": {},
     "output_type": "execute_result"
    }
   ],
   "source": [
    "sum(sampled_data)"
   ]
  },
  {
   "cell_type": "code",
   "execution_count": null,
   "id": "daada3b3-c9de-42aa-9978-29a496086bb2",
   "metadata": {},
   "outputs": [],
   "source": [
    "## Chi Square Goodness of fit "
   ]
  },
  {
   "cell_type": "code",
   "execution_count": 6,
   "id": "cc579af7-e9a1-4e5b-8d5d-f7df55c39188",
   "metadata": {},
   "outputs": [],
   "source": [
    "chisquare_test_stat,p_value = stat.chisquare(expected_data,sampled_data)"
   ]
  },
  {
   "cell_type": "code",
   "execution_count": 8,
   "id": "5ba66213-57bd-44bf-b581-fba2c10cbc59",
   "metadata": {},
   "outputs": [
    {
     "name": "stdout",
     "output_type": "stream",
     "text": [
      "3.3095238095238093 0.769114675518927\n"
     ]
    }
   ],
   "source": [
    "print(chisquare_test_stat,p_value)"
   ]
  },
  {
   "cell_type": "code",
   "execution_count": 9,
   "id": "ddb8a198-d356-4905-8d19-7d6aa8458e32",
   "metadata": {},
   "outputs": [],
   "source": [
    "## Find the critical Value\n",
    "\n",
    "significance = 0.05 \n",
    "df = len(expected_data) - 1"
   ]
  },
  {
   "cell_type": "code",
   "execution_count": 10,
   "id": "14e33770-ac21-4fcb-a200-4ec30dbe30a6",
   "metadata": {},
   "outputs": [],
   "source": [
    "critical_value = stat.chi2.ppf(1-significance,df)"
   ]
  },
  {
   "cell_type": "code",
   "execution_count": 11,
   "id": "a71b0eaf-affb-463e-8b52-8a1cb3e53b87",
   "metadata": {},
   "outputs": [
    {
     "data": {
      "text/plain": [
       "12.591587243743977"
      ]
     },
     "execution_count": 11,
     "metadata": {},
     "output_type": "execute_result"
    }
   ],
   "source": [
    "critical_value"
   ]
  },
  {
   "cell_type": "code",
   "execution_count": 13,
   "id": "76adf366-3b17-451c-a169-835149a8c163",
   "metadata": {},
   "outputs": [
    {
     "name": "stdout",
     "output_type": "stream",
     "text": [
      "Accept the null hypothesis\n"
     ]
    }
   ],
   "source": [
    "if chisquare_test_stat > critical_value: \n",
    "    print(\"Reject the null hypothesis\")\n",
    "else: \n",
    "    print(\"Accept the null hypothesis\")"
   ]
  },
  {
   "cell_type": "code",
   "execution_count": null,
   "id": "659307a3-9645-42fc-93a9-4b056c780427",
   "metadata": {},
   "outputs": [],
   "source": []
  }
 ],
 "metadata": {
  "kernelspec": {
   "display_name": "Python 3 (ipykernel)",
   "language": "python",
   "name": "python3"
  },
  "language_info": {
   "codemirror_mode": {
    "name": "ipython",
    "version": 3
   },
   "file_extension": ".py",
   "mimetype": "text/x-python",
   "name": "python",
   "nbconvert_exporter": "python",
   "pygments_lexer": "ipython3",
   "version": "3.11.7"
  }
 },
 "nbformat": 4,
 "nbformat_minor": 5
}
