{
 "cells": [
  {
   "cell_type": "code",
   "execution_count": 2,
   "id": "34cf082f-5289-4dfa-bb6c-9d66405e95da",
   "metadata": {},
   "outputs": [],
   "source": [
    "n = 3\n",
    "p = 2"
   ]
  },
  {
   "cell_type": "code",
   "execution_count": 3,
   "id": "ca0da497-f461-43bf-b845-8ece61f08b4b",
   "metadata": {},
   "outputs": [],
   "source": [
    "def test(n,p):\n",
    "    return n*p"
   ]
  },
  {
   "cell_type": "code",
   "execution_count": 4,
   "id": "dab37ba4-c01c-4469-a225-6065062b7ce9",
   "metadata": {},
   "outputs": [
    {
     "data": {
      "text/plain": [
       "6"
      ]
     },
     "execution_count": 4,
     "metadata": {},
     "output_type": "execute_result"
    }
   ],
   "source": [
    "test(2,3)"
   ]
  },
  {
   "cell_type": "code",
   "execution_count": 5,
   "id": "3704f48a-9476-41e6-8845-7f2fe67b65f2",
   "metadata": {},
   "outputs": [],
   "source": [
    "a = lambda n,p : n*p"
   ]
  },
  {
   "cell_type": "code",
   "execution_count": 6,
   "id": "29108d59-de4d-4a88-bbff-3bb7ec9abf69",
   "metadata": {},
   "outputs": [
    {
     "data": {
      "text/plain": [
       "6"
      ]
     },
     "execution_count": 6,
     "metadata": {},
     "output_type": "execute_result"
    }
   ],
   "source": [
    "a(2,3)"
   ]
  },
  {
   "cell_type": "code",
   "execution_count": 14,
   "id": "6fead178-5ba2-4132-b25e-d498709c7351",
   "metadata": {},
   "outputs": [],
   "source": [
    "add = lambda x,y,z : x+y+z"
   ]
  },
  {
   "cell_type": "code",
   "execution_count": 15,
   "id": "b48866b5-01c6-4e8f-ad91-7cdc1814f517",
   "metadata": {},
   "outputs": [
    {
     "data": {
      "text/plain": [
       "9"
      ]
     },
     "execution_count": 15,
     "metadata": {},
     "output_type": "execute_result"
    }
   ],
   "source": [
    "add(2,3,4)"
   ]
  },
  {
   "cell_type": "code",
   "execution_count": 16,
   "id": "6845ea98-a3e8-49b7-a5e3-7adef0e8fd02",
   "metadata": {},
   "outputs": [],
   "source": [
    "max_two = lambda x,y : x if x>y else y "
   ]
  },
  {
   "cell_type": "code",
   "execution_count": 17,
   "id": "c74eeac7-447d-46ec-808a-593012b339b1",
   "metadata": {},
   "outputs": [
    {
     "data": {
      "text/plain": [
       "3"
      ]
     },
     "execution_count": 17,
     "metadata": {},
     "output_type": "execute_result"
    }
   ],
   "source": [
    "max_two(2,3)"
   ]
  },
  {
   "cell_type": "code",
   "execution_count": 18,
   "id": "e89f5d0f-eeae-4f1b-9709-4db30fec5402",
   "metadata": {},
   "outputs": [
    {
     "data": {
      "text/plain": [
       "23"
      ]
     },
     "execution_count": 18,
     "metadata": {},
     "output_type": "execute_result"
    }
   ],
   "source": [
    "max_two(23,3)"
   ]
  },
  {
   "cell_type": "code",
   "execution_count": 19,
   "id": "8666448b-ec27-4f43-9ddc-c88f5c814b10",
   "metadata": {},
   "outputs": [],
   "source": [
    "len_st = lambda x : len(x)"
   ]
  },
  {
   "cell_type": "code",
   "execution_count": 20,
   "id": "98d8e260-b8db-4727-a8db-8a30663e9527",
   "metadata": {},
   "outputs": [
    {
     "data": {
      "text/plain": [
       "7"
      ]
     },
     "execution_count": 20,
     "metadata": {},
     "output_type": "execute_result"
    }
   ],
   "source": [
    "len_st('sfdffsd')"
   ]
  },
  {
   "cell_type": "code",
   "execution_count": 22,
   "id": "2774c774-f694-42aa-9034-2ba9c881c0ff",
   "metadata": {},
   "outputs": [],
   "source": [
    "########## Map "
   ]
  },
  {
   "cell_type": "code",
   "execution_count": 23,
   "id": "1a14602c-9aab-4e5d-9a16-635f35e08823",
   "metadata": {},
   "outputs": [],
   "source": [
    "####  Map is used with lists "
   ]
  },
  {
   "cell_type": "code",
   "execution_count": 24,
   "id": "c7b71318-6e9b-4f6e-8e9c-e92bf2b9bcc1",
   "metadata": {},
   "outputs": [],
   "source": [
    "l = [1,2,3,4,5]"
   ]
  },
  {
   "cell_type": "code",
   "execution_count": 25,
   "id": "0a31fe94-ef53-46b8-9526-542d04a3be88",
   "metadata": {},
   "outputs": [],
   "source": [
    "def test(l):\n",
    "    l1 = []\n",
    "    for i in l:\n",
    "        l1.append(i**2)\n",
    "    return l1"
   ]
  },
  {
   "cell_type": "code",
   "execution_count": 26,
   "id": "ebe2da22-fad9-40bb-b91e-4e8174454e78",
   "metadata": {},
   "outputs": [
    {
     "data": {
      "text/plain": [
       "[1, 4, 9, 16, 25]"
      ]
     },
     "execution_count": 26,
     "metadata": {},
     "output_type": "execute_result"
    }
   ],
   "source": [
    "test(l)"
   ]
  },
  {
   "cell_type": "code",
   "execution_count": 27,
   "id": "fe27cf8c-7001-4e42-b63a-6f23637c0dae",
   "metadata": {},
   "outputs": [],
   "source": [
    "def sq(x):\n",
    "    return x**2"
   ]
  },
  {
   "cell_type": "code",
   "execution_count": 28,
   "id": "d3d36987-79f6-4960-bf64-edf77cfe56c6",
   "metadata": {},
   "outputs": [
    {
     "data": {
      "text/plain": [
       "[1, 4, 9, 16, 25]"
      ]
     },
     "execution_count": 28,
     "metadata": {},
     "output_type": "execute_result"
    }
   ],
   "source": [
    "list(map(sq,l))"
   ]
  },
  {
   "cell_type": "code",
   "execution_count": 29,
   "id": "f050b6fb-42cc-4be6-92f1-8b36b015217a",
   "metadata": {},
   "outputs": [
    {
     "data": {
      "text/plain": [
       "[1, 4, 9, 16, 25]"
      ]
     },
     "execution_count": 29,
     "metadata": {},
     "output_type": "execute_result"
    }
   ],
   "source": [
    "list(map(lambda x : x**2 , l))"
   ]
  },
  {
   "cell_type": "code",
   "execution_count": 30,
   "id": "651c3e57-b834-437a-b3d3-4d5641cfbebd",
   "metadata": {},
   "outputs": [
    {
     "data": {
      "text/plain": [
       "[11, 12, 13, 14, 15]"
      ]
     },
     "execution_count": 30,
     "metadata": {},
     "output_type": "execute_result"
    }
   ],
   "source": [
    "list(map(lambda x : x+10,l))"
   ]
  },
  {
   "cell_type": "code",
   "execution_count": 31,
   "id": "e8e91176-dc17-4001-93f3-d2146c390033",
   "metadata": {},
   "outputs": [
    {
     "data": {
      "text/plain": [
       "['1', '2', '3', '4', '5']"
      ]
     },
     "execution_count": 31,
     "metadata": {},
     "output_type": "execute_result"
    }
   ],
   "source": [
    "list(map(lambda x : str(x),l))"
   ]
  },
  {
   "cell_type": "code",
   "execution_count": 32,
   "id": "afaa2d9a-71c9-44ca-992f-394803992adb",
   "metadata": {},
   "outputs": [],
   "source": [
    "from functools import reduce "
   ]
  },
  {
   "cell_type": "code",
   "execution_count": 50,
   "id": "b345baeb-945d-48be-80ed-2c12b077cc48",
   "metadata": {},
   "outputs": [],
   "source": [
    "l = [1,2,3,4,5,8,6]\n",
    "l1 = [1,2,3,4,5,8,6,9]"
   ]
  },
  {
   "cell_type": "code",
   "execution_count": 39,
   "id": "cc9b2e40-e4d4-4cfb-8c30-4032e22d18fb",
   "metadata": {},
   "outputs": [
    {
     "data": {
      "text/plain": [
       "29"
      ]
     },
     "execution_count": 39,
     "metadata": {},
     "output_type": "execute_result"
    }
   ],
   "source": [
    "reduce(lambda x,y : x+y , l)"
   ]
  },
  {
   "cell_type": "code",
   "execution_count": 40,
   "id": "a23425ba-bbf0-4ce8-9753-496f52de5aaf",
   "metadata": {},
   "outputs": [
    {
     "data": {
      "text/plain": [
       "8"
      ]
     },
     "execution_count": 40,
     "metadata": {},
     "output_type": "execute_result"
    }
   ],
   "source": [
    "reduce(lambda x,y : x if x>y else y , l)"
   ]
  },
  {
   "cell_type": "code",
   "execution_count": 44,
   "id": "158706ad-fb0c-4fbc-a1fb-49246975ada5",
   "metadata": {},
   "outputs": [],
   "source": [
    "z = lambda x,y : x if x>y else y"
   ]
  },
  {
   "cell_type": "code",
   "execution_count": 52,
   "id": "b5d726c0-87fe-4781-9334-11c1c4c67001",
   "metadata": {},
   "outputs": [
    {
     "data": {
      "text/plain": [
       "[1, 2, 3, 4, 5, 8, 6]"
      ]
     },
     "execution_count": 52,
     "metadata": {},
     "output_type": "execute_result"
    }
   ],
   "source": [
    "list(map(z,l1,l))"
   ]
  },
  {
   "cell_type": "code",
   "execution_count": 60,
   "id": "bbe374ab-920d-4aca-9229-05bead553cce",
   "metadata": {},
   "outputs": [
    {
     "data": {
      "text/plain": [
       "[2, 4, 6, 8, 10]"
      ]
     },
     "execution_count": 60,
     "metadata": {},
     "output_type": "execute_result"
    }
   ],
   "source": [
    "list(filter(lambda x : x%2 ==0 ,l))"
   ]
  },
  {
   "cell_type": "code",
   "execution_count": 59,
   "id": "3442c350-451f-4401-a5b7-e77f704b2f1c",
   "metadata": {},
   "outputs": [],
   "source": [
    "l = [1,2,3,4,5,6,7,8,9,10]"
   ]
  },
  {
   "cell_type": "code",
   "execution_count": null,
   "id": "b1c94d6b-782f-41f6-8bfe-62c1c54d157d",
   "metadata": {},
   "outputs": [],
   "source": []
  }
 ],
 "metadata": {
  "kernelspec": {
   "display_name": "Python 3 (ipykernel)",
   "language": "python",
   "name": "python3"
  },
  "language_info": {
   "codemirror_mode": {
    "name": "ipython",
    "version": 3
   },
   "file_extension": ".py",
   "mimetype": "text/x-python",
   "name": "python",
   "nbconvert_exporter": "python",
   "pygments_lexer": "ipython3",
   "version": "3.11.7"
  }
 },
 "nbformat": 4,
 "nbformat_minor": 5
}
