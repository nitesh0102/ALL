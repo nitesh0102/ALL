{
 "cells": [
  {
   "cell_type": "code",
   "execution_count": null,
   "id": "492b4377-3d87-4cac-aa2b-bcddf055a162",
   "metadata": {},
   "outputs": [],
   "source": [
    "Ridge Regression (L2 Regularization): \n",
    "\n",
    "Ridge regression is for reducing overfitting. "
   ]
  },
  {
   "cell_type": "code",
   "execution_count": null,
   "id": "fb84250a-85db-4187-94c1-54bd8e289e12",
   "metadata": {},
   "outputs": [],
   "source": []
  },
  {
   "cell_type": "code",
   "execution_count": null,
   "id": "65d133a8-e43b-4426-99d0-38fbcb644db0",
   "metadata": {},
   "outputs": [],
   "source": [
    "Suppose if the line completely fits then the error is zero. \n",
    "\n",
    "Now for the test data this line will give an error. \n",
    "\n",
    "Training : Model Accuracy is high\n",
    "\n",
    "Test : Model accuracy is low as the training data gets overfitted. "
   ]
  },
  {
   "cell_type": "code",
   "execution_count": null,
   "id": "f5f1d513-cd42-45f4-a7c9-b8921665c7ef",
   "metadata": {},
   "outputs": [],
   "source": []
  },
  {
   "cell_type": "code",
   "execution_count": null,
   "id": "59faed52-25a0-4599-b8cd-5722f98af4b6",
   "metadata": {},
   "outputs": [],
   "source": [
    "In Linear Regression : \n",
    "\n",
    "cost_fxn = 1/n sigma(Actual - Predicted) ^2"
   ]
  },
  {
   "cell_type": "code",
   "execution_count": null,
   "id": "72bb7dc8-d35e-46b5-8d00-ec68a50ac872",
   "metadata": {},
   "outputs": [],
   "source": [
    "Now With Ridge Regression :\n",
    "\n",
    "cost_fxn = 1/n sigma(Actual - Predicted) ^2 + Lambda * Sigma(Slope)^2 \n",
    "\n",
    "Lambda = Hyperparameter ( By tuning Hyperparameter we tune Lambda)"
   ]
  },
  {
   "cell_type": "code",
   "execution_count": null,
   "id": "a8df7585-17a9-402c-805d-eea9378fc166",
   "metadata": {},
   "outputs": [],
   "source": [
    "Ex: \n",
    "\n",
    "Lamda = 1\n",
    "\n",
    "The cost fxn will become \n",
    "\n",
    "cost_fxn = 1/n sigma(Actual - Predicted) ^2 + 1 * Sigma(Slope)^2 \n",
    "\n",
    "The best fit line will change and the error will reduce in test data. \n",
    "\n",
    "The idea is to make sure that the cost fxn will never BECOME ZERO. "
   ]
  },
  {
   "cell_type": "code",
   "execution_count": null,
   "id": "d69b9f51-f058-430a-a9f0-de5532764244",
   "metadata": {},
   "outputs": [],
   "source": []
  },
  {
   "cell_type": "code",
   "execution_count": null,
   "id": "19d6311d-459e-4370-a053-37e1f35fb7e0",
   "metadata": {},
   "outputs": [],
   "source": [
    "What happens to gradient Descent: \n",
    "\n",
    "Gradient descent is a graph between theta and J(Theta)"
   ]
  },
  {
   "cell_type": "code",
   "execution_count": null,
   "id": "9ce07c2c-1439-40ca-b704-61311f5757b5",
   "metadata": {},
   "outputs": [],
   "source": [
    "at Lambda = 0 normal gradient descent \n",
    "lamda > 0 it will change and global minima will shift up. Slope will decrease. "
   ]
  },
  {
   "cell_type": "code",
   "execution_count": null,
   "id": "72dda922-1a32-4a35-9321-f7b214ea2b6d",
   "metadata": {},
   "outputs": [],
   "source": []
  },
  {
   "cell_type": "code",
   "execution_count": null,
   "id": "92c9189a-6788-4d7a-a17f-c2973ceb1906",
   "metadata": {},
   "outputs": [],
   "source": []
  },
  {
   "cell_type": "markdown",
   "id": "2c250a78-8c3b-4e3c-baaf-834908e5da30",
   "metadata": {},
   "source": [
    "# Lasso Regression "
   ]
  },
  {
   "cell_type": "code",
   "execution_count": null,
   "id": "9a8765df-e890-4bec-a838-30bd0c6b8744",
   "metadata": {},
   "outputs": [],
   "source": [
    "\n",
    "cost_fxn = 1/n sigma(Actual - Predicted) ^2 + Lambda * Sigma|(Slope)|\n",
    "\n",
    "Let's say multiple linear regression \n",
    "Error + Lamda [theta1 x1 + theta2 X2 + theta3 X3]\n"
   ]
  },
  {
   "cell_type": "code",
   "execution_count": null,
   "id": "c7f5cb38-f9f8-4f7c-8e2c-4c09196a5958",
   "metadata": {},
   "outputs": [],
   "source": [
    "Features which are irrelvant will be discarded. "
   ]
  },
  {
   "cell_type": "code",
   "execution_count": null,
   "id": "2476ff2c-df74-4d62-951d-d598fa0e6f1a",
   "metadata": {},
   "outputs": [],
   "source": [
    "L1 Regularization it also called. "
   ]
  },
  {
   "cell_type": "code",
   "execution_count": null,
   "id": "46e534ea-45dc-4a8a-809c-5b1997b1ee49",
   "metadata": {},
   "outputs": [],
   "source": []
  },
  {
   "cell_type": "code",
   "execution_count": null,
   "id": "6cbbf531-b2d6-438d-9c5a-0ec6079a6ca2",
   "metadata": {},
   "outputs": [],
   "source": []
  },
  {
   "cell_type": "markdown",
   "id": "fcdbc79d-45df-41a3-b684-bdfc71764cc3",
   "metadata": {},
   "source": [
    "# Elastic Net Regression "
   ]
  },
  {
   "cell_type": "code",
   "execution_count": null,
   "id": "0a4169be-8252-4292-879f-f8e563c62de6",
   "metadata": {},
   "outputs": [],
   "source": [
    "Elastic Net is combination of Lasso and Ridge i.e L1+L2"
   ]
  },
  {
   "cell_type": "code",
   "execution_count": null,
   "id": "53a17e7c-5164-4007-8983-ee83ab8fa288",
   "metadata": {},
   "outputs": [],
   "source": [
    "cost_fxn = 1/n sigma(Actual - Predicted) ^2 + Lambda1 * Sigma(Slope)^2 + Lambda2 * Sigma|(Slope)| \n",
    "             MSE                              Reduce overfitting           Feature Selection\n"
   ]
  }
 ],
 "metadata": {
  "kernelspec": {
   "display_name": "Python 3 (ipykernel)",
   "language": "python",
   "name": "python3"
  },
  "language_info": {
   "codemirror_mode": {
    "name": "ipython",
    "version": 3
   },
   "file_extension": ".py",
   "mimetype": "text/x-python",
   "name": "python",
   "nbconvert_exporter": "python",
   "pygments_lexer": "ipython3",
   "version": "3.11.7"
  }
 },
 "nbformat": 4,
 "nbformat_minor": 5
}
