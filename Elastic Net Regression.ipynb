{
 "cells": [
  {
   "cell_type": "code",
   "execution_count": null,
   "id": "a2d60bb6-6181-4f61-b79f-1dfcde7fbafd",
   "metadata": {},
   "outputs": [],
   "source": [
    "ENR = Lasso + Ridge"
   ]
  },
  {
   "cell_type": "code",
   "execution_count": 2,
   "id": "8fb4adb5-3a4b-46bd-9a1d-4eb98b4cdd3f",
   "metadata": {},
   "outputs": [],
   "source": [
    "from sklearn.linear_model import Ridge"
   ]
  },
  {
   "cell_type": "code",
   "execution_count": null,
   "id": "05ee250e-a2c6-4991-a6fc-3f474efbfee3",
   "metadata": {},
   "outputs": [],
   "source": [
    "n_sample,n_features = 10,5\n",
    "rng = np.random.RandomState(0)\n",
    "y= rng.random(n_samples)\n",
    "x = rng.random(n_samples,n_features) \n",
    "clf = Ridge(alpha = 1.0)\n",
    "clf.fit(X,y)  "
   ]
  }
 ],
 "metadata": {
  "kernelspec": {
   "display_name": "Python 3 (ipykernel)",
   "language": "python",
   "name": "python3"
  },
  "language_info": {
   "codemirror_mode": {
    "name": "ipython",
    "version": 3
   },
   "file_extension": ".py",
   "mimetype": "text/x-python",
   "name": "python",
   "nbconvert_exporter": "python",
   "pygments_lexer": "ipython3",
   "version": "3.11.7"
  }
 },
 "nbformat": 4,
 "nbformat_minor": 5
}
