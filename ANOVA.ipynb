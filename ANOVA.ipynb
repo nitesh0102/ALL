{
 "cells": [
  {
   "cell_type": "code",
   "execution_count": 2,
   "id": "47900181-7925-4084-ad93-f1c038138bbb",
   "metadata": {},
   "outputs": [],
   "source": [
    "Analysis of Variance (Anova): \n",
    "\n",
    "Anova is a statistical method used to compare the means of 2 or more groups. "
   ]
  },
  {
   "cell_type": "code",
   "execution_count": null,
   "id": "72364cc0-92c1-48ec-afc0-1998985a7d31",
   "metadata": {},
   "outputs": [],
   "source": [
    "Anova\n",
    "\n",
    "1. Fators (Variable)\n",
    "2. Levels \n",
    "\n",
    "Ex:     Medicine (Factor)\n",
    "\n",
    "Dosage   5mg       10mg           15mg              --- Levels\n",
    "\n",
    "\n",
    "\n",
    "Ex2: Mode of payment (factor)\n",
    "\n",
    "gpay    phonepe     imps neft      levels"
   ]
  },
  {
   "cell_type": "code",
   "execution_count": null,
   "id": "11db01fa-8d87-49d8-80b6-96a0472c2491",
   "metadata": {},
   "outputs": [],
   "source": []
  },
  {
   "cell_type": "markdown",
   "id": "77293618-4653-41e2-82b4-11e409085413",
   "metadata": {},
   "source": [
    "## Assumptions in Anova"
   ]
  },
  {
   "cell_type": "code",
   "execution_count": null,
   "id": "7676753d-cdc2-46d9-a9c5-932d95d407f5",
   "metadata": {},
   "outputs": [],
   "source": [
    "If your problem statment definitely satisfies these assumptions you can definitely use anova"
   ]
  },
  {
   "cell_type": "code",
   "execution_count": null,
   "id": "bb694982-e142-4b8d-94f5-27a1c4c0d02a",
   "metadata": {},
   "outputs": [],
   "source": [
    "Assumptions:\n",
    "\n",
    "1. Normality of sampling distribution of mean (Central Limit Therorem) \n",
    "The distribution of sample mean is normally distributed\n",
    "\n",
    "2. Absense of Outliers \n",
    "outlying score need to be removed from the dataset. \n",
    "\n",
    "3. Homogentity of Variance\n",
    "population variance in differnet levels of each independent variable are equal. \n",
    "\n",
    "4. Samples are independet and random. "
   ]
  },
  {
   "cell_type": "code",
   "execution_count": null,
   "id": "24b8a095-e02b-4306-816b-e43ae210deb8",
   "metadata": {},
   "outputs": [],
   "source": []
  },
  {
   "cell_type": "markdown",
   "id": "6ec3d8d2-6dc7-4c83-bed1-eba0a7c604b4",
   "metadata": {},
   "source": [
    "## Types of Anova"
   ]
  },
  {
   "cell_type": "code",
   "execution_count": null,
   "id": "cab4fac1-bea4-494c-abdf-1baa690de6a8",
   "metadata": {},
   "outputs": [],
   "source": [
    "There are 3 types of Anova\n",
    "\n",
    "1. 1-way anova : one factor with atleast 2 levels, here levels are independent. \n",
    "\n",
    "Ex: Doctor wants to test a new medication to decrease headache. \n",
    "\n",
    "They split the medicine in 10mg,20mg,30mg\n",
    "\n",
    "also he wanted to rate the headache from 1-10\n",
    "\n",
    "2. Repeated Measures Anova : One factor with atleast 2 level and levels are dependent. \n",
    "\n",
    "Ex: Running for same person\n",
    "Day1 Day2 Day3 \n",
    "8      3   5  \n",
    "4      5   6\n",
    "\n",
    "3. Factorial Anova : Two or more factors each of which with atleast 2 levels, levels can be independent and dependent.  \n",
    "\n",
    "Ex: Running for same person\n",
    "Day1 Day2 Day3   Gender\n",
    "8      3   5        m\n",
    "4      5   6        f\n"
   ]
  },
  {
   "cell_type": "code",
   "execution_count": null,
   "id": "42814c3b-5b19-4a60-9a15-c420784b8a00",
   "metadata": {},
   "outputs": [],
   "source": []
  },
  {
   "cell_type": "markdown",
   "id": "520bf79a-3f00-4c64-9fc5-9e6a573d665b",
   "metadata": {},
   "source": [
    "## Hypothesis testing in Anova"
   ]
  },
  {
   "cell_type": "code",
   "execution_count": null,
   "id": "37d2aca4-02e5-4741-a80e-adb9a5b3d5b6",
   "metadata": {},
   "outputs": [],
   "source": [
    "Hypothesis testing in Anova (Partitioning of Variance)"
   ]
  },
  {
   "cell_type": "code",
   "execution_count": null,
   "id": "6a08efe1-be10-4d7c-abf4-e6d8910e9ea0",
   "metadata": {},
   "outputs": [],
   "source": [
    "1. Define null hypoythesis H0 = mean1 = mean2 = mean3 = mean4 ..........\n",
    "2. Alternate hypothesis H1 = mean1 != mean2 ............ Atleast one of the sample mean is not equal "
   ]
  },
  {
   "cell_type": "code",
   "execution_count": null,
   "id": "a8737d1d-df3d-4565-9232-aa788c409de8",
   "metadata": {},
   "outputs": [],
   "source": [
    "Test Statistics : \n",
    "\n",
    "F-Test : (Variance between sample) / (Variance within sample)"
   ]
  },
  {
   "cell_type": "code",
   "execution_count": 1,
   "id": "32d3fcf0-b790-4416-936c-5eddcc58719c",
   "metadata": {},
   "outputs": [],
   "source": [
    "X1 = 1,2,4,5,3\n",
    "X2= 6,7,3,2,1\n",
    "X3 = 5,6,3,2,4"
   ]
  },
  {
   "cell_type": "code",
   "execution_count": 2,
   "id": "d93f5995-4906-41e0-a421-5291391202b6",
   "metadata": {},
   "outputs": [
    {
     "data": {
      "text/plain": [
       "(1, 2, 4, 5, 3)"
      ]
     },
     "execution_count": 2,
     "metadata": {},
     "output_type": "execute_result"
    }
   ],
   "source": [
    "X1"
   ]
  },
  {
   "cell_type": "code",
   "execution_count": 14,
   "id": "3d8b6ecf-5da9-4951-91bc-b031502a3914",
   "metadata": {},
   "outputs": [],
   "source": [
    "from statistics import variance,mean"
   ]
  },
  {
   "cell_type": "code",
   "execution_count": 11,
   "id": "1ed8b2f6-7dd9-45f5-958b-d70b6a0f8e53",
   "metadata": {},
   "outputs": [],
   "source": [
    "var = variance(X1),variance(X2),variance(X3)"
   ]
  },
  {
   "cell_type": "code",
   "execution_count": 12,
   "id": "e7d85293-1529-45b9-9658-5ca0e3626c4e",
   "metadata": {},
   "outputs": [
    {
     "data": {
      "text/plain": [
       "5.880000000000001"
      ]
     },
     "execution_count": 12,
     "metadata": {},
     "output_type": "execute_result"
    }
   ],
   "source": [
    "variance(var)"
   ]
  },
  {
   "cell_type": "code",
   "execution_count": 16,
   "id": "f8758a9f-64cc-498b-a337-4e3d1b0af7e3",
   "metadata": {},
   "outputs": [
    {
     "data": {
      "text/plain": [
       "(3, 3.8, 4)"
      ]
     },
     "execution_count": 16,
     "metadata": {},
     "output_type": "execute_result"
    }
   ],
   "source": [
    "mean(X1),mean(X2), mean(X3)"
   ]
  },
  {
   "cell_type": "code",
   "execution_count": null,
   "id": "df941a66-a6ae-436c-a037-ac8ff7063b36",
   "metadata": {},
   "outputs": [],
   "source": [
    "As means are not equal, we have to reject the null hypothesis. "
   ]
  },
  {
   "cell_type": "code",
   "execution_count": null,
   "id": "e2cd65f6-09e2-474e-bcb1-e2b81f5b7a7a",
   "metadata": {},
   "outputs": [],
   "source": []
  },
  {
   "cell_type": "code",
   "execution_count": null,
   "id": "1211783d-c55a-46b7-9f1b-0804de794a08",
   "metadata": {},
   "outputs": [],
   "source": [
    "Ex: Doctors want to test a new medication which reduces the headache. They split the participant into 3 condition [15mg,30mg,45mg].\n",
    "Later on the doctor ask the patient to rate the headache between [1-10]. Are there any difference between the 3 conditions using \n",
    "Alpha = 0.05 ? \n",
    "15mg : 9,8,7,8,8,9,8\n",
    "30mg : 7,6,6,7,8,7,6\n",
    "45mg : 4,3,2,3,4,3,2"
   ]
  },
  {
   "cell_type": "code",
   "execution_count": null,
   "id": "84438877-242d-4789-a4dc-0c0b5c234843",
   "metadata": {},
   "outputs": [],
   "source": [
    "Ans: \n",
    "Step 1: Define Null and Alternate Hypothesis\n",
    "H0 : mean15 = mean30 = mean45\n",
    "H1 : not all means are equal"
   ]
  },
  {
   "cell_type": "code",
   "execution_count": null,
   "id": "55aa9995-2256-4456-920d-63f0c006cd64",
   "metadata": {},
   "outputs": [],
   "source": [
    "Step 2: \n",
    "Alpha = 0.05\n",
    "C.I = 0.95"
   ]
  },
  {
   "cell_type": "code",
   "execution_count": null,
   "id": "704d596f-ce9d-4b00-a272-010561b22e25",
   "metadata": {},
   "outputs": [],
   "source": [
    "Step 3: Calculate Degree of Freedom \n",
    "N = 21\n",
    "a = 3\n",
    "n = 7\n",
    "df_between_samples = a-1 = 3-1 = 2 = df1\n",
    "df_within_sample = N-a = 21-3 = 18 = df2\n",
    "dftotal = N-1 = 20\n",
    "\n",
    "\n",
    "df1 and df2 are used along with Alpha for F-table to find out critical values"
   ]
  },
  {
   "cell_type": "code",
   "execution_count": null,
   "id": "abbed9cd-f7c1-454a-bc41-802a16e286aa",
   "metadata": {},
   "outputs": [],
   "source": [
    "Step 4: Defining Decision boundary \n",
    "\n",
    "Acceptance Area                   F(df1,df2)     Rejection Area(0.05)\n",
    "-----------------------------------        ---------\n",
    "                                CV 3.5546 (from f table)\n"
   ]
  },
  {
   "cell_type": "code",
   "execution_count": null,
   "id": "1c5d82d1-9695-45c8-bd8c-9c27f3296212",
   "metadata": {},
   "outputs": [],
   "source": [
    "Step 5: If F value is greater than 3.556, we reject the null hypothesis. \n",
    "\n",
    "F-test statistics \n",
    "\n",
    "\n",
    "                 SS            df            MS          F\n",
    "Between          98.67         2            49.34\n",
    "Within           10.29         18           0.54\n",
    "Total             "
   ]
  },
  {
   "cell_type": "code",
   "execution_count": null,
   "id": "42c53f51-b9f0-4ec7-abab-1441a9a3d889",
   "metadata": {},
   "outputs": [],
   "source": [
    "SS  Through formula\n",
    "between = 98.67\n",
    "within = 10.29"
   ]
  },
  {
   "cell_type": "code",
   "execution_count": 17,
   "id": "1bdeb2ee-adf4-4038-ad86-6419f935da0e",
   "metadata": {},
   "outputs": [],
   "source": [
    "F = 49.34/0.54"
   ]
  },
  {
   "cell_type": "code",
   "execution_count": 18,
   "id": "9569c8ff-b5b3-4b60-ba20-bc9decfd0024",
   "metadata": {},
   "outputs": [
    {
     "data": {
      "text/plain": [
       "91.37037037037037"
      ]
     },
     "execution_count": 18,
     "metadata": {},
     "output_type": "execute_result"
    }
   ],
   "source": [
    "F"
   ]
  },
  {
   "cell_type": "code",
   "execution_count": null,
   "id": "c88a999a-2048-4263-8136-e6a64db3d57a",
   "metadata": {},
   "outputs": [],
   "source": [
    "F is greater than 3.556 , hence we have to reject the null hypothesis. "
   ]
  }
 ],
 "metadata": {
  "kernelspec": {
   "display_name": "Python 3 (ipykernel)",
   "language": "python",
   "name": "python3"
  },
  "language_info": {
   "codemirror_mode": {
    "name": "ipython",
    "version": 3
   },
   "file_extension": ".py",
   "mimetype": "text/x-python",
   "name": "python",
   "nbconvert_exporter": "python",
   "pygments_lexer": "ipython3",
   "version": "3.11.7"
  }
 },
 "nbformat": 4,
 "nbformat_minor": 5
}
