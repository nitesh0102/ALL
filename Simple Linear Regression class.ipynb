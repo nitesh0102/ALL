{
 "cells": [
  {
   "cell_type": "code",
   "execution_count": 1,
   "id": "6657e745-bbd7-4e00-9cdb-a61facbbc813",
   "metadata": {},
   "outputs": [],
   "source": [
    "#simple linear regression "
   ]
  },
  {
   "cell_type": "code",
   "execution_count": 2,
   "id": "a099ab92-ca44-424d-906e-2738fba63f6b",
   "metadata": {},
   "outputs": [],
   "source": [
    "#supervised machine learning algo"
   ]
  },
  {
   "cell_type": "code",
   "execution_count": 3,
   "id": "a69d7ae7-d303-4fb6-9f9c-aee8996b5287",
   "metadata": {},
   "outputs": [],
   "source": [
    "#Let's learn maths and algo behind simple linear regression "
   ]
  },
  {
   "cell_type": "code",
   "execution_count": 8,
   "id": "fea6d3e4-3d29-45d6-8026-75589c62a24c",
   "metadata": {},
   "outputs": [],
   "source": [
    "# this will be a base to deep learning algo"
   ]
  },
  {
   "cell_type": "code",
   "execution_count": 7,
   "id": "527f8e1f-41fe-4a36-932d-92c260010b2f",
   "metadata": {},
   "outputs": [
    {
     "data": {
      "text/plain": [
       "'supervised ML \\n1. Regression - Output feature is continous\\n2. Classfication - Output feature is binary or categorical (2,3, multiclass categories etc.) '"
      ]
     },
     "execution_count": 7,
     "metadata": {},
     "output_type": "execute_result"
    }
   ],
   "source": [
    "\"\"\" supervised ML \n",
    "1. Regression - Output feature is continous\n",
    "2. Classfication - Output feature is binary or categorical (2,3, multiclass categories etc.) \"\"\""
   ]
  },
  {
   "cell_type": "code",
   "execution_count": 9,
   "id": "f1424d3b-10b3-498c-889b-e9d05a7f36fb",
   "metadata": {},
   "outputs": [
    {
     "data": {
      "text/plain": [
       "' weight  height\\n     74         170\\n     80         180\\n     75         175.5\\n\\n     ....      ...... \\n     ....      ......\\n\\nprecidct the height if weight is given\\n\\nWeight is independent feature \\nheight is dependent feature\\n\\ncreate and train the model with input data. it knows the output with respecitve height corresponding to the weight.\\n\\n--- if new input it should predicts the output. (In this case given a new height predict the weight.)\\n'"
      ]
     },
     "execution_count": 9,
     "metadata": {},
     "output_type": "execute_result"
    }
   ],
   "source": [
    "# Dataset \n",
    "\"\"\" weight  height\n",
    "     74         170\n",
    "     80         180 \n",
    "     75         175.5\n",
    "\n",
    "     ....      ...... \n",
    "     ....      ......\n",
    "\n",
    "precidct the height if weight is given\n",
    "\n",
    "Weight is independent feature \n",
    "height is dependent feature\n",
    "\n",
    "create and train the model with input data. it knows the output with respecitve height corresponding to the weight.\n",
    "\n",
    "--- if new input it should predicts the output. (In this case given a new height predict the weight.)\n",
    "\"\"\"\n"
   ]
  },
  {
   "cell_type": "markdown",
   "id": "7a045e12-a51d-40d6-8a9b-6fcef6679932",
   "metadata": {},
   "source": [
    "## Geometrical Intution "
   ]
  },
  {
   "cell_type": "code",
   "execution_count": null,
   "id": "480943df-decb-480c-9f9b-3d7d03512998",
   "metadata": {},
   "outputs": [],
   "source": [
    "''' from the above example \n",
    "\n",
    "Intution from Linear Regression \n",
    "\n",
    "Plot height and weight and try to find a line that best fits and gives less error rate. "
   ]
  },
  {
   "cell_type": "code",
   "execution_count": null,
   "id": "0eacf98a-7242-4509-9612-61bb6042ea8d",
   "metadata": {},
   "outputs": [],
   "source": [
    "For example in this case the height and weight will generally follow a linear regression.  \n",
    "\n",
    "\n",
    "###### Here the main aim is to find the best fit line so the sum (Magnitude) of error (Actual vs Predicted) is less(Minimal) .(Ideally zero) "
   ]
  },
  {
   "cell_type": "code",
   "execution_count": null,
   "id": "8861a834-24fd-4e63-a8a7-7060133bc8e7",
   "metadata": {},
   "outputs": [],
   "source": []
  },
  {
   "cell_type": "code",
   "execution_count": null,
   "id": "95c9f1d1-8ade-415a-b789-9cc83f32c515",
   "metadata": {},
   "outputs": [],
   "source": [
    "Actual Y(i)\n",
    "Predicted Y(i^) \n",
    "\n",
    "Error = Sigma ( Y(i) - Y(i^)) "
   ]
  },
  {
   "cell_type": "code",
   "execution_count": null,
   "id": "7546da19-5570-4277-97b4-4099bb7d6a80",
   "metadata": {},
   "outputs": [],
   "source": []
  },
  {
   "cell_type": "code",
   "execution_count": null,
   "id": "08cf26d0-94c5-4032-bda5-8e68d1768eaf",
   "metadata": {},
   "outputs": [],
   "source": [
    "So now how we calculated the best fit line, it all depends on mathematical equation. "
   ]
  },
  {
   "cell_type": "code",
   "execution_count": null,
   "id": "002090c1-305e-439c-9af4-3bb90621bbf0",
   "metadata": {},
   "outputs": [],
   "source": []
  },
  {
   "cell_type": "code",
   "execution_count": null,
   "id": "af680b09-7c2b-4fae-aee5-ee4f7f17747e",
   "metadata": {},
   "outputs": [],
   "source": [
    "Again the main Aim is to create a best fit line to reduce the error. (Distance between actual vs Predicted) "
   ]
  },
  {
   "cell_type": "code",
   "execution_count": null,
   "id": "8476a7d6-f62b-45d6-8946-12c7d440f38b",
   "metadata": {},
   "outputs": [],
   "source": []
  },
  {
   "cell_type": "code",
   "execution_count": null,
   "id": "8b2f77b5-3a74-4bb1-847c-24ebc8059fdc",
   "metadata": {},
   "outputs": [],
   "source": [
    "Algebraic Equation for Line \n",
    "\n",
    "\n",
    "                  Y = MX + C\n",
    "\n",
    "Y = output\n",
    "X = Input\n",
    "M = Slope or Coefficient ( For Any unit movement in X how much Y moves) \n",
    "C = Intercept  (What is Y when X is Zero) \n",
    "\n",
    "Another way to represent the equation \n",
    "\n",
    "Htheta(x) = theta(0) + theta(1)x\n",
    "\n",
    "theta(0) = Intercept "
   ]
  },
  {
   "cell_type": "code",
   "execution_count": null,
   "id": "36f65d59-61e1-4cb6-8aed-7e637a7cb86d",
   "metadata": {},
   "outputs": [],
   "source": []
  },
  {
   "cell_type": "code",
   "execution_count": null,
   "id": "0121ef89-5a64-40a8-8ed4-5d0e0a3d5dd3",
   "metadata": {},
   "outputs": [],
   "source": [
    "Initalize the slope and intercept create a best fit line, Compute the error and tune the values of Int and Slope to reduce errors.  This is called an \n",
    "optimization Process."
   ]
  },
  {
   "cell_type": "code",
   "execution_count": null,
   "id": "890a49cd-98d9-4b36-9473-8505eb3dc523",
   "metadata": {},
   "outputs": [],
   "source": [
    "Important points for Optimization : \n",
    "1. Derive Cost Function \n",
    "\n",
    "MSE = J(theta0,theta1) =  1/n sigma (Y(i) - Y(i^))^2 \n",
    "                                     actual  Prediction\n",
    "\n",
    "Diff of Actual vs Prediction >- Sqaure - Sum - Divide by n \n",
    "\n",
    "Final Aim is to minimize our cost function (j). \n",
    "\n"
   ]
  },
  {
   "cell_type": "code",
   "execution_count": null,
   "id": "200c9404-9515-49cb-96ec-590cf4f02fc8",
   "metadata": {},
   "outputs": [],
   "source": [
    "Ex: Dataset\n",
    "\n",
    "X : 1,2,3\n",
    "Y : 1,2,3\n",
    "\n",
    "Optimization : Minimize the cost function \n",
    "\n",
    "Y = MX + C\n",
    "here \n",
    "C = 0 = theta0\n",
    "\n",
    "Let M = 1 = Theta1\n",
    "\n",
    "X = 1  Y = 1+0 =1\n",
    "X = 2 Y = 2\n",
    "X = 3 Y = 3\n",
    "\n",
    "Cost Function: \n",
    "\n",
    "J(theta0,theta1) = J(0,theta1) = 1/n sigma( Y(i) - h(theta)(x) ) ^ 2\n",
    "\n",
    "n = 3\n",
    "J = 1/3((1 - 1)+ (2-2)+(3-3) )^2 = 0 \n",
    "\n",
    "J = 0 "
   ]
  },
  {
   "cell_type": "code",
   "execution_count": null,
   "id": "763fa232-a0b6-4626-a1a5-97b4993601cf",
   "metadata": {},
   "outputs": [],
   "source": []
  },
  {
   "cell_type": "code",
   "execution_count": null,
   "id": "f1308197-db64-4045-8208-f5a6b94d954d",
   "metadata": {},
   "outputs": [],
   "source": []
  },
  {
   "cell_type": "code",
   "execution_count": null,
   "id": "5672a100-878a-4050-9e09-875f05e17b5d",
   "metadata": {},
   "outputs": [],
   "source": [
    "When theta1 = 0.5 \n",
    "\n",
    "calculated J will be 1.16\n",
    "\n",
    "When theta1 = 0\n",
    "\n",
    "Calculated J will be 4.66"
   ]
  },
  {
   "cell_type": "code",
   "execution_count": null,
   "id": "26192908-2c9a-4ded-9ba4-f5dfc1e01b57",
   "metadata": {},
   "outputs": [],
   "source": [
    "Graph between J and theta1 \n",
    "\n",
    "After checking with diff values for theta1 ----- There will be a minima at one point. \n",
    "\n",
    "Our Aim is to change values of theta1 and find the global Minima. \n",
    "\n",
    "This curve is called Gradient descent Curve. "
   ]
  },
  {
   "cell_type": "code",
   "execution_count": null,
   "id": "7df52537-00b5-4213-95e6-ff75707546ee",
   "metadata": {},
   "outputs": [],
   "source": [
    "Now What is the way to find this minima, how to change the values of theta1 "
   ]
  },
  {
   "cell_type": "code",
   "execution_count": null,
   "id": "6c79649e-f834-42bd-9839-6c47c2eefe07",
   "metadata": {},
   "outputs": [],
   "source": [
    "Convergene Algorithm : Again and Again it is not possible to change theta0 and theta1\n",
    "\n",
    "Optimize the change of theta1\n",
    "\n",
    "Repeat untill convergence\n",
    "\n",
    "\n",
    "{\n",
    "\n",
    "    THETA j : THETA j - Derivative of THETA j * Alpha\n",
    "\n",
    "} \n",
    "\n",
    "derivative is SLOPE here.\n",
    "\n",
    "Alpha is learning rate. It should be not very small so that speed of convergence is very slow and it should not be very high so that convergence point \n",
    "is not missed. \n",
    "\n",
    "\n"
   ]
  },
  {
   "cell_type": "code",
   "execution_count": null,
   "id": "45abfa12-af4f-4fa3-ab17-a452024c0b3c",
   "metadata": {},
   "outputs": [],
   "source": []
  },
  {
   "cell_type": "code",
   "execution_count": null,
   "id": "28adbd21-4318-47eb-a6e5-9ab154230721",
   "metadata": {},
   "outputs": [],
   "source": [
    "Conclusion : \n",
    "\n",
    "\n",
    "Gradient Descent is an optimization Function. \n",
    "\n",
    "Convergence Algorithm : Repeat untill convergence  {THETA j : THETA j - Derivative of THETA j * Alpha} \n",
    "\n",
    "\n",
    "\n",
    "\n"
   ]
  },
  {
   "cell_type": "code",
   "execution_count": null,
   "id": "99300240-e8e3-409d-af9d-dde7c213b7a0",
   "metadata": {},
   "outputs": [],
   "source": []
  },
  {
   "cell_type": "code",
   "execution_count": null,
   "id": "7d041713-abbb-41fe-93a5-db34484eb5be",
   "metadata": {},
   "outputs": [],
   "source": []
  },
  {
   "cell_type": "code",
   "execution_count": 2,
   "id": "84732a5e-75d9-45f5-9bf6-7ffdafdd466d",
   "metadata": {},
   "outputs": [],
   "source": [
    "Multilinear regression model : In multilinear regression model there are multiple input variable for a single output variable.\n",
    "\n"
   ]
  },
  {
   "cell_type": "code",
   "execution_count": null,
   "id": "d2c8a94c-2b80-4b52-88ba-3021fbd06b60",
   "metadata": {},
   "outputs": [],
   "source": [
    "polynomial Regression : In this regression we have degree of freedom is more than 1. if Degree of freedom is equal to 1 then it becomes linear regression . \n",
    "The main aim of this regression is to find the best fit plane. "
   ]
  }
 ],
 "metadata": {
  "kernelspec": {
   "display_name": "Python 3 (ipykernel)",
   "language": "python",
   "name": "python3"
  },
  "language_info": {
   "codemirror_mode": {
    "name": "ipython",
    "version": 3
   },
   "file_extension": ".py",
   "mimetype": "text/x-python",
   "name": "python",
   "nbconvert_exporter": "python",
   "pygments_lexer": "ipython3",
   "version": "3.11.7"
  }
 },
 "nbformat": 4,
 "nbformat_minor": 5
}
