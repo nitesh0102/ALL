{
 "cells": [
  {
   "cell_type": "code",
   "execution_count": 3,
   "id": "2bfff5ed-090c-4e0b-8465-fbfa9ed7c8b5",
   "metadata": {},
   "outputs": [],
   "source": [
    "f = open(\"test3.txt\",'w')"
   ]
  },
  {
   "cell_type": "code",
   "execution_count": 4,
   "id": "3598328e-3d49-4ed3-aa2a-51beb44b498e",
   "metadata": {},
   "outputs": [
    {
     "data": {
      "text/plain": [
       "'C:\\\\Users\\\\nitesh.sethia'"
      ]
     },
     "execution_count": 4,
     "metadata": {},
     "output_type": "execute_result"
    }
   ],
   "source": [
    "pwd"
   ]
  },
  {
   "cell_type": "code",
   "execution_count": 5,
   "id": "f1d75229-e8c2-4e55-bab0-4e62dd3ab52b",
   "metadata": {},
   "outputs": [
    {
     "name": "stdout",
     "output_type": "stream",
     "text": [
      " Volume in drive C has no label.\n",
      " Volume Serial Number is 545E-E02E\n",
      "\n",
      " Directory of C:\\Users\\nitesh.sethia\n",
      "\n",
      "25-05-2024  16:31    <DIR>          .\n",
      "24-08-2023  13:23    <DIR>          ..\n",
      "07-04-2024  13:29    <DIR>          .anaconda\n",
      "08-05-2024  12:27    <DIR>          .conda\n",
      "07-04-2024  13:29                25 .condarc\n",
      "07-04-2024  13:29    <DIR>          .continuum\n",
      "06-04-2024  13:44               206 .gitconfig\n",
      "25-05-2024  16:27    <DIR>          .ipynb_checkpoints\n",
      "07-04-2024  13:35    <DIR>          .ipython\n",
      "07-04-2024  13:36    <DIR>          .jupyter\n",
      "12-04-2024  20:45    <DIR>          .matplotlib\n",
      "01-05-2024  17:53             4,134 29th Jan python assignment.ipynb\n",
      "25-04-2024  21:16             6,954 30th Jan python Assignment.ipynb\n",
      "08-05-2024  14:20             2,152 3rd Feb Assignment.ipynb\n",
      "08-05-2024  14:12            10,709 4th Feb Assignment.ipynb\n",
      "03-05-2024  13:37            11,615 7th Feb Task.ipynb\n",
      "10-05-2024  13:12             3,746 Abstraction.ipynb\n",
      "23-05-2024  17:27            15,338 Algerian_forest_fires_clean_dataset_UPDATE.csv\n",
      "26-04-2024  16:13            18,381 Assignment  Task 1.ipynb\n",
      "12-05-2024  22:05            14,506 Class Methods.ipynb\n",
      "24-08-2023  13:29    <DIR>          Contacts\n",
      "26-04-2024  23:52            11,004 Covariance and Correlation with python.ipynb\n",
      "12-05-2024  13:04             2,881 Decorators.ipynb\n",
      "23-04-2024  13:21            15,113 Dict class session .ipynb\n",
      "14-08-2023  17:27    <DIR>          Documents\n",
      "23-05-2024  23:01    <DIR>          Downloads\n",
      "01-05-2024  13:54            67,226 EDA Data Cleaning Google Play Store .ipynb\n",
      "29-04-2024  17:46           303,363 EDA With Red Wine Data Set.ipynb\n",
      "29-04-2024  20:54           552,169 EDA with Student data.ipynb\n",
      "23-05-2024  12:54             1,235 Elastic Net Regression.ipynb\n",
      "09-05-2024  20:26             9,292 Encapsulation.ipynb\n",
      "24-05-2024  17:41               617 End to End ML project (Ridge Regression).ipynb\n",
      "24-05-2024  18:04             1,132 End to End ML Project .ipynb\n",
      "24-08-2023  13:29    <DIR>          Favorites\n",
      "09-05-2024  22:46             6,526 Inheritance.ipynb\n",
      "25-05-2024  13:41    <DIR>          InMobi\n",
      "02-05-2024  12:12             9,200 Lambda,Map,Reduce,Filter Functions.ipynb\n",
      "24-08-2023  13:29    <DIR>          Links\n",
      "21-04-2024  13:48             2,133 MatplotLib Assignment.ipynb\n",
      "12-04-2024  21:08           115,888 Matplotlib.ipynb\n",
      "07-03-2024  15:38    <DIR>          Microsoft\n",
      "24-05-2024  17:30           213,248 Model Training Ridge Lasso Elastic Net and pickling.ipynb\n",
      "20-05-2024  19:59         2,283,270 Multiple Linear regression Using python.ipynb\n",
      "24-08-2023  13:29    <DIR>          Music\n",
      "11-04-2024  23:00             6,609 Numpy Assignment.ipynb\n",
      "11-04-2024  11:56            10,179 numpy1.ipynb\n",
      "11-04-2024  13:10            26,464 numpy2.ipynb\n",
      "11-04-2024  22:16             8,209 numpy3.ipynb\n",
      "11-04-2024  22:38            11,408 Numpy4.ipynb\n",
      "14-08-2023  17:27    <DIR>          OneDrive\n",
      "25-05-2024  13:41    <DIR>          OneDrive - InMobi\n",
      "11-05-2024  13:24             8,301 OOPS Assignment 5 Feb.ipynb\n",
      "15-05-2024  13:27             7,245 OOPS Assignment 9th Feb.ipynb\n",
      "09-05-2024  15:26            14,896 OOPS.ipynb\n",
      "09-04-2024  13:16            25,160 pandas advance 1.ipynb\n",
      "09-04-2024  20:10           206,667 pandas advance 2.ipynb\n",
      "13-04-2024  23:18            47,059 pandas Advance assignment.ipynb\n",
      "09-04-2024  21:58            21,183 Pandas Advance part 3.ipynb\n",
      "15-05-2024  12:57            44,121 Pandas Assignment 25th Feb.ipynb\n",
      "12-04-2024  14:29            17,270 Pandas Basic Assignment.ipynb\n",
      "09-04-2024  13:30            23,073 pandas_basic_part1.ipynb\n",
      "25-04-2024  23:14             1,506 Pattern using loops.ipynb\n",
      "13-04-2024  01:11             8,387 plotly.ipynb\n",
      "08-05-2024  18:37             4,353 Polymorphism.ipynb\n",
      "21-04-2024  16:33            11,468 Python Practice Set 1.ipynb\n",
      "21-04-2024  21:07            11,155 Python Practice set 2.ipynb\n",
      "25-05-2024  15:34            11,959 python practice set 4.ipynb\n",
      "23-04-2024  12:00               617 Python Practice set3.ipynb\n",
      "23-05-2024  19:24           172,123 Ridge Lasso Elastic Net Regression.ipynb\n",
      "24-05-2024  17:29               490 ridge.pkl\n",
      "24-08-2023  13:29    <DIR>          Saved Games\n",
      "24-05-2024  17:29               821 scaler.pkl\n",
      "19-05-2024  12:47    <DIR>          scikit_learn_data\n",
      "21-04-2024  13:48           191,541 Seaborn.ipynb\n",
      "24-08-2023  13:29    <DIR>          Searches\n",
      "03-05-2024  14:30             3,928 Simple Linear Regression class.ipynb\n",
      "18-05-2024  13:06            96,668 Simple Linear Regression Using Python.ipynb\n",
      "14-05-2024  12:34             9,741 Special (Magic or Dunder)Methods.ipynb\n",
      "12-05-2024  22:41             6,518 Static Method.ipynb\n",
      "15-05-2024  15:00             7,329 Statistics Assignment 1.ipynb\n",
      "15-05-2024  21:27             5,249 Statistics Assignment 2.ipynb\n",
      "15-05-2024  21:36               840 Statistics Assignment 8 Mar.ipynb\n",
      "25-05-2024  16:29                 0 test2.txt\n",
      "25-05-2024  16:30                 0 test3.txt\n",
      "29-04-2024  13:16                 0 untitled.txt\n",
      "24-08-2023  13:29    <DIR>          Videos\n",
      "25-05-2024  16:31             1,183 Working with files.ipynb\n",
      "              64 File(s)      4,705,783 bytes\n",
      "              23 Dir(s)  383,245,754,368 bytes free\n"
     ]
    }
   ],
   "source": [
    "ls"
   ]
  },
  {
   "cell_type": "code",
   "execution_count": 6,
   "id": "2d2f292a-31b2-4dba-af16-39c1d95d268e",
   "metadata": {},
   "outputs": [
    {
     "data": {
      "text/plain": [
       "38"
      ]
     },
     "execution_count": 6,
     "metadata": {},
     "output_type": "execute_result"
    }
   ],
   "source": [
    "f.write(\"this is my first write ops in the file\")"
   ]
  },
  {
   "cell_type": "code",
   "execution_count": null,
   "id": "c8d266bf-9114-4b48-98f0-34b5e893bdf9",
   "metadata": {},
   "outputs": [],
   "source": [
    "# You have to close the file only then only any write operation will work and gets saved."
   ]
  },
  {
   "cell_type": "code",
   "execution_count": 7,
   "id": "c257b775-e790-459f-bca2-53f87b07b3ec",
   "metadata": {},
   "outputs": [],
   "source": [
    "f.close()"
   ]
  },
  {
   "cell_type": "code",
   "execution_count": 9,
   "id": "aacc6c0a-56d4-43ed-ac1e-3e5ecec5768e",
   "metadata": {},
   "outputs": [],
   "source": [
    "data = open(\"test3.txt\",\"r\")"
   ]
  },
  {
   "cell_type": "code",
   "execution_count": 12,
   "id": "224e0861-825e-4cde-abed-e720f1a58ea3",
   "metadata": {},
   "outputs": [
    {
     "data": {
      "text/plain": [
       "'this is my first write ops in the file'"
      ]
     },
     "execution_count": 12,
     "metadata": {},
     "output_type": "execute_result"
    }
   ],
   "source": [
    "data.read()"
   ]
  },
  {
   "cell_type": "code",
   "execution_count": 13,
   "id": "c00f5d69-59de-4c78-affb-6029fad36ff4",
   "metadata": {},
   "outputs": [
    {
     "data": {
      "text/plain": [
       "''"
      ]
     },
     "execution_count": 13,
     "metadata": {},
     "output_type": "execute_result"
    }
   ],
   "source": [
    "data.read()"
   ]
  },
  {
   "cell_type": "code",
   "execution_count": 14,
   "id": "9a33b1b6-0d89-40e9-a747-feddad5b0826",
   "metadata": {},
   "outputs": [],
   "source": [
    "# Cursor was available at last so got blank, hence we always have to reset the cluster.\n",
    "## use Seek always"
   ]
  },
  {
   "cell_type": "code",
   "execution_count": 24,
   "id": "1b39de3f-c42e-4c07-8d1c-1fb36ef8f490",
   "metadata": {},
   "outputs": [
    {
     "data": {
      "text/plain": [
       "0"
      ]
     },
     "execution_count": 24,
     "metadata": {},
     "output_type": "execute_result"
    }
   ],
   "source": [
    "data.seek(0)"
   ]
  },
  {
   "cell_type": "code",
   "execution_count": 25,
   "id": "201c7f8e-374a-4e84-aa3d-7cf9687f2481",
   "metadata": {},
   "outputs": [
    {
     "data": {
      "text/plain": [
       "'this is my first write ops in the file'"
      ]
     },
     "execution_count": 25,
     "metadata": {},
     "output_type": "execute_result"
    }
   ],
   "source": [
    "data.read()"
   ]
  },
  {
   "cell_type": "code",
   "execution_count": null,
   "id": "3780c4d6-a3e9-48ce-83d3-5e8f3daf5e78",
   "metadata": {},
   "outputs": [],
   "source": []
  },
  {
   "cell_type": "code",
   "execution_count": 27,
   "id": "805a3eb8-8946-4121-b1f5-8f8415af2ab4",
   "metadata": {},
   "outputs": [],
   "source": [
    "data1 = open(\"test3.txt\",'r')"
   ]
  },
  {
   "cell_type": "code",
   "execution_count": 28,
   "id": "88f7f96e-a63f-413d-9dfd-42647804eac2",
   "metadata": {},
   "outputs": [
    {
     "name": "stdout",
     "output_type": "stream",
     "text": [
      "this is my first write ops in the file\n"
     ]
    }
   ],
   "source": [
    "for i in data1:\n",
    "    print(i)"
   ]
  },
  {
   "cell_type": "code",
   "execution_count": null,
   "id": "a5ac50a5-d44e-4f3a-8244-3b89bd74f3d7",
   "metadata": {},
   "outputs": [],
   "source": []
  },
  {
   "cell_type": "code",
   "execution_count": 29,
   "id": "d990e364-c8b7-4ae1-9e61-b416b5e4517b",
   "metadata": {},
   "outputs": [],
   "source": [
    "import os"
   ]
  },
  {
   "cell_type": "code",
   "execution_count": 30,
   "id": "a61824f8-c9c2-4d64-9ca9-f8ed2cdcba19",
   "metadata": {},
   "outputs": [
    {
     "data": {
      "text/plain": [
       "38"
      ]
     },
     "execution_count": 30,
     "metadata": {},
     "output_type": "execute_result"
    }
   ],
   "source": [
    "os.path.getsize(\"test3.txt\")"
   ]
  },
  {
   "cell_type": "code",
   "execution_count": 31,
   "id": "facdccec-6c6b-4861-bc0c-1ce04aa76550",
   "metadata": {},
   "outputs": [],
   "source": [
    "import shutil"
   ]
  },
  {
   "cell_type": "code",
   "execution_count": 32,
   "id": "db6c5c27-e215-487f-ba69-ca6a91067e13",
   "metadata": {},
   "outputs": [
    {
     "data": {
      "text/plain": [
       "'test4.txt'"
      ]
     },
     "execution_count": 32,
     "metadata": {},
     "output_type": "execute_result"
    }
   ],
   "source": [
    "shutil.copy(\"test3.txt\",\"test4.txt\")"
   ]
  },
  {
   "cell_type": "code",
   "execution_count": 34,
   "id": "91110f34-365f-4915-b31b-f70692a3bab2",
   "metadata": {},
   "outputs": [
    {
     "ename": "PermissionError",
     "evalue": "[WinError 32] The process cannot access the file because it is being used by another process: 'test3.txt' -> 'test5.txt'",
     "output_type": "error",
     "traceback": [
      "\u001b[1;31m---------------------------------------------------------------------------\u001b[0m",
      "\u001b[1;31mPermissionError\u001b[0m                           Traceback (most recent call last)",
      "Cell \u001b[1;32mIn[34], line 1\u001b[0m\n\u001b[1;32m----> 1\u001b[0m os\u001b[38;5;241m.\u001b[39mrename(\u001b[38;5;124m\"\u001b[39m\u001b[38;5;124mtest3.txt\u001b[39m\u001b[38;5;124m\"\u001b[39m,\u001b[38;5;124m\"\u001b[39m\u001b[38;5;124mtest5.txt\u001b[39m\u001b[38;5;124m\"\u001b[39m)\n",
      "\u001b[1;31mPermissionError\u001b[0m: [WinError 32] The process cannot access the file because it is being used by another process: 'test3.txt' -> 'test5.txt'"
     ]
    }
   ],
   "source": [
    "os.rename(\"test3.txt\",\"test5.txt\")"
   ]
  },
  {
   "cell_type": "code",
   "execution_count": 35,
   "id": "50dff45c-5b40-4746-81f8-a6b7756806ea",
   "metadata": {},
   "outputs": [],
   "source": [
    "####"
   ]
  },
  {
   "cell_type": "code",
   "execution_count": 36,
   "id": "0174ee46-c873-411e-a729-2dc64a42ef28",
   "metadata": {},
   "outputs": [],
   "source": [
    "# Reading and Writing Files \n"
   ]
  },
  {
   "cell_type": "code",
   "execution_count": 37,
   "id": "057c57a6-42a9-4e5e-8724-fa5ce8cdad68",
   "metadata": {},
   "outputs": [],
   "source": [
    "# different files type"
   ]
  },
  {
   "cell_type": "code",
   "execution_count": 38,
   "id": "fee117fd-0a96-4f2c-bfd9-13854e9b38ab",
   "metadata": {},
   "outputs": [],
   "source": [
    "data = { \"name\" : \"sudh\",\n",
    "          \"mail_id\" : \"ndjd@gmail.com\",\n",
    "        \"phone_number\" : 38923928,\n",
    "        \"subject\" : [\"a\",\"b\",\"c\",\"d\"]\n",
    "       }"
   ]
  },
  {
   "cell_type": "code",
   "execution_count": 39,
   "id": "643fd9c5-ca53-4a04-92af-2e35be009a30",
   "metadata": {},
   "outputs": [
    {
     "data": {
      "text/plain": [
       "{'name': 'sudh',\n",
       " 'mail_id': 'ndjd@gmail.com',\n",
       " 'phone_number': 38923928,\n",
       " 'subject': ['a', 'b', 'c', 'd']}"
      ]
     },
     "execution_count": 39,
     "metadata": {},
     "output_type": "execute_result"
    }
   ],
   "source": [
    "data"
   ]
  },
  {
   "cell_type": "code",
   "execution_count": 40,
   "id": "35eda200-c366-4e82-93fc-65f7a42e5635",
   "metadata": {},
   "outputs": [],
   "source": [
    "# dictonary = Json "
   ]
  },
  {
   "cell_type": "code",
   "execution_count": 41,
   "id": "1aa72ec0-2054-4375-9b21-248bbd6b7ffc",
   "metadata": {},
   "outputs": [],
   "source": [
    "# java script object notation "
   ]
  },
  {
   "cell_type": "code",
   "execution_count": 42,
   "id": "d4734d7c-8269-47d8-999c-29a5b7295e59",
   "metadata": {},
   "outputs": [],
   "source": [
    "import json "
   ]
  },
  {
   "cell_type": "code",
   "execution_count": 43,
   "id": "fa34c0b2-83d3-4f4e-9e88-5f7caa032c4e",
   "metadata": {},
   "outputs": [],
   "source": [
    "with open (\"test3.json\",'w') as f:\n",
    "    json.dump(data,f)"
   ]
  },
  {
   "cell_type": "code",
   "execution_count": 45,
   "id": "c0f94e2f-d397-4e7b-b16e-b35dc4ae7a7c",
   "metadata": {},
   "outputs": [],
   "source": [
    "with open(\"test3.json\",'r') as f:\n",
    "    data1 = json.load(f)"
   ]
  },
  {
   "cell_type": "code",
   "execution_count": 46,
   "id": "cdb4d06b-b85a-40ca-8429-29a1c2766110",
   "metadata": {},
   "outputs": [
    {
     "data": {
      "text/plain": [
       "{'name': 'sudh',\n",
       " 'mail_id': 'ndjd@gmail.com',\n",
       " 'phone_number': 38923928,\n",
       " 'subject': ['a', 'b', 'c', 'd']}"
      ]
     },
     "execution_count": 46,
     "metadata": {},
     "output_type": "execute_result"
    }
   ],
   "source": [
    "data1\n"
   ]
  },
  {
   "cell_type": "code",
   "execution_count": 47,
   "id": "70279c73-bc08-4697-a1ee-e78839cd8e75",
   "metadata": {},
   "outputs": [
    {
     "data": {
      "text/plain": [
       "['a', 'b', 'c', 'd']"
      ]
     },
     "execution_count": 47,
     "metadata": {},
     "output_type": "execute_result"
    }
   ],
   "source": [
    "data1['subject']"
   ]
  },
  {
   "cell_type": "code",
   "execution_count": 48,
   "id": "bbf2d23a-9d84-4857-a506-905e3c239fe2",
   "metadata": {},
   "outputs": [],
   "source": [
    "########## CSV"
   ]
  },
  {
   "cell_type": "code",
   "execution_count": 49,
   "id": "b750a5fe-1190-48be-bbfb-2d1d57586853",
   "metadata": {},
   "outputs": [],
   "source": [
    "data = [[\"name\",\"email_id\",\"number\"],[\"sudh\",\"sudh@gmail.com\",43874387],[\"krish\",\"krish@gmail.com\",23232323]]"
   ]
  },
  {
   "cell_type": "code",
   "execution_count": 50,
   "id": "d4e3f029-2143-4759-ad76-5b437812b558",
   "metadata": {},
   "outputs": [],
   "source": [
    "import csv"
   ]
  },
  {
   "cell_type": "code",
   "execution_count": 53,
   "id": "7376dd6a-a72b-4a30-a128-074fa7756f9a",
   "metadata": {},
   "outputs": [],
   "source": [
    "with open (\"test3.csv\",'w') as f:\n",
    "    w = csv.writer(f)\n",
    "    for i in data:\n",
    "        w.writerow(i)"
   ]
  },
  {
   "cell_type": "code",
   "execution_count": 54,
   "id": "dfd95110-1213-4b69-8a3a-fc3ca7f9a2e7",
   "metadata": {},
   "outputs": [],
   "source": [
    "#### Buffered read and Write"
   ]
  },
  {
   "cell_type": "code",
   "execution_count": 58,
   "id": "39eeb201-9825-407f-8427-74813bebe290",
   "metadata": {},
   "outputs": [],
   "source": [
    "import io"
   ]
  },
  {
   "cell_type": "code",
   "execution_count": 56,
   "id": "4a3eca80-ffbf-4e57-8f1f-9b1c7b6842d8",
   "metadata": {},
   "outputs": [],
   "source": [
    "# Reading files in chunk "
   ]
  },
  {
   "cell_type": "code",
   "execution_count": 60,
   "id": "9332a317-4eb6-458a-bed3-0dae555aec19",
   "metadata": {},
   "outputs": [],
   "source": [
    "with open (\"test3.txt\",\"wb\") as f:\n",
    "    file = io.BufferedWriter(f)\n",
    "    file.write(b\"this is my buffer write\")\n",
    "    file.write(b\"this is my second line that i am trying to write\")\n",
    "    file.flush()"
   ]
  },
  {
   "cell_type": "code",
   "execution_count": null,
   "id": "03002ae6-f87c-427e-b470-9d16240bacad",
   "metadata": {},
   "outputs": [],
   "source": []
  },
  {
   "cell_type": "code",
   "execution_count": 62,
   "id": "9c32d8d5-55ae-4a2a-af3f-17c4222ebd97",
   "metadata": {},
   "outputs": [],
   "source": [
    "import logging"
   ]
  },
  {
   "cell_type": "code",
   "execution_count": 63,
   "id": "2eb417c6-a410-4fdc-9f1e-bf2ff0e4df1b",
   "metadata": {},
   "outputs": [],
   "source": [
    "logging.basicConfig(filename = \"test33.log\",level = logging.DEBUG,format = '%(asctime)s %(message)s')"
   ]
  },
  {
   "cell_type": "code",
   "execution_count": 64,
   "id": "0187b7e4-a83f-483b-8d3d-d8c1c3bdc658",
   "metadata": {},
   "outputs": [],
   "source": [
    "logging.info(\"this is my line of education\")"
   ]
  },
  {
   "cell_type": "code",
   "execution_count": null,
   "id": "41d0e7ac-caeb-4520-b29c-f03c032ee26d",
   "metadata": {},
   "outputs": [],
   "source": []
  }
 ],
 "metadata": {
  "kernelspec": {
   "display_name": "Python 3 (ipykernel)",
   "language": "python",
   "name": "python3"
  },
  "language_info": {
   "codemirror_mode": {
    "name": "ipython",
    "version": 3
   },
   "file_extension": ".py",
   "mimetype": "text/x-python",
   "name": "python",
   "nbconvert_exporter": "python",
   "pygments_lexer": "ipython3",
   "version": "3.11.7"
  }
 },
 "nbformat": 4,
 "nbformat_minor": 5
}
