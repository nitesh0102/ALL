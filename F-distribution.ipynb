{
 "cells": [
  {
   "cell_type": "code",
   "execution_count": null,
   "id": "4f1ebbe9-ee9d-417c-bd50-061cfa25a3da",
   "metadata": {},
   "outputs": [],
   "source": [
    "The F-distribution or F-ration also known as snedecor's f-distribution or the fisher-snecdecor distribution is a continous \n",
    "probability distribution that arises frequently as the null distribution of a test statistic, most notably in the analysis \n",
    "of variance (Anova) and other F-tests."
   ]
  },
  {
   "cell_type": "code",
   "execution_count": null,
   "id": "1950480e-6d81-4534-99f2-2efa751eafee",
   "metadata": {},
   "outputs": [],
   "source": [
    "F-distribution is right skewed."
   ]
  },
  {
   "cell_type": "code",
   "execution_count": null,
   "id": "21f0d606-8284-4af6-85cb-9646536b0271",
   "metadata": {},
   "outputs": [],
   "source": [
    "parameters = d1,d2 > 0 degree of freedom\n",
    "support x belongs to (0 to infinite) "
   ]
  },
  {
   "cell_type": "code",
   "execution_count": null,
   "id": "09735955-53d9-496a-85aa-2ebe3924db50",
   "metadata": {},
   "outputs": [],
   "source": [
    "F-distribution with d1 and d2 degree of freedom is the distribution of \n",
    "\n",
    "X = (s1/d1)/(s2/d2) \n",
    "\n",
    "s1 and s2 : indpendent random variable with chi square distribution \n",
    "d1 and d2 : Respective degree of freedom "
   ]
  },
  {
   "cell_type": "code",
   "execution_count": null,
   "id": "73e30cf4-5228-4ee5-9b21-fbc20e9751b8",
   "metadata": {},
   "outputs": [],
   "source": [
    "F-test (Variance Ratio Test) \n",
    "\n",
    "F-test is generally used to compare mean and variance between two groups. "
   ]
  },
  {
   "cell_type": "code",
   "execution_count": null,
   "id": "8d098b59-26d1-49d4-ae4c-5eb245ce69ee",
   "metadata": {},
   "outputs": [],
   "source": []
  },
  {
   "cell_type": "code",
   "execution_count": null,
   "id": "1374de96-1207-40c5-8a82-591897803fe1",
   "metadata": {},
   "outputs": [],
   "source": [
    "## Hypothesis testing using F-Test\n",
    "\n",
    "It is also called as variance ratio test. "
   ]
  },
  {
   "cell_type": "code",
   "execution_count": null,
   "id": "c8710f16-5242-4daf-8725-7e4e90eaa31b",
   "metadata": {},
   "outputs": [],
   "source": [
    "Important :    Variance of Two Groups ---   F-Test"
   ]
  },
  {
   "cell_type": "code",
   "execution_count": null,
   "id": "17815d3f-67d4-4767-ace2-7eca7fc277f9",
   "metadata": {},
   "outputs": [],
   "source": [
    "Ex: The follwing data shows the no. of bulbs produced daily for some days by 2 workers A and B \n",
    "\n",
    "A: 40,30,38,41,38,35\n",
    "B: 39,38,41,33,32,39,40,34\n",
    "\n",
    "Can we consider based on the data that worker B is more stable and efficient ?\n",
    "Alpha = Sinificance Value = 0.05\n",
    "C.I. = 95%"
   ]
  },
  {
   "cell_type": "code",
   "execution_count": null,
   "id": "38d2c6e8-4893-4623-a463-ae5b8632ecf0",
   "metadata": {},
   "outputs": [],
   "source": [
    "Ans : \n",
    "Null Hypothesis  H0 = (sigma1)^2 = (sigma2)^2\n",
    "H1 = (sigma1)^2 != (sigma2)^2"
   ]
  },
  {
   "cell_type": "code",
   "execution_count": null,
   "id": "4de85558-1485-4a12-8512-959729227e62",
   "metadata": {},
   "outputs": [],
   "source": [
    "Variance    =    sum(X-Xi)^2/n-1"
   ]
  },
  {
   "cell_type": "code",
   "execution_count": null,
   "id": "44ca0776-f735-4417-9eaf-7d06d71cff0f",
   "metadata": {},
   "outputs": [],
   "source": [
    "Worker A Variance calculated = 16\n",
    "Worked B Variance calculated = 12"
   ]
  },
  {
   "cell_type": "code",
   "execution_count": null,
   "id": "03d8f49e-d54a-49ca-a4dc-710544c70e24",
   "metadata": {},
   "outputs": [],
   "source": [
    "Calculation of variance ratio tets = 16/12 = 1.33"
   ]
  },
  {
   "cell_type": "code",
   "execution_count": null,
   "id": "7d414aad-02be-43a9-bf72-343602f901e1",
   "metadata": {},
   "outputs": [],
   "source": [
    "Decision rule\n",
    "df1 = 6-1 = 5\n",
    "df2 = 8-1 = 7 \n",
    "Alpha = 0.05 \n",
    "\n",
    "--------------------------0.05---------\n",
    "Acceptance Area            CV    Rejection Area\n",
    "\n",
    "Find Critical value for this data using F-table\n",
    "\n",
    "CV = 3.9715\n",
    "\n",
    "1.33 < 3.9715 we fail to reject the null hypothesis because we are falling in the acceptance Area.\n",
    "\n",
    "\n",
    "Conclusion : Worker B is not more stable than worker A. \n",
    "\n"
   ]
  },
  {
   "cell_type": "code",
   "execution_count": null,
   "id": "70e0315a-98e8-4666-a9f2-398f0b9cb1b2",
   "metadata": {},
   "outputs": [],
   "source": []
  },
  {
   "cell_type": "markdown",
   "id": "f64806c6-b42b-47aa-8e98-163e72d51be8",
   "metadata": {},
   "source": [
    "## F-test Using python "
   ]
  },
  {
   "cell_type": "code",
   "execution_count": 1,
   "id": "ecc11227-0835-4c0a-972a-60820307700d",
   "metadata": {},
   "outputs": [],
   "source": [
    "import scipy.stats as stat\n",
    "import numpy as np"
   ]
  },
  {
   "cell_type": "code",
   "execution_count": 2,
   "id": "4f413de3-8ff5-446f-8e91-1a7cd4867677",
   "metadata": {},
   "outputs": [],
   "source": [
    "worker1 = [18,19,22,25,27,28,41,45,51,55]\n",
    "worker2 = [14,15,15,17,18,22,25,25,27,34]"
   ]
  },
  {
   "cell_type": "code",
   "execution_count": null,
   "id": "29122d4d-9c90-439c-a7d7-00feb8400691",
   "metadata": {},
   "outputs": [],
   "source": [
    "Can we check if one worker is better than other. "
   ]
  },
  {
   "cell_type": "code",
   "execution_count": null,
   "id": "4f71267b-a166-4535-89a7-7dc0428685ec",
   "metadata": {},
   "outputs": [],
   "source": [
    "#Calculate the F test statistics "
   ]
  },
  {
   "cell_type": "code",
   "execution_count": 3,
   "id": "93f2f4e2-b38a-4e5f-9b58-81739930bdba",
   "metadata": {},
   "outputs": [],
   "source": [
    "f_test= np.var(worker1)/np.var(worker2)"
   ]
  },
  {
   "cell_type": "code",
   "execution_count": 4,
   "id": "ffec89db-4db3-4072-83d5-58e4ad4f2c5a",
   "metadata": {},
   "outputs": [
    {
     "data": {
      "text/plain": [
       "4.387122002085506"
      ]
     },
     "execution_count": 4,
     "metadata": {},
     "output_type": "execute_result"
    }
   ],
   "source": [
    "f_test"
   ]
  },
  {
   "cell_type": "code",
   "execution_count": 6,
   "id": "906aac73-7183-45a9-b82f-882939e81853",
   "metadata": {},
   "outputs": [],
   "source": [
    "df1 = len(worker1)-1\n",
    "df2 = len(worker2)-1"
   ]
  },
  {
   "cell_type": "code",
   "execution_count": 8,
   "id": "5c7b5200-5957-447e-83ca-d865b1083965",
   "metadata": {},
   "outputs": [],
   "source": [
    "cv = stat.f.ppf(0.95,df1,df2)"
   ]
  },
  {
   "cell_type": "code",
   "execution_count": 9,
   "id": "a0c2d2eb-960c-48dc-b76f-f7f7d0f1bb76",
   "metadata": {},
   "outputs": [
    {
     "name": "stdout",
     "output_type": "stream",
     "text": [
      "Reject the null hypothesis\n"
     ]
    }
   ],
   "source": [
    "if f_test > cv: \n",
    "    print(\"Reject the null hypothesis\")\n",
    "else: \n",
    "    print(\"Accept the null hypothesis\")"
   ]
  },
  {
   "cell_type": "code",
   "execution_count": null,
   "id": "f7d8dc15-4fd2-4346-b751-d1454cfb9a80",
   "metadata": {},
   "outputs": [],
   "source": []
  }
 ],
 "metadata": {
  "kernelspec": {
   "display_name": "Python 3 (ipykernel)",
   "language": "python",
   "name": "python3"
  },
  "language_info": {
   "codemirror_mode": {
    "name": "ipython",
    "version": 3
   },
   "file_extension": ".py",
   "mimetype": "text/x-python",
   "name": "python",
   "nbconvert_exporter": "python",
   "pygments_lexer": "ipython3",
   "version": "3.11.7"
  }
 },
 "nbformat": 4,
 "nbformat_minor": 5
}
