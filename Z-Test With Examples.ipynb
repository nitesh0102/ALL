{
 "cells": [
  {
   "cell_type": "code",
   "execution_count": null,
   "id": "66358a2b-e3f4-4f77-87ed-27cbe0485657",
   "metadata": {},
   "outputs": [],
   "source": [
    "Hypothesis testing and statistical Analysis"
   ]
  },
  {
   "cell_type": "code",
   "execution_count": null,
   "id": "5d353280-746e-4687-b72e-63830f3cf357",
   "metadata": {},
   "outputs": [],
   "source": [
    "There are various types of test\n",
    "1. Z-test - For Averages data like sample avg -- -Zscore and Ztable\n",
    "2. T- test - For Averages data\n",
    "3. Chi-Square Test - For categorical data\n",
    "4. Anova - For Variance of data\n",
    "\n",
    "etc. "
   ]
  },
  {
   "cell_type": "code",
   "execution_count": null,
   "id": "7567d578-d37b-4425-930d-0e9946193c84",
   "metadata": {},
   "outputs": [],
   "source": [
    "Z - Test --- Whenever you want to use Z test you need to have \n",
    "\n",
    "Population Standard deviation \n",
    "and sample size greater than 30. "
   ]
  },
  {
   "cell_type": "code",
   "execution_count": null,
   "id": "bf2c570c-42e7-4c42-89d4-1e1b673e366f",
   "metadata": {},
   "outputs": [],
   "source": [
    "Ex"
   ]
  },
  {
   "cell_type": "code",
   "execution_count": null,
   "id": "b9608176-8933-4959-acf4-0280d7d02c4b",
   "metadata": {},
   "outputs": [],
   "source": [
    "Q : The Avg height of all the residents in a city is 168 cm with a SD = 3.9. A doctor believes the mean to be different. He measured the height of \n",
    "36 individuals and found the avg height to be 169.5 cm\n",
    "\n",
    "(a) state null and alternate hypothesis\n",
    "(b) At a 95% confidence interval, is there enough evidence to reject the null hypothesis. "
   ]
  },
  {
   "cell_type": "code",
   "execution_count": null,
   "id": "d6a78aed-df45-4d73-a9a3-4df22e24fbb0",
   "metadata": {},
   "outputs": [],
   "source": [
    "Ans: \n",
    "     mean = 168\n",
    "     SD = 3.9\n",
    "      n = 36\n",
    "      Xbar = 169.5\n",
    "      C.I = 0.95\n",
    "      Alpha = 1 -0.95 = 0.05\n",
    "\n",
    "\n",
    "(a)\n",
    "     H0 = mean = 168\n",
    "     H1 = 169.5 != mean\n",
    "     n = 36 (can apply z - test)\n",
    "\n",
    "(b) based on C.I we will draw decision boundary - --- Create the bell curve \n",
    "\n",
    "\n",
    "2-Tail test (mean is not equal to 168) \n",
    "\n",
    "Area on both sides = 0.025 \n",
    "\n",
    "1 - 0.025 = 0.975 Area under the curve\n",
    "\n",
    "on 0.975 Z-score is 1.96\n",
    "on 0.025 Z-score is -1.96\n",
    "\n",
    "now the conclusion is if new z-score is less than -1.96 and greater than 1.96 we have to reject the null hypothesis. \n",
    "\n",
    "\n",
    "    Z-test :  (Xbar - mean) / ( SD / root(sample size)) \n",
    "\n",
    " (169.5 - 168) / (3.9/(root(36)) = 1.5 / (3.9/6) = 1.5/0.65 = 2.31 \n",
    "\n",
    "\n",
    "2.31 >> 1.96 \n",
    "\n",
    "we have to reject the null hypothesis \n",
    "\n",
    "\n"
   ]
  },
  {
   "cell_type": "code",
   "execution_count": null,
   "id": "82070fc2-94ec-4dd3-af07-7632eed24a16",
   "metadata": {},
   "outputs": [],
   "source": []
  },
  {
   "cell_type": "code",
   "execution_count": null,
   "id": "8fc705b7-0f5f-4426-b6e7-de470643d1c5",
   "metadata": {},
   "outputs": [],
   "source": []
  },
  {
   "cell_type": "code",
   "execution_count": null,
   "id": "0da62eb3-e505-4c8e-9020-41c5aeea6a45",
   "metadata": {},
   "outputs": [],
   "source": [
    "## Q2 \n",
    "A factory manufactures bulbs with a Average warranty of 5 years with standard deviation of 0.50. A worker believes that the bulb life is less\n",
    "than 5 years. He tests a sample of 40 bulbs and find the average time to be 4.8 years. \n",
    "\n",
    "(a) state null and alternate hypothesis. \n",
    "(b) At a 2% significance level, is there enough evidence to support the idea that the warranty should be revised. "
   ]
  },
  {
   "cell_type": "code",
   "execution_count": null,
   "id": "7b5820e4-374e-41e6-a2be-dc536c58cc88",
   "metadata": {},
   "outputs": [],
   "source": [
    "Ans: \n",
    "\n",
    "mean = 5 yrs \n",
    "SD = 0.5 \n",
    "n = 40 \n",
    "Alpha = 0.02 \n",
    "C.I = 0.98\n",
    "\n",
    "(a) Null Hypothesis H0 = mean = 5 \n",
    "                    H1 = 4.8 != mean \n",
    "\n",
    "(b) M # 1\n",
    "Z value for 98% confidence interval  = 2.32 \n",
    "\n",
    "Z - test = (4.8 - 5)/ (0.5/root(40) = -0.2/ 0.5/6.32 = -2.529\n",
    "\n",
    "Z score is less than -2.32 so we have to reject the null hypothesis. \n",
    "\n",
    "M # 2 \n",
    "Z - test = (4.8 - 5)/ (0.5/root(40) = -0.2/ 0.5/6.32 = -2.529\n",
    "\n",
    "Area under the curve for this z score on first left of the bell curve = 0.0059 \n",
    "\n",
    "Total area on both sides = 0.0059 + 0.0059 =   0.0118\n",
    "\n",
    "P - value = 0.0118 \n",
    "\n",
    "P value < 0.02 \n",
    "\n",
    "We need to reject the null hypothesis. \n",
    "                    \n"
   ]
  },
  {
   "cell_type": "code",
   "execution_count": null,
   "id": "4b4b1b3f-9a52-43e4-afda-9eadfd405a28",
   "metadata": {},
   "outputs": [],
   "source": [
    "Now if this is a 1-Tail Test\n",
    "we don't have to multiply the area by 2 and p value becomes 0.0059 only. "
   ]
  }
 ],
 "metadata": {
  "kernelspec": {
   "display_name": "Python 3 (ipykernel)",
   "language": "python",
   "name": "python3"
  },
  "language_info": {
   "codemirror_mode": {
    "name": "ipython",
    "version": 3
   },
   "file_extension": ".py",
   "mimetype": "text/x-python",
   "name": "python",
   "nbconvert_exporter": "python",
   "pygments_lexer": "ipython3",
   "version": "3.11.7"
  }
 },
 "nbformat": 4,
 "nbformat_minor": 5
}
