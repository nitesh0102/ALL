{
 "cells": [
  {
   "cell_type": "code",
   "execution_count": 1,
   "id": "e30e5d88-65b8-4c2a-9b96-5fa523145484",
   "metadata": {},
   "outputs": [],
   "source": [
    "class pwskills:\n",
    "    \n",
    "    def student_details(self,name,email_id,number):\n",
    "        print(name,email_id,number)"
   ]
  },
  {
   "cell_type": "code",
   "execution_count": 2,
   "id": "750cb3ec-14bb-4c49-a3c2-6ca711168fb5",
   "metadata": {},
   "outputs": [],
   "source": [
    "pw = pwskills()"
   ]
  },
  {
   "cell_type": "code",
   "execution_count": 5,
   "id": "57978a3d-275e-456f-a161-e7b9102de337",
   "metadata": {},
   "outputs": [
    {
     "name": "stdout",
     "output_type": "stream",
     "text": [
      "nitesh nitesh@gmail.com 7387432\n"
     ]
    }
   ],
   "source": [
    "pw.student_details(\"nitesh\",\"nitesh@gmail.com\",7387432)"
   ]
  },
  {
   "cell_type": "markdown",
   "id": "111ff754-b39c-4e04-a192-7195811d6253",
   "metadata": {},
   "source": [
    "**<font color='green'>Can i create any function in a class which is indepent of an object?</font>**\r\n"
   ]
  },
  {
   "cell_type": "code",
   "execution_count": 6,
   "id": "8b17baa3-4fb7-4943-b12c-8b3c0309cd3f",
   "metadata": {},
   "outputs": [],
   "source": [
    "class pwskills:\n",
    "    #  Instance method is always object dependent. \n",
    "    def student_details(self,name,email_id,number):\n",
    "        print(name,email_id,number)"
   ]
  },
  {
   "cell_type": "code",
   "execution_count": 15,
   "id": "1f0072e3-805f-4457-8ca6-3226d2a9a1df",
   "metadata": {},
   "outputs": [],
   "source": [
    "class pwskills1:\n",
    "    \n",
    "    def student_details(self,name,email_id,number):\n",
    "        print(name,email_id,number)\n",
    "        \n",
    "    @staticmethod\n",
    "    def mentor_class(list_mentor):\n",
    "        print(list_mentor)\n",
    "        \n",
    "    def mentor(self,mentor_list):\n",
    "        print(mentor_list)"
   ]
  },
  {
   "cell_type": "code",
   "execution_count": 10,
   "id": "3b91fdbc-acc7-43a3-8e75-81587052b4fc",
   "metadata": {},
   "outputs": [
    {
     "name": "stdout",
     "output_type": "stream",
     "text": [
      "['nitesh', 'sethia']\n"
     ]
    }
   ],
   "source": [
    "pw2_obj = pwskills1.mentor_class([\"nitesh\",\"sethia\"])"
   ]
  },
  {
   "cell_type": "code",
   "execution_count": 18,
   "id": "68fc3430-5a9f-45bb-836a-87d8ddb72d65",
   "metadata": {},
   "outputs": [],
   "source": [
    "pw3_obj = pwskills1()"
   ]
  },
  {
   "cell_type": "code",
   "execution_count": 21,
   "id": "39e73f88-63c7-4ce0-97e0-22bff3cfe6d4",
   "metadata": {},
   "outputs": [
    {
     "name": "stdout",
     "output_type": "stream",
     "text": [
      "['nitesh', 'sethia']\n"
     ]
    }
   ],
   "source": [
    "pw3_obj.mentor([\"nitesh\",\"sethia\"])"
   ]
  },
  {
   "cell_type": "code",
   "execution_count": 23,
   "id": "493432d9-e307-431a-94c8-21ed391098ff",
   "metadata": {},
   "outputs": [
    {
     "name": "stdout",
     "output_type": "stream",
     "text": [
      "['nitesh', 'sethia']\n"
     ]
    }
   ],
   "source": [
    "pw3_obj.mentor_class([\"nitesh\",\"sethia\"])"
   ]
  },
  {
   "cell_type": "code",
   "execution_count": 25,
   "id": "46a3e513-4433-404f-b98b-b49c828e3b79",
   "metadata": {},
   "outputs": [
    {
     "name": "stdout",
     "output_type": "stream",
     "text": [
      "['nitesh', 'sethia']\n"
     ]
    }
   ],
   "source": [
    "pwskills1.mentor_class([\"nitesh\",\"sethia\"])"
   ]
  },
  {
   "cell_type": "markdown",
   "id": "71ed0eee-2b0c-4703-ba75-9b0ca6bd30c0",
   "metadata": {},
   "source": [
    "<font color = \"red\"> What is the differnce then in static method vs instance method </font>"
   ]
  },
  {
   "cell_type": "markdown",
   "id": "c8399343-effa-4cb7-838c-c9a48eaf7fa7",
   "metadata": {},
   "source": [
    "1. For static method they are available to all the objects \n",
    "and for any instance method every time an object is created a new space in memory will be crated for a replica to connect object to \n",
    "the instance method. which is going to take a lot of space in memory."
   ]
  },
  {
   "cell_type": "markdown",
   "id": "5bb116d4-89da-48d5-8381-36de6fa4f0a4",
   "metadata": {},
   "source": [
    "2. A static method is directly available to a class so it will be availble to all the objects of the class. \n"
   ]
  },
  {
   "cell_type": "code",
   "execution_count": 28,
   "id": "7d668c2e-ca6b-4043-b35d-1dd7d94ebfd3",
   "metadata": {},
   "outputs": [
    {
     "data": {
      "text/plain": [
       "<function __main__.pwskills1.student_details(self, name, email_id, number)>"
      ]
     },
     "execution_count": 28,
     "metadata": {},
     "output_type": "execute_result"
    }
   ],
   "source": [
    "pwskills1.student_details"
   ]
  },
  {
   "cell_type": "code",
   "execution_count": 29,
   "id": "b4324c8b-383b-4fe4-a9c8-b67c270bca4c",
   "metadata": {},
   "outputs": [
    {
     "data": {
      "text/plain": [
       "<function __main__.pwskills1.mentor_class(list_mentor)>"
      ]
     },
     "execution_count": 29,
     "metadata": {},
     "output_type": "execute_result"
    }
   ],
   "source": [
    "pwskills1.mentor_class"
   ]
  },
  {
   "cell_type": "code",
   "execution_count": 30,
   "id": "434276c0-41e7-4cd9-92f5-f059aabe9702",
   "metadata": {},
   "outputs": [
    {
     "data": {
      "text/plain": [
       "<function __main__.pwskills1.mentor(self, mentor_list)>"
      ]
     },
     "execution_count": 30,
     "metadata": {},
     "output_type": "execute_result"
    }
   ],
   "source": [
    "pwskills1.mentor"
   ]
  },
  {
   "cell_type": "code",
   "execution_count": 31,
   "id": "7e7ab47e-f318-4f00-8a73-e9d1bc90087f",
   "metadata": {},
   "outputs": [],
   "source": [
    "# Now how to access a static method inside an instance method"
   ]
  },
  {
   "cell_type": "code",
   "execution_count": null,
   "id": "25b55797-327a-4609-8b1e-7c6331f649f7",
   "metadata": {},
   "outputs": [],
   "source": []
  }
 ],
 "metadata": {
  "kernelspec": {
   "display_name": "Python 3 (ipykernel)",
   "language": "python",
   "name": "python3"
  },
  "language_info": {
   "codemirror_mode": {
    "name": "ipython",
    "version": 3
   },
   "file_extension": ".py",
   "mimetype": "text/x-python",
   "name": "python",
   "nbconvert_exporter": "python",
   "pygments_lexer": "ipython3",
   "version": "3.11.7"
  }
 },
 "nbformat": 4,
 "nbformat_minor": 5
}
