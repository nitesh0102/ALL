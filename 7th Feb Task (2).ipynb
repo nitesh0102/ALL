{
 "cells": [
  {
   "cell_type": "code",
   "execution_count": 95,
   "id": "715b5a8b-9dc9-43aa-bd13-21f7a68a5cea",
   "metadata": {},
   "outputs": [],
   "source": [
    "#Q1\n"
   ]
  },
  {
   "cell_type": "code",
   "execution_count": 97,
   "id": "9dab61ac-ef3b-459e-a470-0922c2392c98",
   "metadata": {},
   "outputs": [],
   "source": [
    "a = 'dsjijdifsDJJ2242###'"
   ]
  },
  {
   "cell_type": "code",
   "execution_count": 107,
   "id": "c53b813f-1f80-424a-bd68-1f02ae3c3e4a",
   "metadata": {},
   "outputs": [
    {
     "ename": "SyntaxError",
     "evalue": "invalid syntax (1180956748.py, line 1)",
     "output_type": "error",
     "traceback": [
      "\u001b[1;36m  Cell \u001b[1;32mIn[107], line 1\u001b[1;36m\u001b[0m\n\u001b[1;33m    sum[x for x in a if type(a) == int]\u001b[0m\n\u001b[1;37m          ^\u001b[0m\n\u001b[1;31mSyntaxError\u001b[0m\u001b[1;31m:\u001b[0m invalid syntax\n"
     ]
    }
   ],
   "source": [
    "sum[x for x in a if type(a) == int]"
   ]
  },
  {
   "cell_type": "code",
   "execution_count": 110,
   "id": "496500cb-7751-4eb9-a823-bde79dbd60f3",
   "metadata": {},
   "outputs": [],
   "source": [
    " y = [x for x in a if type(a) == str]"
   ]
  },
  {
   "cell_type": "code",
   "execution_count": 114,
   "id": "18754919-d66e-4a06-b76d-a888a7f8e341",
   "metadata": {},
   "outputs": [
    {
     "name": "stdout",
     "output_type": "stream",
     "text": [
      "False\n",
      "False\n",
      "False\n",
      "False\n",
      "False\n",
      "False\n",
      "False\n",
      "False\n",
      "False\n",
      "False\n",
      "False\n",
      "False\n",
      "True\n",
      "True\n",
      "True\n",
      "True\n",
      "False\n",
      "False\n",
      "False\n"
     ]
    }
   ],
   "source": [
    "for j in y: \n",
    "    print(j.isdigit())\n",
    "    "
   ]
  },
  {
   "cell_type": "code",
   "execution_count": null,
   "id": "2c700f72-3025-41b0-a7c9-20a7a8a3c42f",
   "metadata": {},
   "outputs": [],
   "source": []
  },
  {
   "cell_type": "code",
   "execution_count": 2,
   "id": "ee1ad4d1-7510-4c11-aa6e-a2916677177b",
   "metadata": {},
   "outputs": [],
   "source": [
    "#Q2.1"
   ]
  },
  {
   "cell_type": "code",
   "execution_count": 6,
   "id": "8f27dfc8-8103-40dd-9503-834f21a4a18d",
   "metadata": {},
   "outputs": [],
   "source": [
    "def str_check(x):\n",
    "    if (x[0] == 'a'):\n",
    "        print('starts with a')\n",
    "    else:\n",
    "        print('doesnt start with a')"
   ]
  },
  {
   "cell_type": "code",
   "execution_count": 15,
   "id": "de458838-ba81-4052-bfa5-83482d17bc98",
   "metadata": {},
   "outputs": [
    {
     "data": {
      "text/plain": [
       "<map at 0x280da737d00>"
      ]
     },
     "execution_count": 15,
     "metadata": {},
     "output_type": "execute_result"
    }
   ],
   "source": [
    "x = ['aryman', 'shaktiman', 'junior-g','hatim','aquaman']\n",
    "(map(str_check,x))"
   ]
  },
  {
   "cell_type": "code",
   "execution_count": 22,
   "id": "739e857e-8aed-44f3-9893-720938e6b4d6",
   "metadata": {},
   "outputs": [
    {
     "data": {
      "text/plain": [
       "['a', 'a']"
      ]
     },
     "execution_count": 22,
     "metadata": {},
     "output_type": "execute_result"
    }
   ],
   "source": [
    "x = 'aryman'\n",
    "list(filter(lambda x : x[0] == 'a',x))\n"
   ]
  },
  {
   "cell_type": "code",
   "execution_count": 25,
   "id": "0e90f678-bb60-4525-a166-1b294dd0a757",
   "metadata": {},
   "outputs": [],
   "source": [
    "z  = lambda x : 'Yes' if x[0] == 'a' else 'No'"
   ]
  },
  {
   "cell_type": "code",
   "execution_count": 26,
   "id": "68127f8b-3832-40d4-8da4-d13b923fcb8f",
   "metadata": {},
   "outputs": [
    {
     "data": {
      "text/plain": [
       "'Yes'"
      ]
     },
     "execution_count": 26,
     "metadata": {},
     "output_type": "execute_result"
    }
   ],
   "source": [
    "z('aryman')"
   ]
  },
  {
   "cell_type": "code",
   "execution_count": 27,
   "id": "bed68702-4666-4b41-b7d1-1a609a05b283",
   "metadata": {},
   "outputs": [],
   "source": [
    "#2.2"
   ]
  },
  {
   "cell_type": "code",
   "execution_count": 45,
   "id": "6fd8954a-bd78-4508-b31d-e020d55532a0",
   "metadata": {},
   "outputs": [],
   "source": [
    "z  = lambda x : True if x.isnumeric() else False"
   ]
  },
  {
   "cell_type": "code",
   "execution_count": 46,
   "id": "793c25ae-86c2-48db-9967-4a06fcb07555",
   "metadata": {},
   "outputs": [
    {
     "data": {
      "text/plain": [
       "True"
      ]
     },
     "execution_count": 46,
     "metadata": {},
     "output_type": "execute_result"
    }
   ],
   "source": [
    "z('432434')"
   ]
  },
  {
   "cell_type": "code",
   "execution_count": 47,
   "id": "4d85ee9e-fc3b-4e6a-958a-d9d00b676f55",
   "metadata": {},
   "outputs": [
    {
     "data": {
      "text/plain": [
       "False"
      ]
     },
     "execution_count": 47,
     "metadata": {},
     "output_type": "execute_result"
    }
   ],
   "source": [
    "z('wsf323')"
   ]
  },
  {
   "cell_type": "code",
   "execution_count": 48,
   "id": "544c014f-4c05-404f-9a16-e7d86de7b014",
   "metadata": {},
   "outputs": [
    {
     "data": {
      "text/plain": [
       "False"
      ]
     },
     "execution_count": 48,
     "metadata": {},
     "output_type": "execute_result"
    }
   ],
   "source": [
    "z('233dfsj')"
   ]
  },
  {
   "cell_type": "code",
   "execution_count": 49,
   "id": "9a10afe5-e0cc-4211-b7fe-7f311be70e73",
   "metadata": {},
   "outputs": [
    {
     "data": {
      "text/plain": [
       "True"
      ]
     },
     "execution_count": 49,
     "metadata": {},
     "output_type": "execute_result"
    }
   ],
   "source": [
    "z('343545434554')"
   ]
  },
  {
   "cell_type": "code",
   "execution_count": 50,
   "id": "b2038868-7814-4b15-aa59-acd3d1614190",
   "metadata": {},
   "outputs": [],
   "source": [
    "#2.3"
   ]
  },
  {
   "cell_type": "code",
   "execution_count": 90,
   "id": "6ccfda00-38e1-4c45-8a0d-08cd1e4e6a8e",
   "metadata": {},
   "outputs": [],
   "source": [
    "li = [('mango',99),('orange',80),('grapes',1000)]"
   ]
  },
  {
   "cell_type": "code",
   "execution_count": 93,
   "id": "fafe54ff-aa34-47bf-a5df-1d0cfe40cdf3",
   "metadata": {},
   "outputs": [],
   "source": [
    "li.sort()"
   ]
  },
  {
   "cell_type": "code",
   "execution_count": 94,
   "id": "58241515-633a-48aa-9076-7f2cfb3131b8",
   "metadata": {},
   "outputs": [
    {
     "data": {
      "text/plain": [
       "[('grapes', 1000), ('mango', 99), ('orange', 80)]"
      ]
     },
     "execution_count": 94,
     "metadata": {},
     "output_type": "execute_result"
    }
   ],
   "source": []
  },
  {
   "cell_type": "code",
   "execution_count": null,
   "id": "e86c9e6e-79c5-4796-9414-4e0d463c3fc6",
   "metadata": {},
   "outputs": [],
   "source": []
  },
  {
   "cell_type": "code",
   "execution_count": 51,
   "id": "033996a9-d4bb-4f33-979e-f23f5859c43e",
   "metadata": {},
   "outputs": [],
   "source": [
    "#2.4"
   ]
  },
  {
   "cell_type": "code",
   "execution_count": 52,
   "id": "9c5c632c-df93-4b6f-b921-3e2bddc9e5dd",
   "metadata": {},
   "outputs": [],
   "source": [
    "sq = lambda x : x**2 "
   ]
  },
  {
   "cell_type": "code",
   "execution_count": 57,
   "id": "811aa094-377b-4a86-9ca2-be8081ae3093",
   "metadata": {},
   "outputs": [
    {
     "data": {
      "text/plain": [
       "[1, 4, 9, 16, 25, 36, 49, 64, 81]"
      ]
     },
     "execution_count": 57,
     "metadata": {},
     "output_type": "execute_result"
    }
   ],
   "source": [
    "list(map(sq,range(1,10)))"
   ]
  },
  {
   "cell_type": "code",
   "execution_count": 58,
   "id": "06e8b1fb-be06-49d1-a6e6-b0bfa5fe6e48",
   "metadata": {},
   "outputs": [],
   "source": [
    "#2.5"
   ]
  },
  {
   "cell_type": "code",
   "execution_count": 59,
   "id": "0c16e796-5422-42d6-9771-d0d6ed7e44fa",
   "metadata": {},
   "outputs": [],
   "source": [
    "tq = lambda x : x**3"
   ]
  },
  {
   "cell_type": "code",
   "execution_count": 60,
   "id": "b148e194-6186-411b-92de-a8e3def60659",
   "metadata": {},
   "outputs": [
    {
     "data": {
      "text/plain": [
       "[1, 8, 27, 64, 125, 216, 343, 512, 729]"
      ]
     },
     "execution_count": 60,
     "metadata": {},
     "output_type": "execute_result"
    }
   ],
   "source": [
    "list(map(tq,range(1,10)))"
   ]
  },
  {
   "cell_type": "code",
   "execution_count": 61,
   "id": "33851c95-a74d-461a-9458-26d6c829cfcd",
   "metadata": {},
   "outputs": [],
   "source": [
    "#2.6"
   ]
  },
  {
   "cell_type": "code",
   "execution_count": 62,
   "id": "1d985fc6-41e7-4ded-9d8d-080467e08bd1",
   "metadata": {},
   "outputs": [],
   "source": [
    "even = lambda x : True if(x%2==0) else False"
   ]
  },
  {
   "cell_type": "code",
   "execution_count": 63,
   "id": "56d97e34-694f-41e1-8ba6-33db4393becf",
   "metadata": {},
   "outputs": [
    {
     "data": {
      "text/plain": [
       "True"
      ]
     },
     "execution_count": 63,
     "metadata": {},
     "output_type": "execute_result"
    }
   ],
   "source": [
    "even(2)"
   ]
  },
  {
   "cell_type": "code",
   "execution_count": 64,
   "id": "6762ea5f-c357-4f2e-bbf6-9375e80267ee",
   "metadata": {},
   "outputs": [
    {
     "data": {
      "text/plain": [
       "False"
      ]
     },
     "execution_count": 64,
     "metadata": {},
     "output_type": "execute_result"
    }
   ],
   "source": [
    "even(34343)"
   ]
  },
  {
   "cell_type": "code",
   "execution_count": 65,
   "id": "f7d61900-3b3d-4e41-a64b-7c8ce3b44c6f",
   "metadata": {},
   "outputs": [
    {
     "data": {
      "text/plain": [
       "True"
      ]
     },
     "execution_count": 65,
     "metadata": {},
     "output_type": "execute_result"
    }
   ],
   "source": [
    "even(343356)"
   ]
  },
  {
   "cell_type": "code",
   "execution_count": 66,
   "id": "e5e514c2-e2a0-4a26-88ef-d7ba5e7f40e5",
   "metadata": {},
   "outputs": [],
   "source": [
    "#2.7"
   ]
  },
  {
   "cell_type": "code",
   "execution_count": 77,
   "id": "dec95af0-14e5-4d7f-8dfe-4d3d8a2bfe7d",
   "metadata": {},
   "outputs": [],
   "source": [
    "l = [1,2,3,4,5,6,7,8,9,10] "
   ]
  },
  {
   "cell_type": "code",
   "execution_count": 84,
   "id": "d1094057-7461-4ea7-baa5-086ca7c97070",
   "metadata": {},
   "outputs": [],
   "source": [
    "list(filter(lambda x : x%2 ==0,l))"
   ]
  },
  {
   "cell_type": "code",
   "execution_count": 85,
   "id": "f590e141-9690-424f-94cf-beba8ce3492c",
   "metadata": {},
   "outputs": [],
   "source": [
    "#2.8"
   ]
  },
  {
   "cell_type": "code",
   "execution_count": 86,
   "id": "bc7704b8-9a92-45bc-a2a1-7d43bc368b19",
   "metadata": {},
   "outputs": [],
   "source": [
    "l1 = [1,2,3,4,5,6,-1,-2,-3,-4,-5,0]"
   ]
  },
  {
   "cell_type": "code",
   "execution_count": 88,
   "id": "f9a88912-6e07-49ca-b2f2-d5b56df99a99",
   "metadata": {},
   "outputs": [],
   "source": [
    "#list(filter(lambda x :x<0 ,l1))"
   ]
  },
  {
   "cell_type": "code",
   "execution_count": null,
   "id": "28c3f57e-3772-426c-b39f-aa68c06a0e4d",
   "metadata": {},
   "outputs": [],
   "source": []
  }
 ],
 "metadata": {
  "kernelspec": {
   "display_name": "Python 3 (ipykernel)",
   "language": "python",
   "name": "python3"
  },
  "language_info": {
   "codemirror_mode": {
    "name": "ipython",
    "version": 3
   },
   "file_extension": ".py",
   "mimetype": "text/x-python",
   "name": "python",
   "nbconvert_exporter": "python",
   "pygments_lexer": "ipython3",
   "version": "3.11.7"
  }
 },
 "nbformat": 4,
 "nbformat_minor": 5
}
