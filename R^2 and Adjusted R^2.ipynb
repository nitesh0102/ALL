{
 "cells": [
  {
   "cell_type": "code",
   "execution_count": null,
   "id": "ea536149-818d-4460-84cf-f65c8e7dc763",
   "metadata": {},
   "outputs": [],
   "source": [
    "R Squared : \n",
    "\n",
    "R Squared = 1 - SS res / SS total\n",
    "\n",
    "SS res = sum of squares of residuals (errors) \n",
    "\n",
    "SS total = Sum of Sqaured total (mean) \n",
    "\n",
    "Basically the idea behind is that how better our model (the best fit line)  is from the avg or median line"
   ]
  },
  {
   "cell_type": "code",
   "execution_count": null,
   "id": "72d818f7-79c6-49e7-90b0-df1ec46b7cb0",
   "metadata": {},
   "outputs": [],
   "source": [
    "R squared = 0.8 means 80% accuracy of the model. \n",
    "\n",
    "-Ve R sqaured means the best fit line is performing poorly then avg data. "
   ]
  },
  {
   "cell_type": "code",
   "execution_count": null,
   "id": "8bac51bc-7616-48fc-b52e-9c95d6d23957",
   "metadata": {},
   "outputs": [],
   "source": []
  },
  {
   "cell_type": "code",
   "execution_count": null,
   "id": "ac279bec-4ab5-431d-9771-74073eba6ff8",
   "metadata": {},
   "outputs": [],
   "source": [
    "Adjusted R squared: "
   ]
  },
  {
   "cell_type": "code",
   "execution_count": null,
   "id": "d871ac2b-5424-4ee0-be87-93c33a2c9275",
   "metadata": {},
   "outputs": [],
   "source": []
  },
  {
   "cell_type": "code",
   "execution_count": null,
   "id": "5a246dff-912a-4d8d-8fc4-21dd88d124e2",
   "metadata": {},
   "outputs": [],
   "source": [
    "Ex: \n",
    "\n",
    "X1                          X2                            Y\n",
    "Size of the house          No of bedrooms               Price \n",
    "\n",
    "\n",
    "R squared = 85%\n",
    "\n",
    "\n",
    "X1                          X2                       X3             Y\n",
    "Size of the house          No of bedrooms         Location       Price \n",
    "\n",
    "R Squared = 90%\n",
    "\n",
    "\n",
    "X1                          X2                       X3             X4              Y\n",
    "Size of the house          No of bedrooms         Location       Gender          Price \n",
    "\n",
    "R Squared = 91%\n",
    "\n",
    "\n",
    "Now after adding each variable the R squared will increase though more in case of X3 and less for X4 but R Squared will increase. It doesn't matter \n",
    "if the added feature is important or not to the output but the R squared will increase. \n",
    "\n",
    "But With Adjusted R^2 this is not the case. \n"
   ]
  },
  {
   "cell_type": "code",
   "execution_count": null,
   "id": "581f257b-e261-437b-b6c5-12725940402e",
   "metadata": {},
   "outputs": [],
   "source": [
    "The adjusted r-squared value can decrease if a new predictor does not improve the model's fit, making it a more reliable measure of model accuracy. \n",
    "For this reason, the adjusted r-squared can be used as a tool by data analysts to help them decide which predictors to include."
   ]
  },
  {
   "cell_type": "code",
   "execution_count": null,
   "id": "32b0d16a-0938-451c-9f15-6f8204f839f9",
   "metadata": {},
   "outputs": [],
   "source": []
  },
  {
   "cell_type": "code",
   "execution_count": null,
   "id": "3394c784-3a49-473b-aa3e-18d8770fe9e8",
   "metadata": {},
   "outputs": [],
   "source": [
    "adj R Sq  =   1 -   (((1 - R^2)(N-1))/N-P-1))\n",
    "\n",
    "N  = No. Of data points\n",
    "P = No. of independent features "
   ]
  },
  {
   "cell_type": "code",
   "execution_count": null,
   "id": "b7a54286-40d4-4856-a900-19095d180d4e",
   "metadata": {},
   "outputs": [],
   "source": []
  },
  {
   "cell_type": "code",
   "execution_count": null,
   "id": "cf68c634-d8b9-4195-b65e-8f70bd8feeb1",
   "metadata": {},
   "outputs": [],
   "source": [
    "Ex: \n",
    "\n",
    "R^2 = 80%\n",
    "N = 11\n",
    "P = 2\n",
    "\n",
    "ad r^2  =  1 - (0.2)(10)/8 = 1-1/4 = 3/4 = 75%\n",
    "\n"
   ]
  }
 ],
 "metadata": {
  "kernelspec": {
   "display_name": "Python 3 (ipykernel)",
   "language": "python",
   "name": "python3"
  },
  "language_info": {
   "codemirror_mode": {
    "name": "ipython",
    "version": 3
   },
   "file_extension": ".py",
   "mimetype": "text/x-python",
   "name": "python",
   "nbconvert_exporter": "python",
   "pygments_lexer": "ipython3",
   "version": "3.11.7"
  }
 },
 "nbformat": 4,
 "nbformat_minor": 5
}
