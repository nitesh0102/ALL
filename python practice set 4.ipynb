{
 "cells": [
  {
   "cell_type": "code",
   "execution_count": 36,
   "id": "7f502234-8a8f-48c4-9162-a223648efb65",
   "metadata": {},
   "outputs": [],
   "source": [
    "class person:\n",
    "    def __init__ (self,name,age,gender):\n",
    "        self.name = name\n",
    "        self.age  = age\n",
    "        self.gender = gender\n",
    "    def print_test(self,education):\n",
    "        return self.name,self.age,self.gender,education\n",
    "    #def print_test2"
   ]
  },
  {
   "cell_type": "code",
   "execution_count": 37,
   "id": "fef1fb5b-255a-4519-86c7-c800b2d59ee6",
   "metadata": {},
   "outputs": [],
   "source": [
    "test_obj = person(\"nitesh\",29,\"Male\")"
   ]
  },
  {
   "cell_type": "code",
   "execution_count": 38,
   "id": "b291903d-fd51-41fa-b5ea-daeb554a86de",
   "metadata": {},
   "outputs": [
    {
     "data": {
      "text/plain": [
       "29"
      ]
     },
     "execution_count": 38,
     "metadata": {},
     "output_type": "execute_result"
    }
   ],
   "source": [
    "test_obj.age"
   ]
  },
  {
   "cell_type": "code",
   "execution_count": 39,
   "id": "3f75b3ef-fe84-4220-a62f-59669af62b58",
   "metadata": {},
   "outputs": [
    {
     "data": {
      "text/plain": [
       "('nitesh', 29, 'Male', 'graduate')"
      ]
     },
     "execution_count": 39,
     "metadata": {},
     "output_type": "execute_result"
    }
   ],
   "source": [
    "X = test_obj.print_test(\"graduate\")\n",
    "X"
   ]
  },
  {
   "cell_type": "code",
   "execution_count": 13,
   "id": "bbc7b83d-12d6-41be-9189-27e2bd961e4b",
   "metadata": {},
   "outputs": [],
   "source": [
    "### Q2"
   ]
  },
  {
   "cell_type": "code",
   "execution_count": 40,
   "id": "29198303-a9b2-46dc-a500-05c57b04acbd",
   "metadata": {},
   "outputs": [],
   "source": [
    "class rectangle:\n",
    "    def __init__(self,width,height):\n",
    "        self.width = width\n",
    "        self.height  = height\n",
    "    def area_test(self):\n",
    "        area = self.width * self.height\n",
    "        return area"
   ]
  },
  {
   "cell_type": "code",
   "execution_count": 42,
   "id": "a3534c02-02e3-4306-ae6e-48ce4b1e4866",
   "metadata": {},
   "outputs": [],
   "source": [
    "test_rec = rectangle(20,40)"
   ]
  },
  {
   "cell_type": "code",
   "execution_count": 43,
   "id": "a38018ad-1f2c-44f4-a7c8-54fd81af3623",
   "metadata": {},
   "outputs": [
    {
     "data": {
      "text/plain": [
       "800"
      ]
     },
     "execution_count": 43,
     "metadata": {},
     "output_type": "execute_result"
    }
   ],
   "source": [
    "test_rec.area_test()"
   ]
  },
  {
   "cell_type": "code",
   "execution_count": 44,
   "id": "1d967203-7ff3-4138-b772-fc7d46dc9816",
   "metadata": {},
   "outputs": [],
   "source": [
    "### Q3"
   ]
  },
  {
   "cell_type": "code",
   "execution_count": 149,
   "id": "40938fa9-3e63-46d0-a7c0-65aee98b722f",
   "metadata": {},
   "outputs": [],
   "source": [
    "class  BankAccount:\n",
    "    def __init__(self,balance,interest_rate):\n",
    "        self.balance = balance\n",
    "        self.interest_rate = interest_rate\n",
    "    def deposit(self,amount):\n",
    "        self.balance = amount+self.balance\n",
    "    def withdraw(self,amountw):\n",
    "        if amountw > self.balance:\n",
    "            print(\"can't withdraw the asked as balance is not sufficient\")\n",
    "        else: \n",
    "            self.balance = self.balance - amountw\n",
    "    def interest_rate(self):\n",
    "        #print(\"add the month\")\n",
    "        self.interest_rate = self.interest_rate*self.balance/100\n",
    "        #self.balance = self.balance + ((self.balance * (self.interest_rate * month)) / 1200)\n",
    "    def balance_enquiry(self):\n",
    "        return self.balance\n",
    "        "
   ]
  },
  {
   "cell_type": "code",
   "execution_count": 150,
   "id": "e99d444a-7eb3-4e2a-b4d6-5858eafb0fc5",
   "metadata": {},
   "outputs": [],
   "source": [
    "account1 = BankAccount(1000,12)"
   ]
  },
  {
   "cell_type": "code",
   "execution_count": 151,
   "id": "96d3e23d-8bc2-4e42-b2d5-7fa6db2647fb",
   "metadata": {},
   "outputs": [
    {
     "data": {
      "text/plain": [
       "1000"
      ]
     },
     "execution_count": 151,
     "metadata": {},
     "output_type": "execute_result"
    }
   ],
   "source": [
    "account1.balance"
   ]
  },
  {
   "cell_type": "code",
   "execution_count": 152,
   "id": "57aba132-e008-4497-91eb-2994063e083c",
   "metadata": {},
   "outputs": [
    {
     "data": {
      "text/plain": [
       "1000"
      ]
     },
     "execution_count": 152,
     "metadata": {},
     "output_type": "execute_result"
    }
   ],
   "source": [
    "account1.balance_enquiry()"
   ]
  },
  {
   "cell_type": "code",
   "execution_count": 153,
   "id": "8595fe79-36d2-4bfd-a94a-06a11dcb85b7",
   "metadata": {},
   "outputs": [],
   "source": [
    "account1.deposit(500)"
   ]
  },
  {
   "cell_type": "code",
   "execution_count": 154,
   "id": "17bfc6f3-949d-4674-aa08-bff2a55afbbf",
   "metadata": {},
   "outputs": [
    {
     "data": {
      "text/plain": [
       "1500"
      ]
     },
     "execution_count": 154,
     "metadata": {},
     "output_type": "execute_result"
    }
   ],
   "source": [
    "account1.balance_enquiry()"
   ]
  },
  {
   "cell_type": "code",
   "execution_count": 155,
   "id": "67acbf3e-b3f6-456c-83db-c753c382826e",
   "metadata": {},
   "outputs": [],
   "source": [
    "account1.withdraw(600)"
   ]
  },
  {
   "cell_type": "code",
   "execution_count": 156,
   "id": "f5e6d644-2e78-4743-a3ff-6592676c243a",
   "metadata": {},
   "outputs": [
    {
     "data": {
      "text/plain": [
       "900"
      ]
     },
     "execution_count": 156,
     "metadata": {},
     "output_type": "execute_result"
    }
   ],
   "source": [
    "account1.balance_enquiry()"
   ]
  },
  {
   "cell_type": "code",
   "execution_count": 158,
   "id": "c9e7991c-e92b-4e77-9a55-013985f510ba",
   "metadata": {},
   "outputs": [
    {
     "ename": "TypeError",
     "evalue": "'int' object is not callable",
     "output_type": "error",
     "traceback": [
      "\u001b[1;31m---------------------------------------------------------------------------\u001b[0m",
      "\u001b[1;31mTypeError\u001b[0m                                 Traceback (most recent call last)",
      "Cell \u001b[1;32mIn[158], line 1\u001b[0m\n\u001b[1;32m----> 1\u001b[0m account1\u001b[38;5;241m.\u001b[39minterest_rate(\u001b[38;5;241m10\u001b[39m)\n",
      "\u001b[1;31mTypeError\u001b[0m: 'int' object is not callable"
     ]
    }
   ],
   "source": [
    "account1.interest_rate(10)"
   ]
  },
  {
   "cell_type": "code",
   "execution_count": 110,
   "id": "c4b86f1e-54ea-424a-a6b9-0acfd41cf73f",
   "metadata": {},
   "outputs": [
    {
     "data": {
      "text/plain": [
       "900"
      ]
     },
     "execution_count": 110,
     "metadata": {},
     "output_type": "execute_result"
    }
   ],
   "source": [
    "account1.balance"
   ]
  },
  {
   "cell_type": "code",
   "execution_count": 120,
   "id": "aed4e7ab-2d5e-459a-b495-c55d74237c6b",
   "metadata": {},
   "outputs": [
    {
     "name": "stdout",
     "output_type": "stream",
     "text": [
      "Balance: 1300\n",
      "Interest earned: 19.5\n"
     ]
    }
   ],
   "source": [
    "class BankAccount:\n",
    "    # Constructor method to initialize the balance and interest_rate properties\n",
    "    def __init__(self, balance, interest_rate):\n",
    "        self.balance = balance\n",
    "        self.interest_rate = interest_rate\n",
    "    \n",
    "    # Method to deposit money into the account\n",
    "    def deposit(self, amount):\n",
    "        self.balance += amount\n",
    "    \n",
    "    # Method to withdraw money from the account\n",
    "    def withdraw(self, amount):\n",
    "        self.balance -= amount\n",
    "    \n",
    "    # Method to calculate the interest earned on the balance\n",
    "    def calculate_interest(self):\n",
    "        return self.balance * self.interest_rate / 100\n",
    "\n",
    "# Create an object of the BankAccount class\n",
    "account1 = BankAccount(1000, 1.5)\n",
    "\n",
    "# Test out the deposit and withdraw methods\n",
    "account1.deposit(500)\n",
    "account1.withdraw(200)\n",
    "\n",
    "# Test out the calculate_interest method\n",
    "interest_earned = account1.calculate_interest()\n",
    "\n",
    "# Print out the balance and interest earned on the account\n",
    "print(\"Balance:\", account1.balance)\n",
    "print(\"Interest earned:\", interest_earned)"
   ]
  },
  {
   "cell_type": "code",
   "execution_count": null,
   "id": "5e5a114f-856d-4fdd-a609-8786b4a7e818",
   "metadata": {},
   "outputs": [],
   "source": []
  },
  {
   "cell_type": "code",
   "execution_count": 159,
   "id": "fdf6d24f-1105-46c3-9df4-b9ae7b0fcdd3",
   "metadata": {},
   "outputs": [],
   "source": [
    "#### Q4"
   ]
  },
  {
   "cell_type": "code",
   "execution_count": 240,
   "id": "ebe0231b-572d-490b-b715-f6e0165fcd0b",
   "metadata": {},
   "outputs": [],
   "source": [
    "class Animal:\n",
    "    def __init__(self,name,species):\n",
    "        self.name = name\n",
    "        self.species = species\n",
    "class Dog(Animal):\n",
    "    def __init__(self,breed,owner,name,species):\n",
    "        self.breed = breed\n",
    "        self.owner = owner\n",
    "        super().__init__(name,species)"
   ]
  },
  {
   "cell_type": "code",
   "execution_count": 241,
   "id": "e3ad0b5f-ac4a-40bb-980d-a853367a132e",
   "metadata": {},
   "outputs": [],
   "source": [
    "dog_test = Animal(\"mickey\",\"golden_retreiver\")"
   ]
  },
  {
   "cell_type": "code",
   "execution_count": 242,
   "id": "af10f511-44e3-4992-bd78-cde35d9d470e",
   "metadata": {},
   "outputs": [],
   "source": [
    "dog_test = Dog('alsessian',\"nitesh\",\"mickey\",\"golden_retreiver\")"
   ]
  },
  {
   "cell_type": "code",
   "execution_count": 233,
   "id": "15b5efc7-4d86-4715-9a78-903b0697093d",
   "metadata": {},
   "outputs": [
    {
     "data": {
      "text/plain": [
       "'alsessian'"
      ]
     },
     "execution_count": 233,
     "metadata": {},
     "output_type": "execute_result"
    }
   ],
   "source": [
    "dog_test."
   ]
  },
  {
   "cell_type": "code",
   "execution_count": 245,
   "id": "8ddf960f-06c4-44dc-9433-00797d1317e8",
   "metadata": {},
   "outputs": [
    {
     "data": {
      "text/plain": [
       "'golden_retreiver'"
      ]
     },
     "execution_count": 245,
     "metadata": {},
     "output_type": "execute_result"
    }
   ],
   "source": [
    "    dog_test.species"
   ]
  },
  {
   "cell_type": "code",
   "execution_count": 174,
   "id": "4fc51988-2656-4a27-8e22-2f1a9fcd3f8d",
   "metadata": {},
   "outputs": [
    {
     "name": "stdout",
     "output_type": "stream",
     "text": [
      "1\n",
      "1\n"
     ]
    }
   ],
   "source": [
    "class Parent():\n",
    "    def __init__(self):\n",
    "        self.myvar = 1\n",
    "\n",
    "class Child(Parent):\n",
    "    def __init__(self):\n",
    "        Parent.__init__(self)\n",
    "\n",
    "        # here you can access myvar like below.\n",
    "        print (self.myvar)\n",
    "\n",
    "child = Child()\n",
    "print(child.myvar)"
   ]
  },
  {
   "cell_type": "code",
   "execution_count": null,
   "id": "e341c151-6d05-4900-8680-663ff5dbdb25",
   "metadata": {},
   "outputs": [],
   "source": []
  }
 ],
 "metadata": {
  "kernelspec": {
   "display_name": "Python 3 (ipykernel)",
   "language": "python",
   "name": "python3"
  },
  "language_info": {
   "codemirror_mode": {
    "name": "ipython",
    "version": 3
   },
   "file_extension": ".py",
   "mimetype": "text/x-python",
   "name": "python",
   "nbconvert_exporter": "python",
   "pygments_lexer": "ipython3",
   "version": "3.11.7"
  }
 },
 "nbformat": 4,
 "nbformat_minor": 5
}
