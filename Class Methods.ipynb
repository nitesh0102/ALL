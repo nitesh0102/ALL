{
 "cells": [
  {
   "cell_type": "code",
   "execution_count": 18,
   "id": "9987abac-57e4-4408-94d8-1cddf14276d8",
   "metadata": {},
   "outputs": [],
   "source": [
    "class pwskills:\n",
    "    def __init__(self,name,email):\n",
    "        self.name = name\n",
    "        self.email = email\n",
    "    def student_details(self):\n",
    "        print(self.name,self.email)\n",
    "    "
   ]
  },
  {
   "cell_type": "code",
   "execution_count": 19,
   "id": "063fb217-5893-4141-87bb-897383874d58",
   "metadata": {},
   "outputs": [],
   "source": [
    "pw = pwskills(\"nitesh\",\"nitesh@gmail.com\")"
   ]
  },
  {
   "cell_type": "code",
   "execution_count": 20,
   "id": "aface808-c0c5-474e-ace5-5822eaaf5c7d",
   "metadata": {},
   "outputs": [
    {
     "data": {
      "text/plain": [
       "'nitesh'"
      ]
     },
     "execution_count": 20,
     "metadata": {},
     "output_type": "execute_result"
    }
   ],
   "source": [
    "pw.name"
   ]
  },
  {
   "cell_type": "code",
   "execution_count": 21,
   "id": "70af9dd5-b97b-4403-8d26-b6d7d2f66a2e",
   "metadata": {},
   "outputs": [
    {
     "data": {
      "text/plain": [
       "'nitesh@gmail.com'"
      ]
     },
     "execution_count": 21,
     "metadata": {},
     "output_type": "execute_result"
    }
   ],
   "source": [
    "pw.email"
   ]
  },
  {
   "cell_type": "code",
   "execution_count": 22,
   "id": "24486447-55aa-44b6-af1c-4fd37838743f",
   "metadata": {},
   "outputs": [
    {
     "name": "stdout",
     "output_type": "stream",
     "text": [
      "nitesh nitesh@gmail.com\n"
     ]
    }
   ],
   "source": [
    "pw.student_details()"
   ]
  },
  {
   "cell_type": "markdown",
   "id": "ee2677ef-d22d-433d-ac17-eababdc302d7",
   "metadata": {},
   "source": [
    "###\n",
    "###class method"
   ]
  },
  {
   "cell_type": "code",
   "execution_count": 27,
   "id": "3a904e35-fbdd-433f-84a1-1f276a262988",
   "metadata": {},
   "outputs": [],
   "source": [
    "class pwskills1:\n",
    "    def __init__(self,name,email):\n",
    "        self.name = name\n",
    "        self.email = email\n",
    "    \n",
    "    @classmethod\n",
    "    def details(cls,name,email):\n",
    "        return cls(name,email)\n",
    "        \n",
    "    def student_details(self):\n",
    "        print(self.name,self.email)\n",
    "    \n",
    "    "
   ]
  },
  {
   "cell_type": "code",
   "execution_count": 30,
   "id": "79ed6cc0-c426-4cd2-a5de-27536acf72ac",
   "metadata": {},
   "outputs": [],
   "source": [
    "pw1 = pwskills1.details(\"mohan\",\"mohan@gmail.com\")"
   ]
  },
  {
   "cell_type": "code",
   "execution_count": 32,
   "id": "71b77d41-8fd7-429b-98d6-096d6e0fd3f8",
   "metadata": {},
   "outputs": [
    {
     "data": {
      "text/plain": [
       "'mohan'"
      ]
     },
     "execution_count": 32,
     "metadata": {},
     "output_type": "execute_result"
    }
   ],
   "source": [
    "pw1.name"
   ]
  },
  {
   "cell_type": "code",
   "execution_count": 33,
   "id": "d0798455-f118-47a1-b18d-a6104bbef529",
   "metadata": {},
   "outputs": [],
   "source": [
    "#This is called function overaloading. Using classmethod you can decorate and the class will understand that it belongs to me. "
   ]
  },
  {
   "cell_type": "code",
   "execution_count": 34,
   "id": "d1604689-41a4-41ed-805a-a57e649ad543",
   "metadata": {},
   "outputs": [
    {
     "name": "stdout",
     "output_type": "stream",
     "text": [
      "mohan mohan@gmail.com\n"
     ]
    }
   ],
   "source": [
    "pw1.student_details()"
   ]
  },
  {
   "cell_type": "code",
   "execution_count": 35,
   "id": "22807f79-4b8f-4f5c-8447-181943ae8383",
   "metadata": {},
   "outputs": [],
   "source": [
    "# Using classmethods you can directly pass the data."
   ]
  },
  {
   "cell_type": "code",
   "execution_count": 63,
   "id": "48e5011b-5adc-40fd-83a1-86e36c4a5e13",
   "metadata": {},
   "outputs": [],
   "source": [
    "class pwskills2:\n",
    "\n",
    "    mobile_number = 8619769602\n",
    "    \n",
    "    def __init__(self,name,email):\n",
    "        self.name = name\n",
    "        self.email = email\n",
    "        \n",
    "    @classmethod\n",
    "    def change_number(cls,mobile):\n",
    "        pwskills2.mobile_number = mobile\n",
    "    @classmethod\n",
    "    def details(cls,name,email):\n",
    "        return cls(name,email)\n",
    "#INSTANCE METHOD        \n",
    "    def student_details(self):\n",
    "        print(self.name,self.email,pwskills2.mobile_number)\n",
    "    \n",
    "    "
   ]
  },
  {
   "cell_type": "code",
   "execution_count": 69,
   "id": "0cbff3a6-2028-4a66-9bcc-e45f8f9632e8",
   "metadata": {},
   "outputs": [
    {
     "data": {
      "text/plain": [
       "463468374"
      ]
     },
     "execution_count": 69,
     "metadata": {},
     "output_type": "execute_result"
    }
   ],
   "source": [
    "pwskills2.mobile_number"
   ]
  },
  {
   "cell_type": "code",
   "execution_count": 39,
   "id": "bfa5bfa0-c251-4dba-a007-58f7d5bbc9a3",
   "metadata": {},
   "outputs": [],
   "source": [
    "# Object is an instance \n",
    "# you can directly access class variable without creating class objects. /"
   ]
  },
  {
   "cell_type": "code",
   "execution_count": 41,
   "id": "425ce797-9b60-4720-b848-ef7d4012165f",
   "metadata": {},
   "outputs": [
    {
     "data": {
      "text/plain": [
       "[__main__.pwskills2, object]"
      ]
     },
     "execution_count": 41,
     "metadata": {},
     "output_type": "execute_result"
    }
   ],
   "source": [
    "pwskills2.mro()"
   ]
  },
  {
   "cell_type": "code",
   "execution_count": 67,
   "id": "84134350-a138-47d6-9a9c-64853b8e7757",
   "metadata": {},
   "outputs": [],
   "source": [
    "pw2 = pwskills2.details(\"sohan\",\"sohan@gmail.com\")"
   ]
  },
  {
   "cell_type": "code",
   "execution_count": 54,
   "id": "8fcbb398-a11b-48f5-949d-f2425120cdc3",
   "metadata": {},
   "outputs": [],
   "source": [
    "pw3 = pwskills2(\"rohan\",\"rohan@gmail.com\")"
   ]
  },
  {
   "cell_type": "code",
   "execution_count": 59,
   "id": "4b0d1f96-bd83-4bee-892d-f95b5215be59",
   "metadata": {},
   "outputs": [
    {
     "name": "stdout",
     "output_type": "stream",
     "text": [
      "rohan rohan@gmail.com\n"
     ]
    }
   ],
   "source": [
    "pw3.student_details()"
   ]
  },
  {
   "cell_type": "code",
   "execution_count": 56,
   "id": "8f14f4c8-78e9-45f4-9883-de509428ac4e",
   "metadata": {},
   "outputs": [
    {
     "name": "stdout",
     "output_type": "stream",
     "text": [
      "sohan sohan@gmail.com\n"
     ]
    }
   ],
   "source": [
    "pw2.student_details()"
   ]
  },
  {
   "cell_type": "code",
   "execution_count": 61,
   "id": "2ecfecb8-a5d4-4984-a3e1-ce792c8629bb",
   "metadata": {},
   "outputs": [
    {
     "data": {
      "text/plain": [
       "8619769602"
      ]
     },
     "execution_count": 61,
     "metadata": {},
     "output_type": "execute_result"
    }
   ],
   "source": [
    "pw2.mobile_number"
   ]
  },
  {
   "cell_type": "code",
   "execution_count": 65,
   "id": "36e63cc9-f6c8-4125-bfdd-e24c109a8117",
   "metadata": {},
   "outputs": [],
   "source": [
    "pwskills2.change_number(463468374)"
   ]
  },
  {
   "cell_type": "code",
   "execution_count": 68,
   "id": "7bd6ec31-1544-41ed-b439-2682bbbd6511",
   "metadata": {},
   "outputs": [
    {
     "name": "stdout",
     "output_type": "stream",
     "text": [
      "sohan sohan@gmail.com 463468374\n"
     ]
    }
   ],
   "source": [
    "pw2.student_details()"
   ]
  },
  {
   "cell_type": "code",
   "execution_count": 70,
   "id": "c450db2c-3ff0-41fe-8f2d-e2b36446f975",
   "metadata": {},
   "outputs": [],
   "source": [
    "pw2_obj = pwskills2(\"sohil\",\"sohil@gmail.com\")"
   ]
  },
  {
   "cell_type": "code",
   "execution_count": 78,
   "id": "3d971955-ba46-499c-9d5d-b1a7f244c171",
   "metadata": {},
   "outputs": [
    {
     "data": {
      "text/plain": [
       "<__main__.pwskills2 at 0x20cda3f4b90>"
      ]
     },
     "execution_count": 78,
     "metadata": {},
     "output_type": "execute_result"
    }
   ],
   "source": [
    "pw2_obj.details(\"sjd\",\"jadwh@gmail.com\")"
   ]
  },
  {
   "cell_type": "code",
   "execution_count": 77,
   "id": "ad0aa432-3fe6-44df-bd1a-dcd85d1c8cc8",
   "metadata": {},
   "outputs": [
    {
     "name": "stdout",
     "output_type": "stream",
     "text": [
      "sohil sohil@gmail.com 463468374\n"
     ]
    }
   ],
   "source": [
    "pw2_obj.student_details()"
   ]
  },
  {
   "cell_type": "code",
   "execution_count": 81,
   "id": "8d5ca089-1e41-466f-add9-d8b8679c35c6",
   "metadata": {},
   "outputs": [
    {
     "data": {
      "text/plain": [
       "463468374"
      ]
     },
     "execution_count": 81,
     "metadata": {},
     "output_type": "execute_result"
    }
   ],
   "source": [
    "pw2_obj.mobile_number"
   ]
  },
  {
   "cell_type": "code",
   "execution_count": 82,
   "id": "1bf7cac6-fe6c-4d27-b74c-bc578542af84",
   "metadata": {},
   "outputs": [
    {
     "data": {
      "text/plain": [
       "'sohil'"
      ]
     },
     "execution_count": 82,
     "metadata": {},
     "output_type": "execute_result"
    }
   ],
   "source": [
    "pw2_obj.name"
   ]
  },
  {
   "cell_type": "code",
   "execution_count": 83,
   "id": "1cefbb0f-61f2-4ecd-9d80-efb6a094daa2",
   "metadata": {},
   "outputs": [
    {
     "data": {
      "text/plain": [
       "463468374"
      ]
     },
     "execution_count": 83,
     "metadata": {},
     "output_type": "execute_result"
    }
   ],
   "source": [
    "pw2_obj.mobile_number"
   ]
  },
  {
   "cell_type": "code",
   "execution_count": null,
   "id": "07453368-0f2a-4b4f-a370-b9ddff74dd1e",
   "metadata": {},
   "outputs": [],
   "source": [
    "#class method is a novel method and it is accessible by every/all object \n",
    "#instant method is also available\n",
    "\n",
    "-------\n",
    "\n",
    "then what is the diff\n",
    "\n",
    "class method is only created once\n",
    "wherease instance method is created each time a object is created \n"
   ]
  },
  {
   "cell_type": "markdown",
   "id": "f95993c4-3ce8-478b-85c2-5c17d14907fa",
   "metadata": {},
   "source": [
    "####################"
   ]
  },
  {
   "cell_type": "code",
   "execution_count": 84,
   "id": "d525554f-912b-431c-a0d4-7a1d0601e5ec",
   "metadata": {},
   "outputs": [],
   "source": [
    "class pwskills3:\n",
    "\n",
    "    mobile_number = 8619769602\n",
    "    \n",
    "    def __init__(self,name,email):\n",
    "        self.name = name\n",
    "        self.email = email\n",
    "        \n",
    "    @classmethod\n",
    "    def change_number(cls,mobile):\n",
    "        pwskills2.mobile_number = mobile\n",
    "    @classmethod\n",
    "    def details(cls,name,email):\n",
    "        return cls(name,email)\n",
    "#INSTANCE METHOD        \n",
    "    def student_details(self):\n",
    "        print(self.name,self.email,pwskills2.mobile_number)\n",
    "    \n",
    "    "
   ]
  },
  {
   "cell_type": "code",
   "execution_count": 85,
   "id": "c19fa8a3-14c5-44b2-a3e6-d4a430c2e152",
   "metadata": {},
   "outputs": [],
   "source": [
    "def course_details(cls,course_name):\n",
    "    print(\"course details\", course_name)"
   ]
  },
  {
   "cell_type": "code",
   "execution_count": 86,
   "id": "224ea96a-1a92-45f4-8d0f-4dc9540a015f",
   "metadata": {},
   "outputs": [],
   "source": [
    "pwskills3.course_details = classmethod(course_details)"
   ]
  },
  {
   "cell_type": "code",
   "execution_count": 90,
   "id": "6671dc52-1d33-4261-897c-c7b4e66c3a8b",
   "metadata": {},
   "outputs": [
    {
     "name": "stdout",
     "output_type": "stream",
     "text": [
      "course details data science\n"
     ]
    }
   ],
   "source": [
    "pwskills3.course_details(\"data science\")"
   ]
  },
  {
   "cell_type": "code",
   "execution_count": 92,
   "id": "7ee5ddfe-e328-4525-9f47-afae8c7c70d3",
   "metadata": {},
   "outputs": [],
   "source": [
    "class pwskills4:\n",
    "\n",
    "    mobile_number = 8619769602\n",
    "    \n",
    "    def __init__(self,name,email):\n",
    "        self.name = name\n",
    "        self.email = email\n",
    "        \n",
    "    @classmethod\n",
    "    def change_number(cls,mobile):\n",
    "        pwskills2.mobile_number = mobile\n",
    "    @classmethod\n",
    "    def details(cls,name,email):\n",
    "        return cls(name,email)\n",
    "#INSTANCE METHOD        \n",
    "    def student_details(self):\n",
    "        print(self.name,self.email,pwskills2.mobile_number)\n",
    "    \n",
    "    "
   ]
  },
  {
   "cell_type": "code",
   "execution_count": 94,
   "id": "8d3d5d17-8bce-4d78-85e0-0d4d10710842",
   "metadata": {},
   "outputs": [],
   "source": [
    "del pwskills4.change_number"
   ]
  },
  {
   "cell_type": "code",
   "execution_count": 95,
   "id": "887e57c3-c969-489a-927a-b33e7a83603c",
   "metadata": {},
   "outputs": [
    {
     "ename": "AttributeError",
     "evalue": "type object 'pwskills4' has no attribute 'change_number'",
     "output_type": "error",
     "traceback": [
      "\u001b[1;31m---------------------------------------------------------------------------\u001b[0m",
      "\u001b[1;31mAttributeError\u001b[0m                            Traceback (most recent call last)",
      "Cell \u001b[1;32mIn[95], line 1\u001b[0m\n\u001b[1;32m----> 1\u001b[0m pwskills4\u001b[38;5;241m.\u001b[39mchange_number\n",
      "\u001b[1;31mAttributeError\u001b[0m: type object 'pwskills4' has no attribute 'change_number'"
     ]
    }
   ],
   "source": [
    "pwskills4.change_number"
   ]
  },
  {
   "cell_type": "code",
   "execution_count": 96,
   "id": "ac93d942-2f62-470a-9a34-61f9a5eecdc1",
   "metadata": {},
   "outputs": [],
   "source": [
    "delattr(pwskills4,\"mobile_number\")"
   ]
  },
  {
   "cell_type": "code",
   "execution_count": null,
   "id": "05eeddda-599e-48e4-ad4b-9ac073167bb8",
   "metadata": {},
   "outputs": [],
   "source": []
  }
 ],
 "metadata": {
  "kernelspec": {
   "display_name": "Python 3 (ipykernel)",
   "language": "python",
   "name": "python3"
  },
  "language_info": {
   "codemirror_mode": {
    "name": "ipython",
    "version": 3
   },
   "file_extension": ".py",
   "mimetype": "text/x-python",
   "name": "python",
   "nbconvert_exporter": "python",
   "pygments_lexer": "ipython3",
   "version": "3.11.7"
  }
 },
 "nbformat": 4,
 "nbformat_minor": 5
}
