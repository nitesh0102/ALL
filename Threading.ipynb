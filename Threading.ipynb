{
 "cells": [
  {
   "cell_type": "markdown",
   "id": "d73993df-4f66-41dc-b721-bbdbfb726ad9",
   "metadata": {},
   "source": [
    "Multiple Threads/Process/subprocess of a programmer to consecutively execute. "
   ]
  },
  {
   "cell_type": "code",
   "execution_count": 8,
   "id": "15fb27c5-f976-4f47-bd05-7f235e964ba8",
   "metadata": {},
   "outputs": [],
   "source": [
    "import threading"
   ]
  },
  {
   "cell_type": "code",
   "execution_count": 2,
   "id": "a9287f63-0260-467f-9399-0861687025b9",
   "metadata": {},
   "outputs": [],
   "source": [
    "def test(id):\n",
    "    print(\"this is my test id %d\" % id)"
   ]
  },
  {
   "cell_type": "code",
   "execution_count": 3,
   "id": "e3c01031-d912-40fa-b710-e1a3f4cdb0be",
   "metadata": {},
   "outputs": [
    {
     "name": "stdout",
     "output_type": "stream",
     "text": [
      "this is my test id 10\n"
     ]
    }
   ],
   "source": [
    "test(10)"
   ]
  },
  {
   "cell_type": "code",
   "execution_count": 5,
   "id": "17168e62-6dd8-479e-94ea-398f92bf6ed6",
   "metadata": {},
   "outputs": [],
   "source": [
    "def test1(id):\n",
    "    print(\"this is my test id %d\" %id)"
   ]
  },
  {
   "cell_type": "code",
   "execution_count": 6,
   "id": "e393261c-771d-418f-89c0-f4c8a5b8b764",
   "metadata": {},
   "outputs": [
    {
     "name": "stdout",
     "output_type": "stream",
     "text": [
      "this is my test id 20\n"
     ]
    }
   ],
   "source": [
    "test1(20)"
   ]
  },
  {
   "cell_type": "code",
   "execution_count": 7,
   "id": "c217660e-99e3-4cb5-8fe1-bc3ef47878a9",
   "metadata": {},
   "outputs": [],
   "source": [
    "def test2(id):\n",
    "    print(\"this is my test id %d\",id)"
   ]
  },
  {
   "cell_type": "code",
   "execution_count": 8,
   "id": "d7d31390-9e19-4925-9dcf-cb4f7f4c97c0",
   "metadata": {},
   "outputs": [
    {
     "name": "stdout",
     "output_type": "stream",
     "text": [
      "this is my test id %d 30\n"
     ]
    }
   ],
   "source": [
    "test2(30)"
   ]
  },
  {
   "cell_type": "code",
   "execution_count": 9,
   "id": "af9e7180-2e41-434a-b878-63470b2da0ad",
   "metadata": {},
   "outputs": [],
   "source": [
    "def test3(id):\n",
    "    print(\"this is my test id\",id)"
   ]
  },
  {
   "cell_type": "code",
   "execution_count": 10,
   "id": "b8c06660-e87d-47a7-b992-b21c36003b46",
   "metadata": {},
   "outputs": [
    {
     "name": "stdout",
     "output_type": "stream",
     "text": [
      "this is my test id 40\n"
     ]
    }
   ],
   "source": [
    "test3(40)"
   ]
  },
  {
   "cell_type": "code",
   "execution_count": 12,
   "id": "13c44430-0d88-485c-843f-5b73c697a488",
   "metadata": {},
   "outputs": [],
   "source": [
    "def test(id):\n",
    "    print(\"this is my test id %d\" % id)"
   ]
  },
  {
   "cell_type": "code",
   "execution_count": 13,
   "id": "96c0e2b5-d3f7-484a-9690-093411b3f819",
   "metadata": {},
   "outputs": [
    {
     "name": "stdout",
     "output_type": "stream",
     "text": [
      "this is my test id 10\n"
     ]
    }
   ],
   "source": [
    "test(10)"
   ]
  },
  {
   "cell_type": "code",
   "execution_count": 14,
   "id": "cfe198cc-828b-46d6-b13a-c1736e34cf24",
   "metadata": {},
   "outputs": [
    {
     "name": "stdout",
     "output_type": "stream",
     "text": [
      "this is my test id 20\n"
     ]
    }
   ],
   "source": [
    "test(20)"
   ]
  },
  {
   "cell_type": "code",
   "execution_count": 15,
   "id": "62302114-3a3a-4150-952e-1a793087303b",
   "metadata": {},
   "outputs": [],
   "source": [
    "thred = [threading.Thread(target = test, args = (i,)) for i in [10,1,3]]"
   ]
  },
  {
   "cell_type": "code",
   "execution_count": 16,
   "id": "812f3e02-6e0b-4548-a68d-311db20c8235",
   "metadata": {},
   "outputs": [
    {
     "data": {
      "text/plain": [
       "[<Thread(Thread-5 (test), initial)>,\n",
       " <Thread(Thread-6 (test), initial)>,\n",
       " <Thread(Thread-7 (test), initial)>]"
      ]
     },
     "execution_count": 16,
     "metadata": {},
     "output_type": "execute_result"
    }
   ],
   "source": [
    "thred"
   ]
  },
  {
   "cell_type": "code",
   "execution_count": 17,
   "id": "0c0f66bf-2c6c-4dde-99db-dce782a9541c",
   "metadata": {},
   "outputs": [
    {
     "name": "stdout",
     "output_type": "stream",
     "text": [
      "this is my test id 10\n",
      "this is my test id 1\n",
      "this is my test id 3\n"
     ]
    }
   ],
   "source": [
    "for i in thred:\n",
    "    i.start()"
   ]
  },
  {
   "cell_type": "code",
   "execution_count": null,
   "id": "8164cd2c-c5c0-473e-b247-5d682c82f1fd",
   "metadata": {},
   "outputs": [],
   "source": []
  },
  {
   "cell_type": "code",
   "execution_count": 18,
   "id": "04498ea5-a465-4e68-9b5d-66310bb6c283",
   "metadata": {},
   "outputs": [],
   "source": [
    "import urllib.request"
   ]
  },
  {
   "cell_type": "code",
   "execution_count": 19,
   "id": "448e4036-bbca-4768-ac23-c5d353d85ae9",
   "metadata": {},
   "outputs": [],
   "source": [
    "def file_download(url,filename):\n",
    "    urllib.request.urlretrieve(url,filename)\n",
    "    "
   ]
  },
  {
   "cell_type": "code",
   "execution_count": 20,
   "id": "a183aca3-e870-495f-b43b-a9a8f76690c5",
   "metadata": {},
   "outputs": [],
   "source": [
    "file_download(\"https://en.wikipedia.org/wiki/R_Praggnanandhaa\", \"test989.txt\")"
   ]
  },
  {
   "cell_type": "code",
   "execution_count": 24,
   "id": "baa377f8-6985-421e-9210-b8ec22ba6cd1",
   "metadata": {},
   "outputs": [],
   "source": [
    "with open (\"test989.txt\",'r') as f:\n",
    "    f.read()"
   ]
  },
  {
   "cell_type": "code",
   "execution_count": 25,
   "id": "5934bef9-6adf-4c81-8a3a-e1e6c79e6cf3",
   "metadata": {},
   "outputs": [],
   "source": [
    "url_list = [\"link1\",\"link2\",\"link3\"]"
   ]
  },
  {
   "cell_type": "code",
   "execution_count": 26,
   "id": "00d2fe4c-be34-463d-a391-7249d52a8937",
   "metadata": {},
   "outputs": [],
   "source": [
    "data_file_list = ['data1.txt','data2.txt','data3.txt']"
   ]
  },
  {
   "cell_type": "code",
   "execution_count": 27,
   "id": "e540aa7e-7f7b-40eb-a597-015a5ad4c8e2",
   "metadata": {},
   "outputs": [
    {
     "data": {
      "text/plain": [
       "['data1.txt', 'data2.txt', 'data3.txt']"
      ]
     },
     "execution_count": 27,
     "metadata": {},
     "output_type": "execute_result"
    }
   ],
   "source": [
    "data_file_list"
   ]
  },
  {
   "cell_type": "code",
   "execution_count": 28,
   "id": "157ff474-fdbe-4110-8abd-a1a569a04412",
   "metadata": {},
   "outputs": [],
   "source": [
    "thread1 = [threading.Thread(target = file_download, args = (url_list[i],data_file_list[i])) for i in range(len(url_list))]"
   ]
  },
  {
   "cell_type": "code",
   "execution_count": 30,
   "id": "e3820d9c-80e1-47d4-85fc-8a38f5693c75",
   "metadata": {},
   "outputs": [],
   "source": [
    "for t in thread1:\n",
    "    t.start()"
   ]
  },
  {
   "cell_type": "code",
   "execution_count": null,
   "id": "35e321f4-04cb-4b08-a08c-bae929dc1ed1",
   "metadata": {},
   "outputs": [],
   "source": []
  },
  {
   "cell_type": "code",
   "execution_count": 4,
   "id": "73831c51-a387-4a7a-aa2c-6b8ebd63af94",
   "metadata": {},
   "outputs": [],
   "source": [
    "import time"
   ]
  },
  {
   "cell_type": "code",
   "execution_count": 5,
   "id": "9745b3b4-0baa-41c5-860c-53e82cf05994",
   "metadata": {},
   "outputs": [],
   "source": [
    "def test2(x):\n",
    "    for i in range(10):\n",
    "        print(\"test2 print the value of x %d and print the value of i %d \" %(x,i))\n",
    "        time.sleep(1)"
   ]
  },
  {
   "cell_type": "code",
   "execution_count": 6,
   "id": "5d73bad2-d06a-4dad-9379-cfb6354f4b45",
   "metadata": {},
   "outputs": [
    {
     "name": "stdout",
     "output_type": "stream",
     "text": [
      "test2 print the value of x 10 and print the value of i 0 \n",
      "test2 print the value of x 10 and print the value of i 1 \n",
      "test2 print the value of x 10 and print the value of i 2 \n",
      "test2 print the value of x 10 and print the value of i 3 \n",
      "test2 print the value of x 10 and print the value of i 4 \n",
      "test2 print the value of x 10 and print the value of i 5 \n",
      "test2 print the value of x 10 and print the value of i 6 \n",
      "test2 print the value of x 10 and print the value of i 7 \n",
      "test2 print the value of x 10 and print the value of i 8 \n",
      "test2 print the value of x 10 and print the value of i 9 \n"
     ]
    }
   ],
   "source": [
    "test2(10)"
   ]
  },
  {
   "cell_type": "code",
   "execution_count": null,
   "id": "3971b718-c61d-44f2-8771-a40892b93912",
   "metadata": {},
   "outputs": [],
   "source": [
    "test2(2)"
   ]
  },
  {
   "cell_type": "code",
   "execution_count": 9,
   "id": "2dc49f30-d0c5-4283-a99e-2e62cc1ac967",
   "metadata": {},
   "outputs": [],
   "source": [
    "thread2 = [threading.Thread(target = test2, args = (i,)) for i in [2,5,6]]"
   ]
  },
  {
   "cell_type": "code",
   "execution_count": 10,
   "id": "9e517095-9cd4-4d55-a343-e0ecbbd27ca0",
   "metadata": {},
   "outputs": [
    {
     "name": "stdout",
     "output_type": "stream",
     "text": [
      "test2 print the value of x 2 and print the value of i 0 \n",
      "test2 print the value of x 5 and print the value of i 0 \n",
      "test2 print the value of x 6 and print the value of i 0 \n",
      "test2 print the value of x 2 and print the value of i 1 \n",
      "test2 print the value of x 5 and print the value of i 1 \n",
      "test2 print the value of x 6 and print the value of i 1 \n",
      "test2 print the value of x 2 and print the value of i 2 \n",
      "test2 print the value of x 5 and print the value of i 2 \n",
      "test2 print the value of x 6 and print the value of i 2 \n",
      "test2 print the value of x 5 and print the value of i 3 test2 print the value of x 6 and print the value of i 3 \n",
      "\n",
      "test2 print the value of x 2 and print the value of i 3 \n",
      "test2 print the value of x 5 and print the value of i 4 test2 print the value of x 6 and print the value of i 4 \n",
      "\n",
      "test2 print the value of x 2 and print the value of i 4 \n",
      "test2 print the value of x 5 and print the value of i 5 test2 print the value of x 6 and print the value of i 5 \n",
      "\n",
      "test2 print the value of x 2 and print the value of i 5 \n",
      "test2 print the value of x 5 and print the value of i 6 test2 print the value of x 2 and print the value of i 6 \n",
      "test2 print the value of x 6 and print the value of i 6 \n",
      "\n",
      "test2 print the value of x 6 and print the value of i 7 test2 print the value of x 2 and print the value of i 7 \n",
      "test2 print the value of x 5 and print the value of i 7 \n",
      "\n",
      "test2 print the value of x 5 and print the value of i 8 test2 print the value of x 2 and print the value of i 8 \n",
      "test2 print the value of x 6 and print the value of i 8 \n",
      "\n",
      "test2 print the value of x 2 and print the value of i 9 test2 print the value of x 5 and print the value of i 9 \n",
      "\n",
      "test2 print the value of x 6 and print the value of i 9 \n"
     ]
    }
   ],
   "source": [
    "for i in thread2:\n",
    "    i.start()"
   ]
  },
  {
   "cell_type": "code",
   "execution_count": 11,
   "id": "1463ca02-31f3-4408-a1e0-3a50527fe8a5",
   "metadata": {},
   "outputs": [],
   "source": [
    "# all threads were able to utilize the resources one by one. "
   ]
  },
  {
   "cell_type": "code",
   "execution_count": null,
   "id": "1c3eee47-441c-42c8-860c-6c14519bbc07",
   "metadata": {},
   "outputs": [],
   "source": []
  },
  {
   "cell_type": "code",
   "execution_count": 12,
   "id": "60e105ec-87a4-4fe8-adaa-82a70fea0489",
   "metadata": {},
   "outputs": [],
   "source": [
    "def test3(x):\n",
    "    for i in range(10):\n",
    "        print(\"test2 print the value of x %d and print the value of i %d \" %(x,i))\n",
    "        #time.sleep(1)"
   ]
  },
  {
   "cell_type": "code",
   "execution_count": 13,
   "id": "a18f0deb-6d28-4864-9703-83ec6f8a64ab",
   "metadata": {},
   "outputs": [],
   "source": [
    "thread3 = [threading.Thread(target = test3, args = (i,)) for i in [2,5,6]]"
   ]
  },
  {
   "cell_type": "code",
   "execution_count": 14,
   "id": "b41b2641-2009-4a57-8776-b40618bff720",
   "metadata": {},
   "outputs": [
    {
     "name": "stdout",
     "output_type": "stream",
     "text": [
      "test2 print the value of x 2 and print the value of i 0 \n",
      "test2 print the value of x 2 and print the value of i 1 \n",
      "test2 print the value of x 2 and print the value of i 2 \n",
      "test2 print the value of x 2 and print the value of i 3 \n",
      "test2 print the value of x 2 and print the value of i 4 \n",
      "test2 print the value of x 2 and print the value of i 5 \n",
      "test2 print the value of x 2 and print the value of i 6 \n",
      "test2 print the value of x 2 and print the value of i 7 \n",
      "test2 print the value of x 2 and print the value of i 8 \n",
      "test2 print the value of x 2 and print the value of i 9 \n",
      "test2 print the value of x 5 and print the value of i 0 \n",
      "test2 print the value of x 5 and print the value of i 1 \n",
      "test2 print the value of x 5 and print the value of i 2 \n",
      "test2 print the value of x 5 and print the value of i 3 \n",
      "test2 print the value of x 5 and print the value of i 4 \n",
      "test2 print the value of x 5 and print the value of i 5 \n",
      "test2 print the value of x 5 and print the value of i 6 \n",
      "test2 print the value of x 5 and print the value of i 7 \n",
      "test2 print the value of x 5 and print the value of i 8 \n",
      "test2 print the value of x 5 and print the value of i 9 \n",
      "test2 print the value of x 6 and print the value of i 0 \n",
      "test2 print the value of x 6 and print the value of i 1 \n",
      "test2 print the value of x 6 and print the value of i 2 \n",
      "test2 print the value of x 6 and print the value of i 3 \n",
      "test2 print the value of x 6 and print the value of i 4 \n",
      "test2 print the value of x 6 and print the value of i 5 \n",
      "test2 print the value of x 6 and print the value of i 6 \n",
      "test2 print the value of x 6 and print the value of i 7 \n",
      "test2 print the value of x 6 and print the value of i 8 \n",
      "test2 print the value of x 6 and print the value of i 9 \n"
     ]
    }
   ],
   "source": [
    "for i in thread3:\n",
    "    i.start()"
   ]
  },
  {
   "cell_type": "markdown",
   "id": "540daa71-4cff-4cd2-8324-5262f3631313",
   "metadata": {},
   "source": [
    "## Understand the difference between test2 and test3, When we used test2 with a sleep function \n",
    "## the resource gets re-allocated giving every instance the resource"
   ]
  },
  {
   "cell_type": "code",
   "execution_count": null,
   "id": "e252c890-9336-4760-8525-b937bbab0429",
   "metadata": {},
   "outputs": [],
   "source": []
  },
  {
   "cell_type": "code",
   "execution_count": 21,
   "id": "71e1001f-5e3e-495d-bad4-368270fdfff3",
   "metadata": {},
   "outputs": [],
   "source": [
    "shared_var = 0\n",
    "lock_var = threading.Lock()\n",
    "def test4(x):\n",
    "    global shared_var\n",
    "    with lock_var: \n",
    "        shared_var = shared_var + 1\n",
    "        print(\"value of x %d and value of shared_var %d\" %(x,shared_var))\n",
    "        time.sleep(1)\n",
    "\n",
    "thread5 = [threading.Thread(target = test4, args = (i,)) for i in [1,2,3,4,5,6]]"
   ]
  },
  {
   "cell_type": "code",
   "execution_count": 17,
   "id": "9d66e0ac-a154-4dda-9e10-880be9308ccf",
   "metadata": {},
   "outputs": [
    {
     "name": "stdout",
     "output_type": "stream",
     "text": [
      "value of x 1 and value of shared_var 1\n"
     ]
    }
   ],
   "source": [
    "test4(1)"
   ]
  },
  {
   "cell_type": "code",
   "execution_count": 18,
   "id": "174ba429-f3a6-4176-a9a0-1bcd8b74f97c",
   "metadata": {},
   "outputs": [
    {
     "name": "stdout",
     "output_type": "stream",
     "text": [
      "value of x 5 and value of shared_var 2\n"
     ]
    }
   ],
   "source": [
    "test4(5)"
   ]
  },
  {
   "cell_type": "code",
   "execution_count": 20,
   "id": "44e3da0f-defb-40de-a743-308a48736063",
   "metadata": {},
   "outputs": [
    {
     "name": "stdout",
     "output_type": "stream",
     "text": [
      "value of x 5 and value of shared_var 3\n"
     ]
    }
   ],
   "source": [
    "test4(5)"
   ]
  },
  {
   "cell_type": "code",
   "execution_count": 22,
   "id": "5341e426-407f-4461-ad29-4ee18313d5bd",
   "metadata": {},
   "outputs": [
    {
     "name": "stdout",
     "output_type": "stream",
     "text": [
      "value of x 1 and value of shared_var 1\n",
      "value of x 2 and value of shared_var 2\n",
      "value of x 3 and value of shared_var 3\n",
      "value of x 4 and value of shared_var 4\n",
      "value of x 5 and value of shared_var 5\n",
      "value of x 6 and value of shared_var 6\n"
     ]
    }
   ],
   "source": [
    "for i in thread5:\n",
    "    i.start()"
   ]
  },
  {
   "cell_type": "code",
   "execution_count": null,
   "id": "dde1a126-bb1f-46dd-9a18-89ab27e6c018",
   "metadata": {},
   "outputs": [],
   "source": []
  }
 ],
 "metadata": {
  "kernelspec": {
   "display_name": "Python 3 (ipykernel)",
   "language": "python",
   "name": "python3"
  },
  "language_info": {
   "codemirror_mode": {
    "name": "ipython",
    "version": 3
   },
   "file_extension": ".py",
   "mimetype": "text/x-python",
   "name": "python",
   "nbconvert_exporter": "python",
   "pygments_lexer": "ipython3",
   "version": "3.11.7"
  }
 },
 "nbformat": 4,
 "nbformat_minor": 5
}
