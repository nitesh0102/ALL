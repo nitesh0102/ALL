{
 "cells": [
  {
   "cell_type": "code",
   "execution_count": 1,
   "id": "32679d1c-e902-4bb5-a6f2-516f76f21b9e",
   "metadata": {},
   "outputs": [],
   "source": [
    "a = 10"
   ]
  },
  {
   "cell_type": "code",
   "execution_count": 2,
   "id": "56643e4d-1893-4bab-94b1-e267fa5a0b85",
   "metadata": {},
   "outputs": [
    {
     "ename": "ZeroDivisionError",
     "evalue": "division by zero",
     "output_type": "error",
     "traceback": [
      "\u001b[1;31m---------------------------------------------------------------------------\u001b[0m",
      "\u001b[1;31mZeroDivisionError\u001b[0m                         Traceback (most recent call last)",
      "Cell \u001b[1;32mIn[2], line 1\u001b[0m\n\u001b[1;32m----> 1\u001b[0m a\u001b[38;5;241m/\u001b[39m\u001b[38;5;241m0\u001b[39m\n",
      "\u001b[1;31mZeroDivisionError\u001b[0m: division by zero"
     ]
    }
   ],
   "source": [
    "a/0"
   ]
  },
  {
   "cell_type": "code",
   "execution_count": 4,
   "id": "f26954c0-8906-461f-bff9-818777fd1eab",
   "metadata": {},
   "outputs": [
    {
     "ename": "FileNotFoundError",
     "evalue": "[Errno 2] No such file or directory: 'test.txt'",
     "output_type": "error",
     "traceback": [
      "\u001b[1;31m---------------------------------------------------------------------------\u001b[0m",
      "\u001b[1;31mFileNotFoundError\u001b[0m                         Traceback (most recent call last)",
      "Cell \u001b[1;32mIn[4], line 1\u001b[0m\n\u001b[1;32m----> 1\u001b[0m f \u001b[38;5;241m=\u001b[39m \u001b[38;5;28mopen\u001b[39m(\u001b[38;5;124m\"\u001b[39m\u001b[38;5;124mtest.txt\u001b[39m\u001b[38;5;124m\"\u001b[39m,\u001b[38;5;124m'\u001b[39m\u001b[38;5;124mr\u001b[39m\u001b[38;5;124m'\u001b[39m)\n\u001b[0;32m      2\u001b[0m \u001b[38;5;28mprint\u001b[39m(\u001b[38;5;124m\"\u001b[39m\u001b[38;5;124mthis is my test print\u001b[39m\u001b[38;5;124m\"\u001b[39m)\n",
      "File \u001b[1;32m~\\AppData\\Local\\anaconda3\\Lib\\site-packages\\IPython\\core\\interactiveshell.py:310\u001b[0m, in \u001b[0;36m_modified_open\u001b[1;34m(file, *args, **kwargs)\u001b[0m\n\u001b[0;32m    303\u001b[0m \u001b[38;5;28;01mif\u001b[39;00m file \u001b[38;5;129;01min\u001b[39;00m {\u001b[38;5;241m0\u001b[39m, \u001b[38;5;241m1\u001b[39m, \u001b[38;5;241m2\u001b[39m}:\n\u001b[0;32m    304\u001b[0m     \u001b[38;5;28;01mraise\u001b[39;00m \u001b[38;5;167;01mValueError\u001b[39;00m(\n\u001b[0;32m    305\u001b[0m         \u001b[38;5;124mf\u001b[39m\u001b[38;5;124m\"\u001b[39m\u001b[38;5;124mIPython won\u001b[39m\u001b[38;5;124m'\u001b[39m\u001b[38;5;124mt let you open fd=\u001b[39m\u001b[38;5;132;01m{\u001b[39;00mfile\u001b[38;5;132;01m}\u001b[39;00m\u001b[38;5;124m by default \u001b[39m\u001b[38;5;124m\"\u001b[39m\n\u001b[0;32m    306\u001b[0m         \u001b[38;5;124m\"\u001b[39m\u001b[38;5;124mas it is likely to crash IPython. If you know what you are doing, \u001b[39m\u001b[38;5;124m\"\u001b[39m\n\u001b[0;32m    307\u001b[0m         \u001b[38;5;124m\"\u001b[39m\u001b[38;5;124myou can use builtins\u001b[39m\u001b[38;5;124m'\u001b[39m\u001b[38;5;124m open.\u001b[39m\u001b[38;5;124m\"\u001b[39m\n\u001b[0;32m    308\u001b[0m     )\n\u001b[1;32m--> 310\u001b[0m \u001b[38;5;28;01mreturn\u001b[39;00m io_open(file, \u001b[38;5;241m*\u001b[39margs, \u001b[38;5;241m*\u001b[39m\u001b[38;5;241m*\u001b[39mkwargs)\n",
      "\u001b[1;31mFileNotFoundError\u001b[0m: [Errno 2] No such file or directory: 'test.txt'"
     ]
    }
   ],
   "source": [
    "f = open(\"test.txt\",'r')\n",
    "print(\"this is my test print\")"
   ]
  },
  {
   "cell_type": "markdown",
   "id": "567b4f6a-6180-4578-8ea6-27c1ef1de2b9",
   "metadata": {},
   "source": [
    "## Exception Handling"
   ]
  },
  {
   "cell_type": "code",
   "execution_count": 7,
   "id": "fe9d8eda-a1c7-4fc0-b377-6915159a97cc",
   "metadata": {},
   "outputs": [
    {
     "name": "stdout",
     "output_type": "stream",
     "text": [
      "there is some issue with my code [Errno 2] No such file or directory: 'test.txt'\n",
      "this is my print\n"
     ]
    },
    {
     "data": {
      "text/plain": [
       "10"
      ]
     },
     "execution_count": 7,
     "metadata": {},
     "output_type": "execute_result"
    }
   ],
   "source": [
    "try: \n",
    "    f = open(\"test.txt\",'r')\n",
    "except Exception as e : \n",
    "    print(\"there is some issue with my code\",e)\n",
    "print(\"this is my print\")\n",
    "a = 10\n",
    "a"
   ]
  },
  {
   "cell_type": "code",
   "execution_count": 11,
   "id": "03d53af4-84a8-4c25-839f-1c0c1cf3878a",
   "metadata": {},
   "outputs": [],
   "source": [
    "try: \n",
    "    f = open(\"test.txt\",'w')\n",
    "    f.write(\"this is my msg\")\n",
    "    f.close()\n",
    "except Exception as e: \n",
    "    print(\"there is some issue with my code\",e)"
   ]
  },
  {
   "cell_type": "code",
   "execution_count": 13,
   "id": "3ebcd829-146d-493e-add0-7967e56c6788",
   "metadata": {},
   "outputs": [
    {
     "name": "stdout",
     "output_type": "stream",
     "text": [
      "this block will execute once try will execute without any exception\n"
     ]
    }
   ],
   "source": [
    "try: \n",
    "    f = open(\"test.txt\",'w')\n",
    "    f.write(\"this is my msg2\")\n",
    "except Exception as e: \n",
    "    print(\"there is some issue with my code\",e)\n",
    "else: \n",
    "    f.close()\n",
    "    print(\"this block will execute once try will execute without any exception\")"
   ]
  },
  {
   "cell_type": "code",
   "execution_count": 15,
   "id": "dac257e2-5147-4fa6-9f1b-e5175b3d2ac6",
   "metadata": {},
   "outputs": [
    {
     "name": "stdout",
     "output_type": "stream",
     "text": [
      "there is some issue with my code [Errno 2] No such file or directory: 'test122.txt'\n"
     ]
    }
   ],
   "source": [
    "try: \n",
    "    f = open(\"test122.txt\",'r')\n",
    "    f.write(\"this is my msg2\")\n",
    "except Exception as e: \n",
    "    print(\"there is some issue with my code\",e)\n",
    "else: \n",
    "    f.close()\n",
    "    print(\"this block will execute once try will execute without any exception\")"
   ]
  },
  {
   "cell_type": "markdown",
   "id": "e6bb6597-2a9b-41fd-b12a-740f3a50dd6f",
   "metadata": {},
   "source": [
    "## 4th Block "
   ]
  },
  {
   "cell_type": "markdown",
   "id": "8e9ed53e-4ac5-43f8-9450-afee07c4d17b",
   "metadata": {},
   "source": [
    "Finally"
   ]
  },
  {
   "cell_type": "code",
   "execution_count": 16,
   "id": "030b0984-d3f8-4e01-bb39-40c1b9dd0dc4",
   "metadata": {},
   "outputs": [
    {
     "name": "stdout",
     "output_type": "stream",
     "text": [
      "i am in finally i will always gets executed\n"
     ]
    },
    {
     "ename": "FileNotFoundError",
     "evalue": "[Errno 2] No such file or directory: 'test232.txt'",
     "output_type": "error",
     "traceback": [
      "\u001b[1;31m---------------------------------------------------------------------------\u001b[0m",
      "\u001b[1;31mFileNotFoundError\u001b[0m                         Traceback (most recent call last)",
      "Cell \u001b[1;32mIn[16], line 2\u001b[0m\n\u001b[0;32m      1\u001b[0m \u001b[38;5;28;01mtry\u001b[39;00m: \n\u001b[1;32m----> 2\u001b[0m     f \u001b[38;5;241m=\u001b[39m \u001b[38;5;28mopen\u001b[39m(\u001b[38;5;124m\"\u001b[39m\u001b[38;5;124mtest232.txt\u001b[39m\u001b[38;5;124m\"\u001b[39m,\u001b[38;5;124m'\u001b[39m\u001b[38;5;124mr\u001b[39m\u001b[38;5;124m'\u001b[39m)\n\u001b[0;32m      3\u001b[0m     f\u001b[38;5;241m.\u001b[39mwrite(\u001b[38;5;124m\"\u001b[39m\u001b[38;5;124mthis is my msg\u001b[39m\u001b[38;5;124m\"\u001b[39m)\n\u001b[0;32m      4\u001b[0m \u001b[38;5;28;01mfinally\u001b[39;00m : \n",
      "File \u001b[1;32m~\\AppData\\Local\\anaconda3\\Lib\\site-packages\\IPython\\core\\interactiveshell.py:310\u001b[0m, in \u001b[0;36m_modified_open\u001b[1;34m(file, *args, **kwargs)\u001b[0m\n\u001b[0;32m    303\u001b[0m \u001b[38;5;28;01mif\u001b[39;00m file \u001b[38;5;129;01min\u001b[39;00m {\u001b[38;5;241m0\u001b[39m, \u001b[38;5;241m1\u001b[39m, \u001b[38;5;241m2\u001b[39m}:\n\u001b[0;32m    304\u001b[0m     \u001b[38;5;28;01mraise\u001b[39;00m \u001b[38;5;167;01mValueError\u001b[39;00m(\n\u001b[0;32m    305\u001b[0m         \u001b[38;5;124mf\u001b[39m\u001b[38;5;124m\"\u001b[39m\u001b[38;5;124mIPython won\u001b[39m\u001b[38;5;124m'\u001b[39m\u001b[38;5;124mt let you open fd=\u001b[39m\u001b[38;5;132;01m{\u001b[39;00mfile\u001b[38;5;132;01m}\u001b[39;00m\u001b[38;5;124m by default \u001b[39m\u001b[38;5;124m\"\u001b[39m\n\u001b[0;32m    306\u001b[0m         \u001b[38;5;124m\"\u001b[39m\u001b[38;5;124mas it is likely to crash IPython. If you know what you are doing, \u001b[39m\u001b[38;5;124m\"\u001b[39m\n\u001b[0;32m    307\u001b[0m         \u001b[38;5;124m\"\u001b[39m\u001b[38;5;124myou can use builtins\u001b[39m\u001b[38;5;124m'\u001b[39m\u001b[38;5;124m open.\u001b[39m\u001b[38;5;124m\"\u001b[39m\n\u001b[0;32m    308\u001b[0m     )\n\u001b[1;32m--> 310\u001b[0m \u001b[38;5;28;01mreturn\u001b[39;00m io_open(file, \u001b[38;5;241m*\u001b[39margs, \u001b[38;5;241m*\u001b[39m\u001b[38;5;241m*\u001b[39mkwargs)\n",
      "\u001b[1;31mFileNotFoundError\u001b[0m: [Errno 2] No such file or directory: 'test232.txt'"
     ]
    }
   ],
   "source": [
    "try: \n",
    "    f = open(\"test232.txt\",'r')\n",
    "    f.write(\"this is my msg\")\n",
    "finally : \n",
    "    print(\"i am in finally i will always gets executed\")"
   ]
  },
  {
   "cell_type": "code",
   "execution_count": 17,
   "id": "f79124a4-1b49-47fc-9048-b4a067faea62",
   "metadata": {},
   "outputs": [
    {
     "name": "stdout",
     "output_type": "stream",
     "text": [
      "there is some issue with my code [Errno 2] No such file or directory: 'test122.txt'\n",
      "i will always gets printed because i am in finally\n"
     ]
    }
   ],
   "source": [
    "try: \n",
    "    f = open(\"test122.txt\",'r')\n",
    "    f.write(\"this is my msg2\")\n",
    "except Exception as e: \n",
    "    print(\"there is some issue with my code\",e)\n",
    "else: \n",
    "    f.close()\n",
    "    print(\"this block will execute once try will execute without any exception\")\n",
    "finally:\n",
    "    print(\"i will always gets printed because i am in finally\")"
   ]
  },
  {
   "cell_type": "code",
   "execution_count": 18,
   "id": "638adeaa-3907-43dc-94f0-bfa5b41dfb45",
   "metadata": {},
   "outputs": [
    {
     "name": "stdout",
     "output_type": "stream",
     "text": [
      "this block will execute once try will execute without any exception\n",
      "i will always gets printed because i am in finally\n"
     ]
    }
   ],
   "source": [
    "try: \n",
    "    f = open(\"test122.txt\",'w')\n",
    "    f.write(\"this is my msg2\")\n",
    "except Exception as e: \n",
    "    print(\"there is some issue with my code\",e)\n",
    "else: \n",
    "    f.close()\n",
    "    print(\"this block will execute once try will execute without any exception\")\n",
    "finally:\n",
    "    print(\"i will always gets printed because i am in finally\")"
   ]
  },
  {
   "cell_type": "code",
   "execution_count": null,
   "id": "675fdfa2-8a3e-4b5b-a7d5-4d5f72db13e1",
   "metadata": {},
   "outputs": [],
   "source": []
  },
  {
   "cell_type": "markdown",
   "id": "095f6a2c-0ae5-41fa-a0ea-a6a2e741f387",
   "metadata": {},
   "source": [
    "## Custom Exception Handling "
   ]
  },
  {
   "cell_type": "code",
   "execution_count": 20,
   "id": "c75adb2e-d626-4b47-b77d-340d5e08d591",
   "metadata": {},
   "outputs": [
    {
     "name": "stdin",
     "output_type": "stream",
     "text": [
      "enter your age 2232\n"
     ]
    }
   ],
   "source": [
    "age = int(input(\"enter your age\"))"
   ]
  },
  {
   "cell_type": "code",
   "execution_count": 21,
   "id": "1f032cc1-a661-48d6-a03b-9a72e26afff1",
   "metadata": {},
   "outputs": [],
   "source": [
    "# user can enter negative age which is not right so for these cases we need to use custome exceptions. "
   ]
  },
  {
   "cell_type": "code",
   "execution_count": 22,
   "id": "76b51580-f08e-47cb-9729-80aae3d7ce6b",
   "metadata": {},
   "outputs": [],
   "source": [
    "class validateage(Exception) : \n",
    "    def __init__(self,msg): \n",
    "        self.msg = msg"
   ]
  },
  {
   "cell_type": "code",
   "execution_count": 23,
   "id": "9854f399-92db-44fa-9577-b4cea36e319e",
   "metadata": {},
   "outputs": [],
   "source": [
    "def validate_age(age):\n",
    "    if age < 0 : \n",
    "        raise validateage(\"age should not be lesser than zero\") \n",
    "    elif age > 200: \n",
    "        raise validateage(\"age is too high\")\n",
    "    else:\n",
    "        print(\"age is valid\")"
   ]
  },
  {
   "cell_type": "code",
   "execution_count": 26,
   "id": "d3c268ba-3dbe-4b59-9281-5f8f99aba361",
   "metadata": {},
   "outputs": [
    {
     "name": "stdin",
     "output_type": "stream",
     "text": [
      "enter your age 32\n"
     ]
    },
    {
     "name": "stdout",
     "output_type": "stream",
     "text": [
      "age is valid\n"
     ]
    }
   ],
   "source": [
    "try: \n",
    "    age = int(input(\"enter your age\"))\n",
    "    validate_age(age)\n",
    "except validateage as e:\n",
    "    print(e)"
   ]
  },
  {
   "cell_type": "code",
   "execution_count": null,
   "id": "5b478be6-bba5-432b-b89f-11ea8cf82a73",
   "metadata": {},
   "outputs": [],
   "source": []
  }
 ],
 "metadata": {
  "kernelspec": {
   "display_name": "Python 3 (ipykernel)",
   "language": "python",
   "name": "python3"
  },
  "language_info": {
   "codemirror_mode": {
    "name": "ipython",
    "version": 3
   },
   "file_extension": ".py",
   "mimetype": "text/x-python",
   "name": "python",
   "nbconvert_exporter": "python",
   "pygments_lexer": "ipython3",
   "version": "3.11.7"
  }
 },
 "nbformat": 4,
 "nbformat_minor": 5
}
