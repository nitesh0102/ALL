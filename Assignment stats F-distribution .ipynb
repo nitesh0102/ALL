{
 "cells": [
  {
   "cell_type": "code",
   "execution_count": 1,
   "id": "677a8272-241e-43a3-9eba-440a08646065",
   "metadata": {},
   "outputs": [],
   "source": [
    "a = [1324,53,435,455,43,32,2434]\n",
    "b = [43,5,656,76,343,65,5,34,5,4]"
   ]
  },
  {
   "cell_type": "code",
   "execution_count": 3,
   "id": "5eb905d0-7ef8-406d-a446-dc0ef913db04",
   "metadata": {},
   "outputs": [],
   "source": [
    "import scipy.stats as stat\n",
    "import numpy as np"
   ]
  },
  {
   "cell_type": "code",
   "execution_count": 4,
   "id": "06279f86-97f6-4b1a-b85d-ede63b99a1f8",
   "metadata": {},
   "outputs": [],
   "source": [
    "f = np.var(a)/np.var(b)"
   ]
  },
  {
   "cell_type": "code",
   "execution_count": 6,
   "id": "78e5202f-c6f1-425c-b2f3-72dac5594348",
   "metadata": {},
   "outputs": [
    {
     "data": {
      "text/plain": [
       "16.866173437549392"
      ]
     },
     "execution_count": 6,
     "metadata": {},
     "output_type": "execute_result"
    }
   ],
   "source": [
    "f"
   ]
  },
  {
   "cell_type": "code",
   "execution_count": 7,
   "id": "2d8b4e54-370e-42b0-a709-e5455ef0e70b",
   "metadata": {},
   "outputs": [],
   "source": [
    "df1 = len(a)-1\n",
    "df2 = len(b) - 1"
   ]
  },
  {
   "cell_type": "code",
   "execution_count": 11,
   "id": "0522603b-8079-4609-8bed-4b5c504d960b",
   "metadata": {},
   "outputs": [],
   "source": [
    "p = 1 - stat.f.cdf(f,df1,df2)"
   ]
  },
  {
   "cell_type": "code",
   "execution_count": 12,
   "id": "eee7055a-ac21-4eba-bb1c-53987cc93ff9",
   "metadata": {},
   "outputs": [
    {
     "data": {
      "text/plain": [
       "0.0001979599524497555"
      ]
     },
     "execution_count": 12,
     "metadata": {},
     "output_type": "execute_result"
    }
   ],
   "source": [
    "p"
   ]
  },
  {
   "cell_type": "code",
   "execution_count": 13,
   "id": "132f3883-fb45-4c28-b582-a4cd60e52b28",
   "metadata": {},
   "outputs": [],
   "source": [
    "### Q1 "
   ]
  },
  {
   "cell_type": "code",
   "execution_count": 15,
   "id": "11c397ce-f2d6-4dc2-9897-d852298eb915",
   "metadata": {},
   "outputs": [],
   "source": [
    "def fp_value(arr1,arr2):\n",
    "    print(\"calculating f-value of the test :\")\n",
    "    f = np.var(arr1)/np.var(arr2)\n",
    "    print(\"the f-value of the test is\", f)\n",
    "    df1 = len(arr1)-1\n",
    "    df2 = len(arr2)-1\n",
    "    p_value = 1-stat.f.cdf(f,df1,df2)\n",
    "    print(\"p value of the test is\",p_value)\n",
    "    return f,p_value\n",
    "    \n",
    "    "
   ]
  },
  {
   "cell_type": "code",
   "execution_count": 17,
   "id": "3a2d2efc-333d-4042-9b2c-5f4123b26f53",
   "metadata": {},
   "outputs": [
    {
     "name": "stdout",
     "output_type": "stream",
     "text": [
      "calculating f-value of the test :\n",
      "the f-value of the test is 16.866173437549392\n",
      "p value of the test is 0.0001979599524497555\n"
     ]
    }
   ],
   "source": [
    "q,w = fp_value(a,b)"
   ]
  },
  {
   "cell_type": "code",
   "execution_count": 23,
   "id": "3328a7bd-4873-4bc5-bad8-267530265938",
   "metadata": {},
   "outputs": [
    {
     "name": "stdout",
     "output_type": "stream",
     "text": [
      "calculating f-value of the test :\n",
      "the f-value of the test is 16.866173437549392\n",
      "p value of the test is 0.0001979599524497555\n"
     ]
    },
    {
     "ename": "SyntaxError",
     "evalue": "'break' outside loop (2100328346.py, line 4)",
     "output_type": "error",
     "traceback": [
      "\u001b[1;36m  Cell \u001b[1;32mIn[23], line 4\u001b[1;36m\u001b[0m\n\u001b[1;33m    break\u001b[0m\n\u001b[1;37m    ^\u001b[0m\n\u001b[1;31mSyntaxError\u001b[0m\u001b[1;31m:\u001b[0m 'break' outside loop\n"
     ]
    }
   ],
   "source": [
    "q,w = fp_value(a,b)\n",
    "\"\\n\"\n",
    "q\n",
    "w"
   ]
  },
  {
   "cell_type": "code",
   "execution_count": 19,
   "id": "3c7a7859-0f07-49d1-8687-97f63b9c470b",
   "metadata": {},
   "outputs": [
    {
     "data": {
      "text/plain": [
       "0.0001979599524497555"
      ]
     },
     "execution_count": 19,
     "metadata": {},
     "output_type": "execute_result"
    }
   ],
   "source": []
  },
  {
   "cell_type": "code",
   "execution_count": 24,
   "id": "c7ac4947-90af-4e1b-bdbd-a0ac8a681f47",
   "metadata": {},
   "outputs": [],
   "source": [
    "### Q2"
   ]
  },
  {
   "cell_type": "code",
   "execution_count": 25,
   "id": "7fe4c1cc-9e81-4aab-9414-c1a17eaec8f1",
   "metadata": {},
   "outputs": [],
   "source": [
    "def cv(signi,df1,df2):\n",
    "    critical_value = stat.f.ppf(1-signi,df1,df2)\n",
    "    return critical_value"
   ]
  },
  {
   "cell_type": "code",
   "execution_count": 26,
   "id": "27d3ae4c-44cf-4316-a6c5-f6ef04d0e92a",
   "metadata": {},
   "outputs": [
    {
     "data": {
      "text/plain": [
       "0.3490733188382905"
      ]
     },
     "execution_count": 26,
     "metadata": {},
     "output_type": "execute_result"
    }
   ],
   "source": [
    "cv(0.05,10,14)"
   ]
  },
  {
   "cell_type": "code",
   "execution_count": null,
   "id": "72e4bfe0-aa18-44d5-9dbf-9e042d4557ce",
   "metadata": {},
   "outputs": [],
   "source": []
  },
  {
   "cell_type": "code",
   "execution_count": 27,
   "id": "03375906-76a7-42b8-9361-fe9ed6367fdd",
   "metadata": {},
   "outputs": [],
   "source": [
    "## Q3"
   ]
  },
  {
   "cell_type": "code",
   "execution_count": null,
   "id": "d29022c8-d4d0-4802-b208-c775847a809a",
   "metadata": {},
   "outputs": [],
   "source": []
  },
  {
   "cell_type": "code",
   "execution_count": null,
   "id": "0418aa06-d885-45ad-aae6-d06f881aa0b2",
   "metadata": {},
   "outputs": [],
   "source": []
  },
  {
   "cell_type": "code",
   "execution_count": null,
   "id": "79b894b7-4bd6-4693-a01f-feb9580da539",
   "metadata": {},
   "outputs": [],
   "source": []
  },
  {
   "cell_type": "code",
   "execution_count": null,
   "id": "28e9cdf1-4cba-4d68-8c3c-f01e61cf8a55",
   "metadata": {},
   "outputs": [],
   "source": []
  },
  {
   "cell_type": "code",
   "execution_count": null,
   "id": "a55aabb1-f220-40e0-af88-a1e7b86ca9d7",
   "metadata": {},
   "outputs": [],
   "source": []
  },
  {
   "cell_type": "code",
   "execution_count": null,
   "id": "64b6a707-b6a0-4473-a0f6-b543b67b83e3",
   "metadata": {},
   "outputs": [],
   "source": []
  },
  {
   "cell_type": "code",
   "execution_count": 28,
   "id": "8604203d-20f7-4932-a1b5-1f609984c1a8",
   "metadata": {},
   "outputs": [],
   "source": [
    "##Q4"
   ]
  },
  {
   "cell_type": "code",
   "execution_count": 30,
   "id": "c272aad4-21e8-45e1-8fa2-ebb2a687d0c8",
   "metadata": {},
   "outputs": [],
   "source": [
    "v1 = 10\n",
    "v2 = 15\n",
    "F_test = 10/15\n",
    "df1 = 12-1 \n",
    "df2 = 12-1\n",
    "alpha = 0.05\n"
   ]
  },
  {
   "cell_type": "code",
   "execution_count": 31,
   "id": "9baa0ab5-4263-4020-b2e7-1285929d0e46",
   "metadata": {},
   "outputs": [],
   "source": [
    "cv = stat.f.ppf(0.95,df1,df2)"
   ]
  },
  {
   "cell_type": "code",
   "execution_count": 33,
   "id": "a3a12350-9152-4625-9438-f49def4c2353",
   "metadata": {},
   "outputs": [
    {
     "name": "stdout",
     "output_type": "stream",
     "text": [
      "Accept the null hypothesis\n"
     ]
    }
   ],
   "source": [
    "if F_test > cv: \n",
    "    print(\"Reject the null hypothesis\")\n",
    "else: \n",
    "    print(\"Accept the null hypothesis\")"
   ]
  },
  {
   "cell_type": "code",
   "execution_count": null,
   "id": "f3fa8082-487d-41ba-b775-eb7708c4dfe0",
   "metadata": {},
   "outputs": [],
   "source": [
    "Conclusion : As we can not reject the null hypothesis,hence the variance are equal. "
   ]
  },
  {
   "cell_type": "code",
   "execution_count": null,
   "id": "6d5cbb12-7349-4d44-9e4b-7fbc8bf8f0b3",
   "metadata": {},
   "outputs": [],
   "source": []
  },
  {
   "cell_type": "code",
   "execution_count": 34,
   "id": "82bc093b-3951-43c5-b04c-416dc772ae42",
   "metadata": {},
   "outputs": [],
   "source": [
    "## Q5"
   ]
  },
  {
   "cell_type": "code",
   "execution_count": 39,
   "id": "219b1926-52e4-4dd4-932e-f07c9674becf",
   "metadata": {},
   "outputs": [],
   "source": [
    "v1 = 0.005\n",
    "v2 = 0.006\n",
    "df1 = 24\n",
    "df2 = 24\n",
    "alpha = 0.01\n",
    "CI = 1-alpha"
   ]
  },
  {
   "cell_type": "code",
   "execution_count": 40,
   "id": "d489bbb7-0c38-41a7-83a0-610fc2858293",
   "metadata": {},
   "outputs": [],
   "source": [
    "F_test = v1/v2"
   ]
  },
  {
   "cell_type": "code",
   "execution_count": 41,
   "id": "a69b03cf-e609-46c5-8973-f966c06440d1",
   "metadata": {},
   "outputs": [],
   "source": [
    "CV = (CI,df1,df2)"
   ]
  },
  {
   "cell_type": "code",
   "execution_count": 42,
   "id": "728412f8-e8da-4961-b9b5-7c2ffe3985ce",
   "metadata": {},
   "outputs": [
    {
     "name": "stdout",
     "output_type": "stream",
     "text": [
      "Accept the null hypothesis\n"
     ]
    }
   ],
   "source": [
    "if F_test > cv: \n",
    "    print(\"Reject the null hypothesis\")\n",
    "else: \n",
    "    print(\"Accept the null hypothesis\")"
   ]
  },
  {
   "cell_type": "code",
   "execution_count": null,
   "id": "4728a91a-80cc-4eb4-bd4e-4bbe3653201d",
   "metadata": {},
   "outputs": [],
   "source": [
    "Conclusion : We have to accept the null hypothesis hence the variance are not different. "
   ]
  },
  {
   "cell_type": "code",
   "execution_count": null,
   "id": "30068f75-b8e8-4db6-a439-61e3761f51e6",
   "metadata": {},
   "outputs": [],
   "source": []
  },
  {
   "cell_type": "code",
   "execution_count": 44,
   "id": "f480618d-5482-452c-9248-665b56d3ce61",
   "metadata": {},
   "outputs": [],
   "source": [
    "#Q6"
   ]
  },
  {
   "cell_type": "code",
   "execution_count": null,
   "id": "782ee9b0-c556-492e-9d3d-25d492d77799",
   "metadata": {},
   "outputs": [],
   "source": [
    "can't solve"
   ]
  },
  {
   "cell_type": "code",
   "execution_count": null,
   "id": "810bb21f-3823-461c-add3-9d2b87db9061",
   "metadata": {},
   "outputs": [],
   "source": []
  },
  {
   "cell_type": "code",
   "execution_count": 45,
   "id": "6142ca9f-85c9-4733-94df-041423ce5a53",
   "metadata": {},
   "outputs": [],
   "source": [
    "## Q7"
   ]
  },
  {
   "cell_type": "code",
   "execution_count": null,
   "id": "9124ca86-2fee-4233-8cd3-f89429ccdb8a",
   "metadata": {},
   "outputs": [],
   "source": [
    "n1 = 10\n",
    "df1 = 9\n",
    "v1 = 25\n",
    "n2 = 15\n",
    "df2 = 19\n",
    "v2 = 20\n"
   ]
  }
 ],
 "metadata": {
  "kernelspec": {
   "display_name": "Python 3 (ipykernel)",
   "language": "python",
   "name": "python3"
  },
  "language_info": {
   "codemirror_mode": {
    "name": "ipython",
    "version": 3
   },
   "file_extension": ".py",
   "mimetype": "text/x-python",
   "name": "python",
   "nbconvert_exporter": "python",
   "pygments_lexer": "ipython3",
   "version": "3.11.7"
  }
 },
 "nbformat": 4,
 "nbformat_minor": 5
}
