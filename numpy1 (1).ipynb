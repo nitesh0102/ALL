{
 "cells": [
  {
   "cell_type": "code",
   "execution_count": 1,
   "id": "c9a7463f-7428-4edc-9594-caf854df7a7a",
   "metadata": {},
   "outputs": [],
   "source": [
    "import numpy as np"
   ]
  },
  {
   "cell_type": "code",
   "execution_count": 2,
   "id": "c458dfe7-1da4-4d67-b342-4d5c84b1a411",
   "metadata": {},
   "outputs": [],
   "source": [
    "l = [1,2,3,455,44]"
   ]
  },
  {
   "cell_type": "code",
   "execution_count": 22,
   "id": "f3af1738-dba6-4176-818c-2f430906a71d",
   "metadata": {},
   "outputs": [
    {
     "data": {
      "text/plain": [
       "array([  1,   2,   3, 455,  44])"
      ]
     },
     "execution_count": 22,
     "metadata": {},
     "output_type": "execute_result"
    }
   ],
   "source": [
    "arr = np.array(l)\n",
    "arr"
   ]
  },
  {
   "cell_type": "code",
   "execution_count": 8,
   "id": "8a7591f0-4778-4894-9d27-c7029548991f",
   "metadata": {},
   "outputs": [
    {
     "data": {
      "text/plain": [
       "numpy.ndarray"
      ]
     },
     "execution_count": 8,
     "metadata": {},
     "output_type": "execute_result"
    }
   ],
   "source": [
    "type(arr)"
   ]
  },
  {
   "cell_type": "code",
   "execution_count": 15,
   "id": "cf168491-1e18-45d7-9a9c-f765b4a900bb",
   "metadata": {},
   "outputs": [],
   "source": [
    "arr1 = np.array([[1,2,3],[4,5,6]])"
   ]
  },
  {
   "cell_type": "code",
   "execution_count": 16,
   "id": "63534b2a-3c7f-4bfe-90e6-2c237d4a633b",
   "metadata": {},
   "outputs": [
    {
     "data": {
      "text/plain": [
       "2"
      ]
     },
     "execution_count": 16,
     "metadata": {},
     "output_type": "execute_result"
    }
   ],
   "source": [
    "arr1.ndim"
   ]
  },
  {
   "cell_type": "code",
   "execution_count": 17,
   "id": "9a8a29dd-55bd-44f3-bc98-39c30b790d92",
   "metadata": {},
   "outputs": [
    {
     "data": {
      "text/plain": [
       "1"
      ]
     },
     "execution_count": 17,
     "metadata": {},
     "output_type": "execute_result"
    }
   ],
   "source": [
    "arr.ndim"
   ]
  },
  {
   "cell_type": "code",
   "execution_count": 20,
   "id": "49362081-0823-41f9-9338-0f828e61ba5a",
   "metadata": {},
   "outputs": [],
   "source": [
    "mat = np.matrix(l)"
   ]
  },
  {
   "cell_type": "code",
   "execution_count": 21,
   "id": "96bb6364-d1ad-424f-a9a6-d27d1de652a6",
   "metadata": {},
   "outputs": [
    {
     "data": {
      "text/plain": [
       "array([[  1,   2,   3, 455,  44]])"
      ]
     },
     "execution_count": 21,
     "metadata": {},
     "output_type": "execute_result"
    }
   ],
   "source": [
    "np.array(mat)"
   ]
  },
  {
   "cell_type": "code",
   "execution_count": 23,
   "id": "76c338da-1b6a-45c1-bbe9-0f9f02ae2e68",
   "metadata": {},
   "outputs": [],
   "source": [
    "a  = arr"
   ]
  },
  {
   "cell_type": "code",
   "execution_count": 24,
   "id": "6b0f2c43-f474-430f-8ce4-588301a3ce4d",
   "metadata": {},
   "outputs": [],
   "source": [
    "arr[0] = 100"
   ]
  },
  {
   "cell_type": "code",
   "execution_count": 25,
   "id": "03de2700-e39e-4a50-9143-07bf69bec632",
   "metadata": {},
   "outputs": [
    {
     "data": {
      "text/plain": [
       "array([100,   2,   3, 455,  44])"
      ]
     },
     "execution_count": 25,
     "metadata": {},
     "output_type": "execute_result"
    }
   ],
   "source": [
    "arr"
   ]
  },
  {
   "cell_type": "code",
   "execution_count": 26,
   "id": "1a89319c-2fbf-42bf-86de-11ff77f1a8db",
   "metadata": {},
   "outputs": [
    {
     "data": {
      "text/plain": [
       "array([100,   2,   3, 455,  44])"
      ]
     },
     "execution_count": 26,
     "metadata": {},
     "output_type": "execute_result"
    }
   ],
   "source": [
    "a"
   ]
  },
  {
   "cell_type": "code",
   "execution_count": 27,
   "id": "bdd9f86c-ba7c-4043-8bf0-3b903857b6ef",
   "metadata": {},
   "outputs": [],
   "source": [
    "b = np.copy(arr)"
   ]
  },
  {
   "cell_type": "code",
   "execution_count": 28,
   "id": "2e6e5db2-1cdc-4df0-8f09-6ba4d994347d",
   "metadata": {},
   "outputs": [
    {
     "data": {
      "text/plain": [
       "array([100,   2,   3, 455,  44])"
      ]
     },
     "execution_count": 28,
     "metadata": {},
     "output_type": "execute_result"
    }
   ],
   "source": [
    "b"
   ]
  },
  {
   "cell_type": "code",
   "execution_count": 29,
   "id": "293a3072-f494-4e97-9cb7-e42f8f6d9771",
   "metadata": {},
   "outputs": [],
   "source": [
    "arr[0] = 123"
   ]
  },
  {
   "cell_type": "code",
   "execution_count": 30,
   "id": "6fc65a31-f183-4a1b-a732-9ec83bcccd63",
   "metadata": {},
   "outputs": [
    {
     "data": {
      "text/plain": [
       "array([123,   2,   3, 455,  44])"
      ]
     },
     "execution_count": 30,
     "metadata": {},
     "output_type": "execute_result"
    }
   ],
   "source": [
    "arr"
   ]
  },
  {
   "cell_type": "code",
   "execution_count": 31,
   "id": "baee00fa-831c-48a2-9c63-c3240e4d7140",
   "metadata": {},
   "outputs": [
    {
     "data": {
      "text/plain": [
       "array([100,   2,   3, 455,  44])"
      ]
     },
     "execution_count": 31,
     "metadata": {},
     "output_type": "execute_result"
    }
   ],
   "source": [
    "b"
   ]
  },
  {
   "cell_type": "code",
   "execution_count": 35,
   "id": "e3cbcd02-0ad7-4402-bc2b-3f2bdb7ba268",
   "metadata": {},
   "outputs": [],
   "source": [
    "b [0] = 1234"
   ]
  },
  {
   "cell_type": "code",
   "execution_count": 36,
   "id": "95a4b979-3a1c-4e43-af8f-31514b9bdfd5",
   "metadata": {},
   "outputs": [
    {
     "data": {
      "text/plain": [
       "array([1234,    2,    3,  455,   44])"
      ]
     },
     "execution_count": 36,
     "metadata": {},
     "output_type": "execute_result"
    }
   ],
   "source": [
    "b"
   ]
  },
  {
   "cell_type": "code",
   "execution_count": 37,
   "id": "b5d95b43-3349-4afc-b82e-f532dde76c89",
   "metadata": {},
   "outputs": [
    {
     "data": {
      "text/plain": [
       "array([123,   2,   3, 455,  44])"
      ]
     },
     "execution_count": 37,
     "metadata": {},
     "output_type": "execute_result"
    }
   ],
   "source": [
    "arr"
   ]
  },
  {
   "cell_type": "code",
   "execution_count": 38,
   "id": "8f680136-b9ab-4b75-8fbf-51b2d1026663",
   "metadata": {},
   "outputs": [],
   "source": [
    "# concept of deep copy and solo copy "
   ]
  },
  {
   "cell_type": "code",
   "execution_count": 39,
   "id": "8511969d-8e49-4ac3-a22e-5562a791cb06",
   "metadata": {},
   "outputs": [],
   "source": [
    "#function to create array \n"
   ]
  },
  {
   "cell_type": "code",
   "execution_count": 40,
   "id": "d3dfaa84-caaf-42b0-9f99-b701e3874512",
   "metadata": {},
   "outputs": [
    {
     "data": {
      "text/plain": [
       "array([[ True, False, False],\n",
       "       [False,  True, False],\n",
       "       [False, False,  True]])"
      ]
     },
     "execution_count": 40,
     "metadata": {},
     "output_type": "execute_result"
    }
   ],
   "source": [
    "np.fromfunction(lambda i,j : i ==j,(3,3))"
   ]
  },
  {
   "cell_type": "code",
   "execution_count": 41,
   "id": "3b9d954c-7d02-4fc1-873f-1e3a292f43df",
   "metadata": {},
   "outputs": [
    {
     "data": {
      "text/plain": [
       "array([[0., 0., 0.],\n",
       "       [0., 1., 2.],\n",
       "       [0., 2., 4.]])"
      ]
     },
     "execution_count": 41,
     "metadata": {},
     "output_type": "execute_result"
    }
   ],
   "source": [
    "np.fromfunction(lambda i,j : i*j, (3,3))"
   ]
  },
  {
   "cell_type": "code",
   "execution_count": 44,
   "id": "0dde1fdc-7e71-40ff-9fc5-0795ab622f54",
   "metadata": {},
   "outputs": [
    {
     "data": {
      "text/plain": [
       "[0, 1, 4, 9, 16]"
      ]
     },
     "execution_count": 44,
     "metadata": {},
     "output_type": "execute_result"
    }
   ],
   "source": [
    "list(i *i for i in range(5))"
   ]
  },
  {
   "cell_type": "code",
   "execution_count": 45,
   "id": "5d446b0e-81ce-4ab1-bf6a-3e09fae6aac9",
   "metadata": {},
   "outputs": [],
   "source": [
    "iterable = (i*i for i in range(5))"
   ]
  },
  {
   "cell_type": "code",
   "execution_count": 47,
   "id": "42b3e175-39be-41f7-9e5c-d90698b4c480",
   "metadata": {},
   "outputs": [
    {
     "data": {
      "text/plain": [
       "array([ 0.,  1.,  4.,  9., 16.])"
      ]
     },
     "execution_count": 47,
     "metadata": {},
     "output_type": "execute_result"
    }
   ],
   "source": [
    "np.fromiter(iterable,float)"
   ]
  },
  {
   "cell_type": "code",
   "execution_count": 49,
   "id": "10f9f549-3537-4a8f-86f6-2717a025ed91",
   "metadata": {},
   "outputs": [
    {
     "data": {
      "text/plain": [
       "array([23., 45., 56.])"
      ]
     },
     "execution_count": 49,
     "metadata": {},
     "output_type": "execute_result"
    }
   ],
   "source": [
    "np.fromstring('23 45 56', sep =' ')"
   ]
  },
  {
   "cell_type": "code",
   "execution_count": 50,
   "id": "83a4bd1a-5ad8-49ca-881a-c7e150a857c1",
   "metadata": {},
   "outputs": [
    {
     "data": {
      "text/plain": [
       "1"
      ]
     },
     "execution_count": 50,
     "metadata": {},
     "output_type": "execute_result"
    }
   ],
   "source": [
    "arr.ndim"
   ]
  },
  {
   "cell_type": "code",
   "execution_count": 51,
   "id": "9142daa8-7260-4c7b-9cde-e682b9854e8b",
   "metadata": {},
   "outputs": [
    {
     "data": {
      "text/plain": [
       "5"
      ]
     },
     "execution_count": 51,
     "metadata": {},
     "output_type": "execute_result"
    }
   ],
   "source": [
    "arr.size"
   ]
  },
  {
   "cell_type": "code",
   "execution_count": null,
   "id": "e2fc2380-ea37-4908-8f0d-450231282e48",
   "metadata": {},
   "outputs": [],
   "source": []
  }
 ],
 "metadata": {
  "kernelspec": {
   "display_name": "Python 3 (ipykernel)",
   "language": "python",
   "name": "python3"
  },
  "language_info": {
   "codemirror_mode": {
    "name": "ipython",
    "version": 3
   },
   "file_extension": ".py",
   "mimetype": "text/x-python",
   "name": "python",
   "nbconvert_exporter": "python",
   "pygments_lexer": "ipython3",
   "version": "3.11.7"
  }
 },
 "nbformat": 4,
 "nbformat_minor": 5
}
