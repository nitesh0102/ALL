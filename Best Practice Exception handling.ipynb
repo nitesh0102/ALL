{
 "cells": [
  {
   "cell_type": "code",
   "execution_count": 1,
   "id": "d1b52626-b96a-40d7-ad83-fa1ab998dd9e",
   "metadata": {},
   "outputs": [],
   "source": [
    "# use always a specific exception "
   ]
  },
  {
   "cell_type": "code",
   "execution_count": 3,
   "id": "31a59d05-0b1d-46db-b811-a7e9870a2d5f",
   "metadata": {},
   "outputs": [
    {
     "name": "stdout",
     "output_type": "stream",
     "text": [
      "division by zero\n"
     ]
    }
   ],
   "source": [
    "try: \n",
    "    10/0\n",
    "except Exception as e:\n",
    "    print(e)"
   ]
  },
  {
   "cell_type": "code",
   "execution_count": 4,
   "id": "2e309f80-eb7e-4b63-8892-de2e62a88b0a",
   "metadata": {},
   "outputs": [
    {
     "name": "stdout",
     "output_type": "stream",
     "text": [
      "division by zero\n"
     ]
    }
   ],
   "source": [
    "try : \n",
    "    10/0\n",
    "\n",
    "except ZeroDivisionError as e:\n",
    "    print(e)"
   ]
  },
  {
   "cell_type": "code",
   "execution_count": 11,
   "id": "9c63ac4f-78d4-4ec8-88c5-892a36a5ac12",
   "metadata": {},
   "outputs": [
    {
     "name": "stdout",
     "output_type": "stream",
     "text": [
      "division by zero\n"
     ]
    }
   ],
   "source": [
    "try: \n",
    "    10/0\n",
    "except ZeroDivisionError as e:\n",
    "    print(e)"
   ]
  },
  {
   "cell_type": "code",
   "execution_count": null,
   "id": "d143db8f-e315-43ae-a018-1ab8fa5904b8",
   "metadata": {},
   "outputs": [],
   "source": []
  },
  {
   "cell_type": "code",
   "execution_count": 12,
   "id": "f40b060b-6ed2-479d-aeb7-e7f2bd1782e3",
   "metadata": {},
   "outputs": [],
   "source": [
    "#  Always print a valid message"
   ]
  },
  {
   "cell_type": "code",
   "execution_count": 16,
   "id": "0ee7996e-e0fb-4518-8607-12e137c16e11",
   "metadata": {},
   "outputs": [
    {
     "name": "stdout",
     "output_type": "stream",
     "text": [
      "This is my Zero division error i am handling :  division by zero\n"
     ]
    }
   ],
   "source": [
    "try: \n",
    "    10/0\n",
    "except ZeroDivisionError as e:\n",
    "    print(\"This is my Zero division error i am handling : \",e)"
   ]
  },
  {
   "cell_type": "code",
   "execution_count": null,
   "id": "d2a87267-3dc8-44ec-891e-a005ec3390ab",
   "metadata": {},
   "outputs": [],
   "source": []
  },
  {
   "cell_type": "code",
   "execution_count": 17,
   "id": "340b6a77-6b03-4642-b721-bffd40cf3835",
   "metadata": {},
   "outputs": [],
   "source": [
    "# Always try to log "
   ]
  },
  {
   "cell_type": "code",
   "execution_count": 18,
   "id": "db73dbf5-fa43-4a42-abea-44056a458489",
   "metadata": {},
   "outputs": [],
   "source": [
    "import logging"
   ]
  },
  {
   "cell_type": "code",
   "execution_count": 26,
   "id": "7f6aabba-56ee-4832-9ac4-d1d6e647e64e",
   "metadata": {},
   "outputs": [],
   "source": [
    "logging.basicConfig(filename = \"error.log\",level = logging.ERROR)\n",
    "try: \n",
    "    10/0\n",
    "except ZeroDivisionError as e:\n",
    "    logging.error(\"This is my zero division error {}\".format(e))\n",
    "    #print(\"This is my Zero division error i am handling : \",e)"
   ]
  },
  {
   "cell_type": "code",
   "execution_count": null,
   "id": "e9166a21-f591-4566-93f6-67e7ac3bbdf5",
   "metadata": {},
   "outputs": [],
   "source": []
  },
  {
   "cell_type": "code",
   "execution_count": 27,
   "id": "49c5ac33-553e-4501-b8bb-7838215b0412",
   "metadata": {},
   "outputs": [],
   "source": [
    "# Always avoid to try multiple exception handling"
   ]
  },
  {
   "cell_type": "code",
   "execution_count": 28,
   "id": "52c37431-d401-4446-a180-6ac78a644df8",
   "metadata": {},
   "outputs": [],
   "source": [
    "logging.basicConfig(filename = \"error.log\",level = logging.ERROR)\n",
    "try: \n",
    "    10/0\n",
    "    \n",
    "except FileNotFoundError as e:\n",
    "    logging.error(\"This is my file not found error {}\".format(e))\n",
    "except AttributeError as e:\n",
    "    logging.error(\"This is my Attribute error {}\".format(e))\n",
    "    \n",
    "except ZeroDivisionError as e:\n",
    "    logging.error(\"This is my zero division error {}\".format(e))\n",
    "    #print(\"This is my Zero division error i am handling : \",e)"
   ]
  },
  {
   "cell_type": "code",
   "execution_count": null,
   "id": "f4ca1032-56af-4578-9f55-68c52c638e83",
   "metadata": {},
   "outputs": [],
   "source": []
  },
  {
   "cell_type": "code",
   "execution_count": 29,
   "id": "a377781a-2798-43d1-acdd-90d680e4cdc4",
   "metadata": {},
   "outputs": [],
   "source": [
    "#Prepare a proper documentation "
   ]
  },
  {
   "cell_type": "code",
   "execution_count": 31,
   "id": "f12d9535-6581-4c6c-a226-3ed77a9e1036",
   "metadata": {},
   "outputs": [],
   "source": [
    "# Cleanup all the resources \n",
    "\n",
    "try: \n",
    "    with open(\"test.txt\",'w') as f:\n",
    "        f.write(\"this is my messgae to file\") \n",
    "except FileNotFoundError as e:\n",
    "    logging.error(\"This is my file not found error {}\".format(e))\n",
    "finally:\n",
    "    f.close()"
   ]
  },
  {
   "cell_type": "code",
   "execution_count": null,
   "id": "19282a3b-9602-4147-90c0-9589dc83206e",
   "metadata": {},
   "outputs": [],
   "source": []
  }
 ],
 "metadata": {
  "kernelspec": {
   "display_name": "Python 3 (ipykernel)",
   "language": "python",
   "name": "python3"
  },
  "language_info": {
   "codemirror_mode": {
    "name": "ipython",
    "version": 3
   },
   "file_extension": ".py",
   "mimetype": "text/x-python",
   "name": "python",
   "nbconvert_exporter": "python",
   "pygments_lexer": "ipython3",
   "version": "3.11.7"
  }
 },
 "nbformat": 4,
 "nbformat_minor": 5
}
