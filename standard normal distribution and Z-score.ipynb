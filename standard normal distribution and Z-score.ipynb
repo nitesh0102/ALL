{
 "cells": [
  {
   "cell_type": "code",
   "execution_count": null,
   "id": "6b2d66d7-8d67-4b69-acda-10ffdb28db79",
   "metadata": {},
   "outputs": [],
   "source": [
    "For any gaussian distribution if you apply any tranformation technique which converts the mean to 0 and standard devitation to 1 \n",
    "then the distribution becomes standard normal distribution. \n",
    "\n",
    "Mean = 0 \n",
    "Standard Deviation = 1"
   ]
  },
  {
   "cell_type": "code",
   "execution_count": null,
   "id": "1a2072d3-2038-472b-ad90-f294c0fc2ec0",
   "metadata": {},
   "outputs": [],
   "source": [
    "This conversion is done using z-score formula. "
   ]
  },
  {
   "cell_type": "code",
   "execution_count": null,
   "id": "6a74e667-64b2-4c3f-bf15-116f37f95ad2",
   "metadata": {},
   "outputs": [],
   "source": [
    "Z-Score = (X - Mean)/SD"
   ]
  },
  {
   "cell_type": "code",
   "execution_count": null,
   "id": "10447907-9c67-4a06-9b20-ce89244d0922",
   "metadata": {},
   "outputs": [],
   "source": []
  },
  {
   "cell_type": "code",
   "execution_count": null,
   "id": "f509b0b2-c80d-466b-aa9c-9afd761f0c82",
   "metadata": {},
   "outputs": [],
   "source": [
    "#Q how many sd 4.25 is away from the mean \n",
    "given mean = 4\n",
    "sd = 1\n",
    "\n",
    "z-score = 4.25-4/1 = 0.25\n",
    "\n",
    "4.25 is 1/4 SD away from mean. "
   ]
  },
  {
   "cell_type": "code",
   "execution_count": null,
   "id": "49a5c31a-035a-4bd8-a42b-8d71522ef40d",
   "metadata": {},
   "outputs": [],
   "source": []
  },
  {
   "cell_type": "code",
   "execution_count": 1,
   "id": "ccaa9528-37a4-4d75-85ff-8edf4f521a1f",
   "metadata": {},
   "outputs": [],
   "source": [
    "#Q why we need Z- Score, standaard normal distribution etc ?"
   ]
  },
  {
   "cell_type": "code",
   "execution_count": null,
   "id": "82f31af9-b8db-458d-86fd-f604fbddffe7",
   "metadata": {},
   "outputs": [],
   "source": [
    "Ans: To make values in the kind of same unit. so that ML algos work fine. \n",
    "for example when plotting Age, height and weight scales vary across all 3 and graph will look disperse. "
   ]
  },
  {
   "cell_type": "code",
   "execution_count": 2,
   "id": "ca86d636-a0f0-4564-9ccb-aa1145b32ef9",
   "metadata": {},
   "outputs": [],
   "source": [
    "## Standardisation "
   ]
  },
  {
   "cell_type": "code",
   "execution_count": null,
   "id": "57b868b0-4bc0-4081-9735-9a134fe8a377",
   "metadata": {},
   "outputs": [],
   "source": [
    "The Techqnique to create standard normal distribution with given data is called standardisation and is done using Z-score. "
   ]
  },
  {
   "cell_type": "code",
   "execution_count": null,
   "id": "6595de6e-866e-4c26-937e-75ed09b26e63",
   "metadata": {},
   "outputs": [],
   "source": [
    "for example in clustering we calculate the distance between values and if all the values are in same unit the calculation becomes faster. \n",
    "\n",
    "1. clustering \n",
    "2. linear regression \n",
    "3. logistic regression "
   ]
  },
  {
   "cell_type": "code",
   "execution_count": null,
   "id": "a5f2a31f-9982-4a85-97ee-be199b9795b2",
   "metadata": {},
   "outputs": [],
   "source": [
    "Importance of Z-score\n",
    "1. To understand how sd away the value is from mean\n",
    "2. To help you perform standardisation "
   ]
  },
  {
   "cell_type": "code",
   "execution_count": null,
   "id": "eff0caca-20b8-46f7-98cb-8df5a3828878",
   "metadata": {},
   "outputs": [],
   "source": []
  },
  {
   "cell_type": "code",
   "execution_count": null,
   "id": "e94437f7-76cf-4d5d-9a1f-bb0c206f3303",
   "metadata": {},
   "outputs": [],
   "source": []
  },
  {
   "cell_type": "markdown",
   "id": "01ea328c-ad6d-48dd-be1a-52823d3c0eaf",
   "metadata": {},
   "source": [
    "## Z-Score Application "
   ]
  },
  {
   "cell_type": "code",
   "execution_count": 4,
   "id": "a31555e5-5426-475f-b5ad-4d6bdb7d1916",
   "metadata": {},
   "outputs": [],
   "source": [
    "X = [1,2,3,4,5,6,7]"
   ]
  },
  {
   "cell_type": "code",
   "execution_count": null,
   "id": "f5d7a9eb-6bed-443a-a58f-2c96858f6d11",
   "metadata": {},
   "outputs": [],
   "source": [
    "Z-score = (x - mean)/Sd"
   ]
  },
  {
   "cell_type": "code",
   "execution_count": null,
   "id": "8422a7ef-aeb7-4667-8336-8897bc3cd1c6",
   "metadata": {},
   "outputs": [],
   "source": [
    "mean = 4 and SD = 1"
   ]
  },
  {
   "cell_type": "code",
   "execution_count": null,
   "id": "18951336-257b-42d0-8f9d-ac7d46c80c0c",
   "metadata": {},
   "outputs": [],
   "source": [
    "Assumption : X is a random variable which belongs to normal or gaussian. "
   ]
  },
  {
   "cell_type": "code",
   "execution_count": null,
   "id": "47075390-14e0-4ec3-8a76-4b0b6f83dba7",
   "metadata": {},
   "outputs": [],
   "source": []
  },
  {
   "cell_type": "code",
   "execution_count": null,
   "id": "5c533785-49eb-432f-9e03-2a01a817f42b",
   "metadata": {},
   "outputs": [],
   "source": [
    "Q. What % of score fall above 4.25?"
   ]
  },
  {
   "cell_type": "code",
   "execution_count": null,
   "id": "e43edaec-65dc-41e1-abf2-0cd509cf9ac6",
   "metadata": {},
   "outputs": [],
   "source": [
    "Ans: Z-score = (4.25 - 4)/1 = 0.25\n",
    "\n",
    "0.25 Away from the mean towards the right. "
   ]
  },
  {
   "cell_type": "code",
   "execution_count": null,
   "id": "97ddeae0-50cf-4a9a-afeb-c8539d091fe5",
   "metadata": {},
   "outputs": [],
   "source": [
    "# Now how to find out the area \n",
    "Use z table\n",
    "\n",
    "Negative Z table -\n",
    "Positive Z table - "
   ]
  },
  {
   "cell_type": "code",
   "execution_count": null,
   "id": "1cd4501e-6d44-40ba-bfe9-d54bd1a794dd",
   "metadata": {},
   "outputs": [],
   "source": [
    "Area for 0.25 from Z table = 0.59871 (This is left to z-score) \n",
    "\n",
    "so calculate % score above 4.25 is 1-0.59871 = 0.4013\n",
    "\n",
    "so 41% of score fall above 4.25"
   ]
  },
  {
   "cell_type": "code",
   "execution_count": null,
   "id": "7f7e7ff2-8ccc-424a-b49f-7d51be6ba6b5",
   "metadata": {},
   "outputs": [],
   "source": []
  },
  {
   "cell_type": "code",
   "execution_count": null,
   "id": "f2b86279-19d6-4049-87b2-be7107872fa9",
   "metadata": {},
   "outputs": [],
   "source": [
    "#Q. In india the avg IQ = 100 with SD = 15.  what is the % of population would you expect to have an IQ lower than 85?"
   ]
  },
  {
   "cell_type": "code",
   "execution_count": null,
   "id": "d4a68a49-25d5-4de6-9be7-dbae37115630",
   "metadata": {},
   "outputs": [],
   "source": [
    "Ans: mean = 100 SD = 15\n",
    "x = 85 \n",
    "\n",
    "Z-score = (85 - 100) / 1 = -1 \n",
    "\n",
    "Area under the curve to the left = 0.1587\n",
    "\n",
    "% below 85 = ~15%"
   ]
  }
 ],
 "metadata": {
  "kernelspec": {
   "display_name": "Python 3 (ipykernel)",
   "language": "python",
   "name": "python3"
  },
  "language_info": {
   "codemirror_mode": {
    "name": "ipython",
    "version": 3
   },
   "file_extension": ".py",
   "mimetype": "text/x-python",
   "name": "python",
   "nbconvert_exporter": "python",
   "pygments_lexer": "ipython3",
   "version": "3.11.7"
  }
 },
 "nbformat": 4,
 "nbformat_minor": 5
}
