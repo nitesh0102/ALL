{
 "cells": [
  {
   "cell_type": "code",
   "execution_count": null,
   "id": "25e9c063-16c6-442b-adea-75dc2d40a47e",
   "metadata": {},
   "outputs": [],
   "source": [
    "1. Mean Sqaured Error : \n",
    "\n",
    "MSE = sigma ( Yi actual  - Yi predicted)^2 / n \n",
    "              Quadratic Equation \n",
    "\n",
    "\n"
   ]
  },
  {
   "cell_type": "code",
   "execution_count": null,
   "id": "009795cf-ca07-4e66-9dc1-912292dfd697",
   "metadata": {},
   "outputs": [],
   "source": [
    "Advantage of using MSE: \n",
    "1. Always differntiable \n",
    "2. It has one local and one global minima \n",
    "\n",
    "\n",
    "Disadvantage:\n",
    "1. Not robust to outliers (Sqauring the error will become too high for outliers\n",
    "2. It is not in the same unit since we are squaring it. "
   ]
  },
  {
   "cell_type": "code",
   "execution_count": null,
   "id": "fef6f3c1-3eef-40d9-9ad4-9caace4a323e",
   "metadata": {},
   "outputs": [],
   "source": []
  },
  {
   "cell_type": "code",
   "execution_count": null,
   "id": "762255f2-460b-4d66-86b0-36ce7bdbe2ed",
   "metadata": {},
   "outputs": [],
   "source": [
    "2. Mean Absolute Error: \n",
    "MAE :sigma |( Yi actual  - Yi predicted)| / n "
   ]
  },
  {
   "cell_type": "code",
   "execution_count": null,
   "id": "677b88e3-6c13-41e2-af80-56042124d9a5",
   "metadata": {},
   "outputs": [],
   "source": [
    "Advantage:\n",
    "1. Robust to outliers\n",
    "2. Same unit \n",
    "\n",
    "Disadvantage:\n",
    "1. Convergence takes time and slow"
   ]
  },
  {
   "cell_type": "code",
   "execution_count": null,
   "id": "eac5ee80-ff19-4b1b-8351-7b07d0a6b4f8",
   "metadata": {},
   "outputs": [],
   "source": []
  },
  {
   "cell_type": "code",
   "execution_count": null,
   "id": "1209c529-b9d3-4598-8f68-de87055bb44e",
   "metadata": {},
   "outputs": [],
   "source": [
    "3. Root Mean Squared Error:\n",
    "\n",
    "RMSE = root (MSE)\n"
   ]
  },
  {
   "cell_type": "code",
   "execution_count": null,
   "id": "bb8d78ca-ddb6-4a0f-bd29-2b8878faef01",
   "metadata": {},
   "outputs": [],
   "source": [
    "Advantage: \n",
    "1. Same Unit\n",
    "2. Differntiable\n",
    "\n",
    "Disadvantage\n",
    "1. Not robust to outliers "
   ]
  }
 ],
 "metadata": {
  "kernelspec": {
   "display_name": "Python 3 (ipykernel)",
   "language": "python",
   "name": "python3"
  },
  "language_info": {
   "codemirror_mode": {
    "name": "ipython",
    "version": 3
   },
   "file_extension": ".py",
   "mimetype": "text/x-python",
   "name": "python",
   "nbconvert_exporter": "python",
   "pygments_lexer": "ipython3",
   "version": "3.11.7"
  }
 },
 "nbformat": 4,
 "nbformat_minor": 5
}
