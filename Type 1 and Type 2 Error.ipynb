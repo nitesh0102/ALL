{
 "cells": [
  {
   "cell_type": "code",
   "execution_count": null,
   "id": "fc4f6305-b150-4e8c-91f6-b420b1764d73",
   "metadata": {},
   "outputs": [],
   "source": [
    "Reality : Null hypothesis is true or null hypothesis is false\n",
    "Decision : Null hypothesis is true or null hypothesis is false"
   ]
  },
  {
   "cell_type": "code",
   "execution_count": null,
   "id": "1db92296-b00b-4d9c-b52d-66f56fc99bb0",
   "metadata": {},
   "outputs": [],
   "source": [
    "Outcome 1 : We reject the null hypothesis when in reality it is false --- Good"
   ]
  },
  {
   "cell_type": "code",
   "execution_count": null,
   "id": "8ea13a0c-d664-435c-86a5-5a33cb94f4bb",
   "metadata": {},
   "outputs": [],
   "source": [
    "Outcome 2 : We reject the null hypothesisi when in reality it is True --- Type 1 Error"
   ]
  },
  {
   "cell_type": "code",
   "execution_count": null,
   "id": "f01e96f5-7ffe-43fa-acdb-11663a45f872",
   "metadata": {},
   "outputs": [],
   "source": [
    "Outcome 3 : We Accept the null hypothesis when in reality it is true --- Good"
   ]
  },
  {
   "cell_type": "code",
   "execution_count": null,
   "id": "bcdb1073-1ed5-42ba-b054-f9bf0335bd75",
   "metadata": {},
   "outputs": [],
   "source": [
    "Outcome 4 : We Accept the null hypothesis when in reality it is false --- Type 2 Error"
   ]
  },
  {
   "cell_type": "code",
   "execution_count": null,
   "id": "8685c5d1-a3f8-43dc-b666-13424acf18bb",
   "metadata": {},
   "outputs": [],
   "source": []
  },
  {
   "cell_type": "code",
   "execution_count": null,
   "id": "c5a5508a-f78d-4762-95f4-6d27c3d820ae",
   "metadata": {},
   "outputs": [],
   "source": []
  },
  {
   "cell_type": "markdown",
   "id": "d72bd171-b178-4b9d-8aa0-3e2ce17fe9da",
   "metadata": {},
   "source": [
    "## Confidence Intervals and Margin of Error"
   ]
  },
  {
   "cell_type": "code",
   "execution_count": null,
   "id": "777c885a-c0bf-4a45-9457-51a3e473ce22",
   "metadata": {},
   "outputs": [],
   "source": []
  }
 ],
 "metadata": {
  "kernelspec": {
   "display_name": "Python 3 (ipykernel)",
   "language": "python",
   "name": "python3"
  },
  "language_info": {
   "codemirror_mode": {
    "name": "ipython",
    "version": 3
   },
   "file_extension": ".py",
   "mimetype": "text/x-python",
   "name": "python",
   "nbconvert_exporter": "python",
   "pygments_lexer": "ipython3",
   "version": "3.11.7"
  }
 },
 "nbformat": 4,
 "nbformat_minor": 5
}
