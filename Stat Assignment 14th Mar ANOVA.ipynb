{
 "cells": [
  {
   "cell_type": "code",
   "execution_count": 4,
   "id": "240f505a-f17c-43b7-bf26-9391d2d04715",
   "metadata": {},
   "outputs": [],
   "source": [
    "#Q1"
   ]
  },
  {
   "cell_type": "code",
   "execution_count": null,
   "id": "3aa62d0d-7227-4900-bc86-d1c772593778",
   "metadata": {},
   "outputs": [],
   "source": [
    "Assumptions in ANOVA\n",
    "\n",
    "Assumptions:\n",
    "\n",
    "1. Normality of sampling distribution of mean (Central Limit Therorem) \n",
    "The distribution of sample mean is normally distributed\n",
    "\n",
    "2. Absense of Outliers \n",
    "outlying score need to be removed from the dataset. \n",
    "\n",
    "3. Homogentity of Variance\n",
    "population variance in differnet levels of each independent variable are equal. \n",
    "\n",
    "4. Samples are independet and random. "
   ]
  },
  {
   "cell_type": "code",
   "execution_count": null,
   "id": "a6fe9100-e721-4b57-882d-560b191be476",
   "metadata": {},
   "outputs": [],
   "source": []
  },
  {
   "cell_type": "code",
   "execution_count": 5,
   "id": "9b4bb3fe-cf60-4f51-b1b3-70b123c35d61",
   "metadata": {},
   "outputs": [],
   "source": [
    "#Q2"
   ]
  },
  {
   "cell_type": "code",
   "execution_count": null,
   "id": "74da992e-0c3e-4938-b5ca-a53430a50b82",
   "metadata": {},
   "outputs": [],
   "source": [
    "There are 3 types of Anova\n",
    "\n",
    "1. 1-way anova : one factor with atleast 2 levels, here levels are independent. \n",
    "\n",
    "Ex: Doctor wants to test a new medication to decrease headache. \n",
    "\n",
    "They split the medicine in 10mg,20mg,30mg\n",
    "\n",
    "also he wanted to rate the headache from 1-10\n",
    "\n",
    "2. Repeated Measures Anova : One factor with atleast 2 level and levels are dependent. \n",
    "\n",
    "Ex: Running for same person\n",
    "Day1 Day2 Day3 \n",
    "8      3   5  \n",
    "4      5   6\n",
    "\n",
    "3. Factorial Anova : Two or more factors each of which with atleast 2 levels, levels can be independent and dependent.  \n",
    "\n",
    "Ex: Running for same person\n",
    "Day1 Day2 Day3   Gender\n",
    "8      3   5        m\n",
    "4      5   6        f\n"
   ]
  },
  {
   "cell_type": "code",
   "execution_count": null,
   "id": "bd89d6d7-66a2-4ec8-aeed-32f71700957a",
   "metadata": {},
   "outputs": [],
   "source": []
  },
  {
   "cell_type": "code",
   "execution_count": 6,
   "id": "2472144f-1dd0-46d0-b0d4-01ef3e60f98c",
   "metadata": {},
   "outputs": [],
   "source": [
    "#Q3"
   ]
  },
  {
   "cell_type": "code",
   "execution_count": null,
   "id": "431d12cf-7553-4859-9d1c-fd4f54eee131",
   "metadata": {},
   "outputs": [],
   "source": []
  }
 ],
 "metadata": {
  "kernelspec": {
   "display_name": "Python 3 (ipykernel)",
   "language": "python",
   "name": "python3"
  },
  "language_info": {
   "codemirror_mode": {
    "name": "ipython",
    "version": 3
   },
   "file_extension": ".py",
   "mimetype": "text/x-python",
   "name": "python",
   "nbconvert_exporter": "python",
   "pygments_lexer": "ipython3",
   "version": "3.11.7"
  }
 },
 "nbformat": 4,
 "nbformat_minor": 5
}
