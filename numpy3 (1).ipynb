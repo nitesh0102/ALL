{
 "cells": [
  {
   "cell_type": "code",
   "execution_count": 1,
   "id": "c31a176c-c021-4e41-9fd8-70a14ed8670e",
   "metadata": {},
   "outputs": [],
   "source": [
    "import numpy as np"
   ]
  },
  {
   "cell_type": "code",
   "execution_count": 2,
   "id": "006cb202-d1d0-4526-b7e2-068765502ced",
   "metadata": {},
   "outputs": [],
   "source": [
    "#numpy array manipulations"
   ]
  },
  {
   "cell_type": "code",
   "execution_count": 19,
   "id": "b63bdb6f-ae1d-4d7a-b8d8-9fa9898668b6",
   "metadata": {},
   "outputs": [],
   "source": [
    "arr = np.random.randint(1,10,(4,4))"
   ]
  },
  {
   "cell_type": "code",
   "execution_count": 5,
   "id": "247ef621-7ca3-4a07-8a5b-e056a0041d6b",
   "metadata": {},
   "outputs": [
    {
     "data": {
      "text/plain": [
       "array([[8, 8, 9, 5],\n",
       "       [9, 4, 5, 7],\n",
       "       [3, 3, 2, 9],\n",
       "       [5, 2, 3, 4]])"
      ]
     },
     "execution_count": 5,
     "metadata": {},
     "output_type": "execute_result"
    }
   ],
   "source": [
    "arr"
   ]
  },
  {
   "cell_type": "code",
   "execution_count": 6,
   "id": "e04cb770-a161-476b-a2c7-48bd345fdd49",
   "metadata": {},
   "outputs": [
    {
     "data": {
      "text/plain": [
       "array([[8, 8],\n",
       "       [9, 5],\n",
       "       [9, 4],\n",
       "       [5, 7],\n",
       "       [3, 3],\n",
       "       [2, 9],\n",
       "       [5, 2],\n",
       "       [3, 4]])"
      ]
     },
     "execution_count": 6,
     "metadata": {},
     "output_type": "execute_result"
    }
   ],
   "source": [
    "arr.reshape(8,2)"
   ]
  },
  {
   "cell_type": "code",
   "execution_count": 7,
   "id": "07354632-f5cb-4409-9d08-9d682805e264",
   "metadata": {},
   "outputs": [
    {
     "data": {
      "text/plain": [
       "array([[8, 9, 3, 5],\n",
       "       [8, 4, 3, 2],\n",
       "       [9, 5, 2, 3],\n",
       "       [5, 7, 9, 4]])"
      ]
     },
     "execution_count": 7,
     "metadata": {},
     "output_type": "execute_result"
    }
   ],
   "source": [
    "arr.T"
   ]
  },
  {
   "cell_type": "code",
   "execution_count": 8,
   "id": "bc8642e2-d5bb-43b8-9a65-20e5738d7c7a",
   "metadata": {},
   "outputs": [
    {
     "data": {
      "text/plain": [
       "array([8, 8, 9, 5, 9, 4, 5, 7, 3, 3, 2, 9, 5, 2, 3, 4])"
      ]
     },
     "execution_count": 8,
     "metadata": {},
     "output_type": "execute_result"
    }
   ],
   "source": [
    "arr.flatten()"
   ]
  },
  {
   "cell_type": "code",
   "execution_count": 9,
   "id": "9ec09d27-743c-4cdf-aa0a-891ed80f8835",
   "metadata": {},
   "outputs": [
    {
     "ename": "TypeError",
     "evalue": "expand_dims() missing 1 required positional argument: 'axis'",
     "output_type": "error",
     "traceback": [
      "\u001b[1;31m---------------------------------------------------------------------------\u001b[0m",
      "\u001b[1;31mTypeError\u001b[0m                                 Traceback (most recent call last)",
      "Cell \u001b[1;32mIn[9], line 1\u001b[0m\n\u001b[1;32m----> 1\u001b[0m np\u001b[38;5;241m.\u001b[39mexpand_dims(arr)\n",
      "\u001b[1;31mTypeError\u001b[0m: expand_dims() missing 1 required positional argument: 'axis'"
     ]
    }
   ],
   "source": [
    "np.expand_dims(arr)"
   ]
  },
  {
   "cell_type": "code",
   "execution_count": 10,
   "id": "52b30a22-7e5a-4513-9dbe-ec8ed7f013c9",
   "metadata": {},
   "outputs": [
    {
     "data": {
      "text/plain": [
       "array([[8, 8, 9, 5],\n",
       "       [9, 4, 5, 7],\n",
       "       [3, 3, 2, 9],\n",
       "       [5, 2, 3, 4]])"
      ]
     },
     "execution_count": 10,
     "metadata": {},
     "output_type": "execute_result"
    }
   ],
   "source": [
    "arr"
   ]
  },
  {
   "cell_type": "code",
   "execution_count": 13,
   "id": "1a88240f-3df0-4093-a2a9-8c905b0962ee",
   "metadata": {},
   "outputs": [],
   "source": [
    "arr = np.expand_dims(arr,axis = 1)"
   ]
  },
  {
   "cell_type": "code",
   "execution_count": 14,
   "id": "89c8074b-9257-4782-a5c1-b1795ce4bf52",
   "metadata": {},
   "outputs": [
    {
     "data": {
      "text/plain": [
       "array([[[8, 8, 9, 5]],\n",
       "\n",
       "       [[9, 4, 5, 7]],\n",
       "\n",
       "       [[3, 3, 2, 9]],\n",
       "\n",
       "       [[5, 2, 3, 4]]])"
      ]
     },
     "execution_count": 14,
     "metadata": {},
     "output_type": "execute_result"
    }
   ],
   "source": [
    "arr\n"
   ]
  },
  {
   "cell_type": "code",
   "execution_count": 18,
   "id": "d04d3d35-8f0a-4da4-9c81-991bc6fe5021",
   "metadata": {},
   "outputs": [
    {
     "data": {
      "text/plain": [
       "array([[[[8, 8, 9, 5]]],\n",
       "\n",
       "\n",
       "       [[[9, 4, 5, 7]]],\n",
       "\n",
       "\n",
       "       [[[3, 3, 2, 9]]],\n",
       "\n",
       "\n",
       "       [[[5, 2, 3, 4]]]])"
      ]
     },
     "execution_count": 18,
     "metadata": {},
     "output_type": "execute_result"
    }
   ],
   "source": [
    "np.expand_dims(arr,axis = 1)"
   ]
  },
  {
   "cell_type": "code",
   "execution_count": 25,
   "id": "3474f10c-44f0-44e8-83c7-8bbcd16b4f19",
   "metadata": {},
   "outputs": [],
   "source": [
    "arr= np.squeeze(arr)"
   ]
  },
  {
   "cell_type": "code",
   "execution_count": 26,
   "id": "14ddae6a-484d-457c-a127-b6c7e9b429f4",
   "metadata": {},
   "outputs": [
    {
     "data": {
      "text/plain": [
       "array([[5, 6, 3, 9],\n",
       "       [1, 9, 4, 2],\n",
       "       [5, 6, 2, 5],\n",
       "       [7, 7, 2, 2]])"
      ]
     },
     "execution_count": 26,
     "metadata": {},
     "output_type": "execute_result"
    }
   ],
   "source": [
    "np.squeeze(arr)"
   ]
  },
  {
   "cell_type": "code",
   "execution_count": 27,
   "id": "e7e6aa83-9f8a-4d93-aad0-dd8099a009ad",
   "metadata": {},
   "outputs": [
    {
     "data": {
      "text/plain": [
       "array([[1.48413159e+02, 4.03428793e+02, 2.00855369e+01, 8.10308393e+03],\n",
       "       [2.71828183e+00, 8.10308393e+03, 5.45981500e+01, 7.38905610e+00],\n",
       "       [1.48413159e+02, 4.03428793e+02, 7.38905610e+00, 1.48413159e+02],\n",
       "       [1.09663316e+03, 1.09663316e+03, 7.38905610e+00, 7.38905610e+00]])"
      ]
     },
     "execution_count": 27,
     "metadata": {},
     "output_type": "execute_result"
    }
   ],
   "source": [
    "np.exp(arr)"
   ]
  },
  {
   "cell_type": "code",
   "execution_count": 28,
   "id": "ee0fc48c-fd15-459c-aad2-26f295610850",
   "metadata": {},
   "outputs": [
    {
     "data": {
      "text/plain": [
       "array([[25, 36,  9, 81],\n",
       "       [ 1, 81, 16,  4],\n",
       "       [25, 36,  4, 25],\n",
       "       [49, 49,  4,  4]], dtype=int32)"
      ]
     },
     "execution_count": 28,
     "metadata": {},
     "output_type": "execute_result"
    }
   ],
   "source": [
    "np.power(arr,2)"
   ]
  },
  {
   "cell_type": "code",
   "execution_count": 29,
   "id": "97ed0e8c-f98d-450e-a823-f0d0e849260b",
   "metadata": {},
   "outputs": [
    {
     "data": {
      "text/plain": [
       "5.0"
      ]
     },
     "execution_count": 29,
     "metadata": {},
     "output_type": "execute_result"
    }
   ],
   "source": [
    "np.median(arr)"
   ]
  },
  {
   "cell_type": "code",
   "execution_count": 30,
   "id": "6caa2476-bdeb-4f80-91f5-dec570eb4045",
   "metadata": {},
   "outputs": [
    {
     "data": {
      "text/plain": [
       "2.4677608777999542"
      ]
     },
     "execution_count": 30,
     "metadata": {},
     "output_type": "execute_result"
    }
   ],
   "source": [
    "np.std(arr)"
   ]
  },
  {
   "cell_type": "code",
   "execution_count": null,
   "id": "933bee45-ce4f-4643-bf72-4b57ad7403dc",
   "metadata": {},
   "outputs": [],
   "source": []
  }
 ],
 "metadata": {
  "kernelspec": {
   "display_name": "Python 3 (ipykernel)",
   "language": "python",
   "name": "python3"
  },
  "language_info": {
   "codemirror_mode": {
    "name": "ipython",
    "version": 3
   },
   "file_extension": ".py",
   "mimetype": "text/x-python",
   "name": "python",
   "nbconvert_exporter": "python",
   "pygments_lexer": "ipython3",
   "version": "3.11.7"
  }
 },
 "nbformat": 4,
 "nbformat_minor": 5
}
