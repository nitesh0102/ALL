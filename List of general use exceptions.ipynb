{
 "cells": [
  {
   "cell_type": "code",
   "execution_count": 3,
   "id": "ec869106-d741-459f-8bc0-013702e278db",
   "metadata": {},
   "outputs": [
    {
     "name": "stdout",
     "output_type": "stream",
     "text": [
      "division by zero\n"
     ]
    }
   ],
   "source": [
    "try : \n",
    "    a = 10\n",
    "    a/0\n",
    "except ZeroDivisionError as e:\n",
    "    print(e)"
   ]
  },
  {
   "cell_type": "code",
   "execution_count": 4,
   "id": "fe9e19c4-ca67-489a-a6f1-4f0b4dd0223a",
   "metadata": {},
   "outputs": [
    {
     "name": "stdout",
     "output_type": "stream",
     "text": [
      "invalid literal for int() with base 10: 'sudh'\n"
     ]
    }
   ],
   "source": [
    "try : \n",
    "    int(\"sudh\")\n",
    "except (ValueError,TypeError) as e :\n",
    "    print(e)"
   ]
  },
  {
   "cell_type": "code",
   "execution_count": null,
   "id": "93a32702-a77e-4ef7-95e8-70618b28491e",
   "metadata": {},
   "outputs": [],
   "source": []
  },
  {
   "cell_type": "code",
   "execution_count": 6,
   "id": "09e28c7e-94a4-47b4-9a5e-deedb9b23386",
   "metadata": {},
   "outputs": [
    {
     "name": "stdout",
     "output_type": "stream",
     "text": [
      "this will catch an error\n"
     ]
    }
   ],
   "source": [
    "try : \n",
    "    int(\"sudh\")\n",
    "except :\n",
    "    print(\"this will catch an error\")"
   ]
  },
  {
   "cell_type": "code",
   "execution_count": 8,
   "id": "c185c0ac-d273-4093-a069-41cf1617da5f",
   "metadata": {},
   "outputs": [],
   "source": [
    "# this is not a best practice, you are supposed to know the type of error when handling try except"
   ]
  },
  {
   "cell_type": "code",
   "execution_count": null,
   "id": "44234fec-c3bd-497f-9e40-f95298e54788",
   "metadata": {},
   "outputs": [],
   "source": []
  },
  {
   "cell_type": "code",
   "execution_count": 9,
   "id": "3924ba08-4214-44b0-b876-a591de44b0c8",
   "metadata": {},
   "outputs": [
    {
     "name": "stdout",
     "output_type": "stream",
     "text": [
      "No module named 'sudh'\n"
     ]
    }
   ],
   "source": [
    "try :\n",
    "    import sudh\n",
    "except ImportError as e:\n",
    "    print(e)"
   ]
  },
  {
   "cell_type": "code",
   "execution_count": 10,
   "id": "e69c5479-66af-4240-bf0a-492e61654c1f",
   "metadata": {},
   "outputs": [
    {
     "name": "stdout",
     "output_type": "stream",
     "text": [
      "'key10'\n"
     ]
    }
   ],
   "source": [
    "try : \n",
    "    d = {1:[2,3,4,4,4], \"key\" : \"sudh\"}\n",
    "    d[\"key10\"]\n",
    "except KeyError as e: \n",
    "    print(e)"
   ]
  },
  {
   "cell_type": "code",
   "execution_count": 12,
   "id": "aa1d7877-78af-4fa6-8fb8-bd4e9afb3680",
   "metadata": {},
   "outputs": [
    {
     "name": "stdout",
     "output_type": "stream",
     "text": [
      "'str' object has no attribute 'test'\n"
     ]
    }
   ],
   "source": [
    "try : \n",
    "    \"sudh\".test()\n",
    "except AttributeError as e:\n",
    "    print(e)"
   ]
  },
  {
   "cell_type": "code",
   "execution_count": 13,
   "id": "87ca4787-98dc-46d2-9ef7-edb76e2894ef",
   "metadata": {},
   "outputs": [
    {
     "name": "stdout",
     "output_type": "stream",
     "text": [
      "list index out of range\n"
     ]
    }
   ],
   "source": [
    "try : \n",
    "    l  = [1,2,3,3]\n",
    "    l[10]\n",
    "except IndexError as e:\n",
    "    print(e)"
   ]
  },
  {
   "cell_type": "code",
   "execution_count": 16,
   "id": "15dfeb5f-d2f4-400c-a10d-30aa4fd5e9b5",
   "metadata": {},
   "outputs": [
    {
     "name": "stdout",
     "output_type": "stream",
     "text": [
      "unsupported operand type(s) for +: 'int' and 'str'\n"
     ]
    }
   ],
   "source": [
    "try : \n",
    "    123 + \"sudh\"\n",
    "except TypeError as e:\n",
    "    print(e)"
   ]
  },
  {
   "cell_type": "code",
   "execution_count": 17,
   "id": "389750b7-1ad7-44f9-a593-e2c0ee03e7c0",
   "metadata": {},
   "outputs": [
    {
     "name": "stdout",
     "output_type": "stream",
     "text": [
      "[Errno 2] No such file or directory: 'test232.txt'\n"
     ]
    }
   ],
   "source": [
    "try : \n",
    "    with open (\"test232.txt\", 'r') as f:\n",
    "        f.read()\n",
    "except FileNotFoundError as e:\n",
    "    print(e)"
   ]
  },
  {
   "cell_type": "code",
   "execution_count": 18,
   "id": "ac723c50-0d2c-477c-9636-416e5c2aa8b9",
   "metadata": {},
   "outputs": [
    {
     "name": "stdout",
     "output_type": "stream",
     "text": [
      "[Errno 2] No such file or directory: 'test232.txt'\n"
     ]
    }
   ],
   "source": [
    "try : \n",
    "    with open (\"test232.txt\", 'r') as f:\n",
    "        f.read()\n",
    "except Exception as e:\n",
    "    print(e)\n",
    "except FileNotFoundError as e:\n",
    "    print(e)"
   ]
  },
  {
   "cell_type": "code",
   "execution_count": 21,
   "id": "f46bdb78-e5e6-46a6-a68b-05eb01b09220",
   "metadata": {},
   "outputs": [
    {
     "name": "stdout",
     "output_type": "stream",
     "text": [
      "case 1 [Errno 2] No such file or directory: 'test232.txt'\n"
     ]
    }
   ],
   "source": [
    "try : \n",
    "    with open (\"test232.txt\", 'r') as f:\n",
    "        f.read()\n",
    "except Exception as e:\n",
    "    print(\"case 1\",e)\n",
    "except FileNotFoundError as e:\n",
    "    print(\"case 2\",e)"
   ]
  },
  {
   "cell_type": "code",
   "execution_count": 22,
   "id": "0f1d44be-1147-4ca3-8423-a85f59a889be",
   "metadata": {},
   "outputs": [],
   "source": [
    "########## Exception is a super class all the error which we have studied comes under Exception class"
   ]
  },
  {
   "cell_type": "code",
   "execution_count": 24,
   "id": "10039b2b-b89c-49b9-9649-314f1c08a985",
   "metadata": {},
   "outputs": [],
   "source": [
    "## super class should always be used at last as best practice. \n",
    "# speicific class should come first before super class\n"
   ]
  },
  {
   "cell_type": "code",
   "execution_count": 25,
   "id": "2b861245-76f4-433b-bab0-342ed153ec13",
   "metadata": {},
   "outputs": [],
   "source": [
    "def test(file):\n",
    "    try : \n",
    "        with open (\"test232.txt\", 'r') as f:\n",
    "            f.read()\n",
    "    except Exception as e:\n",
    "        print(\"case 1\",e)\n",
    "    except FileNotFoundError as e:\n",
    "        print(\"case 2\",e)"
   ]
  },
  {
   "cell_type": "code",
   "execution_count": null,
   "id": "05180dc3-7bc4-42a2-b7df-50c548432bdb",
   "metadata": {},
   "outputs": [],
   "source": []
  }
 ],
 "metadata": {
  "kernelspec": {
   "display_name": "Python 3 (ipykernel)",
   "language": "python",
   "name": "python3"
  },
  "language_info": {
   "codemirror_mode": {
    "name": "ipython",
    "version": 3
   },
   "file_extension": ".py",
   "mimetype": "text/x-python",
   "name": "python",
   "nbconvert_exporter": "python",
   "pygments_lexer": "ipython3",
   "version": "3.11.7"
  }
 },
 "nbformat": 4,
 "nbformat_minor": 5
}
