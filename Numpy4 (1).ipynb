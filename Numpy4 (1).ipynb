{
 "cells": [
  {
   "cell_type": "code",
   "execution_count": 1,
   "id": "6db34b1e-45fa-4e93-a09c-53a3742d260a",
   "metadata": {},
   "outputs": [],
   "source": [
    "import numpy as np"
   ]
  },
  {
   "cell_type": "code",
   "execution_count": 3,
   "id": "091f344b-78f2-4ce2-8300-80ff12d6705f",
   "metadata": {},
   "outputs": [],
   "source": [
    "arr = np.array([2,3,4,335,6])"
   ]
  },
  {
   "cell_type": "code",
   "execution_count": 4,
   "id": "2957177a-2c72-4891-af02-b93045b1104f",
   "metadata": {},
   "outputs": [
    {
     "data": {
      "text/plain": [
       "array([  2,   3,   4, 335,   6])"
      ]
     },
     "execution_count": 4,
     "metadata": {},
     "output_type": "execute_result"
    }
   ],
   "source": [
    "arr"
   ]
  },
  {
   "cell_type": "code",
   "execution_count": 8,
   "id": "357348bc-586e-4167-ab11-86a7c6229597",
   "metadata": {},
   "outputs": [
    {
     "data": {
      "text/plain": [
       "array([  2,   3,   4,   6, 335])"
      ]
     },
     "execution_count": 8,
     "metadata": {},
     "output_type": "execute_result"
    }
   ],
   "source": [
    "np.sort(arr)"
   ]
  },
  {
   "cell_type": "code",
   "execution_count": 11,
   "id": "94e3f10e-c85c-4498-aefd-27eb6a13dc61",
   "metadata": {},
   "outputs": [
    {
     "data": {
      "text/plain": [
       "3"
      ]
     },
     "execution_count": 11,
     "metadata": {},
     "output_type": "execute_result"
    }
   ],
   "source": [
    "np.searchsorted(arr,5)"
   ]
  },
  {
   "cell_type": "code",
   "execution_count": 13,
   "id": "a147a2e1-e790-41cd-bd72-9d10bfb23d45",
   "metadata": {},
   "outputs": [
    {
     "data": {
      "text/plain": [
       "5"
      ]
     },
     "execution_count": 13,
     "metadata": {},
     "output_type": "execute_result"
    }
   ],
   "source": [
    "np.count_nonzero(arr)"
   ]
  },
  {
   "cell_type": "code",
   "execution_count": 15,
   "id": "8ba87d49-b4a6-4bf2-b743-3d22d2eb1f44",
   "metadata": {},
   "outputs": [
    {
     "data": {
      "text/plain": [
       "array([335,   6])"
      ]
     },
     "execution_count": 15,
     "metadata": {},
     "output_type": "execute_result"
    }
   ],
   "source": [
    "np.extract(arr>5,arr)"
   ]
  },
  {
   "cell_type": "code",
   "execution_count": 16,
   "id": "1f77e9ff-7089-4c2e-8baa-f0804fe1f6d3",
   "metadata": {},
   "outputs": [],
   "source": [
    "#numpy - Byte  Swapping"
   ]
  },
  {
   "cell_type": "code",
   "execution_count": 17,
   "id": "f1d99b14-7122-43a7-a201-49d055f46cd1",
   "metadata": {},
   "outputs": [
    {
     "data": {
      "text/plain": [
       "array([  33554432,   50331648,   67108864, 1325465600,  100663296])"
      ]
     },
     "execution_count": 17,
     "metadata": {},
     "output_type": "execute_result"
    }
   ],
   "source": [
    "arr.byteswap()"
   ]
  },
  {
   "cell_type": "code",
   "execution_count": 18,
   "id": "9a5fc9ae-4b1a-4273-809f-77709c93806f",
   "metadata": {},
   "outputs": [
    {
     "data": {
      "text/plain": [
       "array([  2,   3,   4, 335,   6])"
      ]
     },
     "execution_count": 18,
     "metadata": {},
     "output_type": "execute_result"
    }
   ],
   "source": [
    "arr"
   ]
  },
  {
   "cell_type": "code",
   "execution_count": 19,
   "id": "12fdfb52-7746-46e2-a0a6-c98ad8cca2cd",
   "metadata": {},
   "outputs": [],
   "source": [
    "#numpy copy & views "
   ]
  },
  {
   "cell_type": "code",
   "execution_count": 20,
   "id": "6d16753c-0fa1-4cbf-bdf7-7f8f19c62102",
   "metadata": {},
   "outputs": [
    {
     "data": {
      "text/plain": [
       "array([  2,   3,   4, 335,   6])"
      ]
     },
     "execution_count": 20,
     "metadata": {},
     "output_type": "execute_result"
    }
   ],
   "source": [
    "arr"
   ]
  },
  {
   "cell_type": "code",
   "execution_count": 21,
   "id": "1009926e-483a-49ec-ba20-bd92fadd6950",
   "metadata": {},
   "outputs": [],
   "source": [
    "a = np.copy(arr)"
   ]
  },
  {
   "cell_type": "code",
   "execution_count": 22,
   "id": "d04e1466-86b7-47e8-8e04-cdeb265d6879",
   "metadata": {},
   "outputs": [
    {
     "data": {
      "text/plain": [
       "array([  2,   3,   4, 335,   6])"
      ]
     },
     "execution_count": 22,
     "metadata": {},
     "output_type": "execute_result"
    }
   ],
   "source": [
    "a"
   ]
  },
  {
   "cell_type": "code",
   "execution_count": 23,
   "id": "0a6ce646-da1c-47f8-a0a1-4c27c8e9c758",
   "metadata": {},
   "outputs": [],
   "source": [
    "arr[0] = 100"
   ]
  },
  {
   "cell_type": "code",
   "execution_count": 24,
   "id": "de740be6-6553-437d-94d1-a805a895669e",
   "metadata": {},
   "outputs": [
    {
     "data": {
      "text/plain": [
       "array([  2,   3,   4, 335,   6])"
      ]
     },
     "execution_count": 24,
     "metadata": {},
     "output_type": "execute_result"
    }
   ],
   "source": [
    "a"
   ]
  },
  {
   "cell_type": "code",
   "execution_count": 25,
   "id": "e7ab3984-7a68-49a1-99f5-a4f6eb0b5e6d",
   "metadata": {},
   "outputs": [
    {
     "data": {
      "text/plain": [
       "array([100,   3,   4, 335,   6])"
      ]
     },
     "execution_count": 25,
     "metadata": {},
     "output_type": "execute_result"
    }
   ],
   "source": [
    "arr"
   ]
  },
  {
   "cell_type": "code",
   "execution_count": 26,
   "id": "07bcaea9-e4c4-40d9-8277-b888deff2967",
   "metadata": {},
   "outputs": [
    {
     "data": {
      "text/plain": [
       "array([  2,   3,   4, 335,   6])"
      ]
     },
     "execution_count": 26,
     "metadata": {},
     "output_type": "execute_result"
    }
   ],
   "source": [
    "a"
   ]
  },
  {
   "cell_type": "code",
   "execution_count": 27,
   "id": "a3393d47-76cb-4895-b53b-4ec0ee25a31c",
   "metadata": {},
   "outputs": [],
   "source": [
    "b = arr.view()"
   ]
  },
  {
   "cell_type": "code",
   "execution_count": 28,
   "id": "f13d72a7-c6ac-42fc-ade9-d6f58c2bf59b",
   "metadata": {},
   "outputs": [
    {
     "data": {
      "text/plain": [
       "array([100,   3,   4, 335,   6])"
      ]
     },
     "execution_count": 28,
     "metadata": {},
     "output_type": "execute_result"
    }
   ],
   "source": [
    "b"
   ]
  },
  {
   "cell_type": "code",
   "execution_count": 29,
   "id": "d198a708-85d1-46a4-aec2-8b8e68a17f4f",
   "metadata": {},
   "outputs": [],
   "source": [
    "b[1] = 232"
   ]
  },
  {
   "cell_type": "code",
   "execution_count": 30,
   "id": "7259c370-f985-49d7-b327-5948587d0ff8",
   "metadata": {},
   "outputs": [
    {
     "data": {
      "text/plain": [
       "array([100, 232,   4, 335,   6])"
      ]
     },
     "execution_count": 30,
     "metadata": {},
     "output_type": "execute_result"
    }
   ],
   "source": [
    "b"
   ]
  },
  {
   "cell_type": "code",
   "execution_count": 31,
   "id": "c6baf898-563d-4575-845a-9c0500b33116",
   "metadata": {},
   "outputs": [
    {
     "data": {
      "text/plain": [
       "array([100, 232,   4, 335,   6])"
      ]
     },
     "execution_count": 31,
     "metadata": {},
     "output_type": "execute_result"
    }
   ],
   "source": [
    "arr"
   ]
  },
  {
   "cell_type": "code",
   "execution_count": 32,
   "id": "b1a6efc2-9cad-4e81-b565-37bd0331f9fa",
   "metadata": {},
   "outputs": [],
   "source": [
    "#numpy - matrix library "
   ]
  },
  {
   "cell_type": "code",
   "execution_count": 33,
   "id": "160b01f2-caab-42de-aae4-13724ee08db3",
   "metadata": {},
   "outputs": [],
   "source": [
    "import numpy.matlib as nm"
   ]
  },
  {
   "cell_type": "code",
   "execution_count": 34,
   "id": "b3024e07-69b8-4324-8a47-73bcf71b19e1",
   "metadata": {},
   "outputs": [
    {
     "data": {
      "text/plain": [
       "matrix([[0., 0., 0., 0., 0.]])"
      ]
     },
     "execution_count": 34,
     "metadata": {},
     "output_type": "execute_result"
    }
   ],
   "source": [
    "nm.zeros(5)"
   ]
  },
  {
   "cell_type": "code",
   "execution_count": 35,
   "id": "95fbebf8-7b54-4607-ab2c-67c25333c41b",
   "metadata": {},
   "outputs": [],
   "source": [
    "#matrix is a subclass of an array (in general or may be in numpy only) "
   ]
  },
  {
   "cell_type": "code",
   "execution_count": 37,
   "id": "12966649-6567-4a6b-a561-c6e0049dde80",
   "metadata": {},
   "outputs": [
    {
     "data": {
      "text/plain": [
       "matrix([[1., 0., 0., 0.],\n",
       "        [0., 1., 0., 0.],\n",
       "        [0., 0., 1., 0.],\n",
       "        [0., 0., 0., 1.]])"
      ]
     },
     "execution_count": 37,
     "metadata": {},
     "output_type": "execute_result"
    }
   ],
   "source": [
    "nm.eye(4)"
   ]
  },
  {
   "cell_type": "code",
   "execution_count": 38,
   "id": "a58d074d-b66e-47b3-aeb9-c9ffa100e85a",
   "metadata": {},
   "outputs": [],
   "source": [
    "##numpy - linera algebra"
   ]
  },
  {
   "cell_type": "code",
   "execution_count": 45,
   "id": "fc4238bf-e3c3-46b9-8d63-bb6c45dd4944",
   "metadata": {},
   "outputs": [],
   "source": [
    "arr1 = np.random.randint([[2,3],[4,5]])"
   ]
  },
  {
   "cell_type": "code",
   "execution_count": 46,
   "id": "182a3d3a-fcc8-4c52-a368-491c5e5db078",
   "metadata": {},
   "outputs": [
    {
     "data": {
      "text/plain": [
       "array([[1, 1],\n",
       "       [3, 3]])"
      ]
     },
     "execution_count": 46,
     "metadata": {},
     "output_type": "execute_result"
    }
   ],
   "source": [
    "arr1"
   ]
  },
  {
   "cell_type": "code",
   "execution_count": 48,
   "id": "683b9736-8e22-4ec9-8b98-b82dcaa69773",
   "metadata": {},
   "outputs": [],
   "source": [
    "arr2 = np.random.randint([[5,3],[4,5]])"
   ]
  },
  {
   "cell_type": "code",
   "execution_count": 49,
   "id": "e5099a25-b917-4f80-9a8b-7baa8762a9e7",
   "metadata": {},
   "outputs": [
    {
     "data": {
      "text/plain": [
       "array([[4, 0],\n",
       "       [0, 4]])"
      ]
     },
     "execution_count": 49,
     "metadata": {},
     "output_type": "execute_result"
    }
   ],
   "source": [
    "arr2"
   ]
  },
  {
   "cell_type": "code",
   "execution_count": 50,
   "id": "787e6890-2e4d-4918-a2c0-f6075e5e89fd",
   "metadata": {},
   "outputs": [
    {
     "data": {
      "text/plain": [
       "array([[ 4,  4],\n",
       "       [12, 12]])"
      ]
     },
     "execution_count": 50,
     "metadata": {},
     "output_type": "execute_result"
    }
   ],
   "source": [
    "np.dot(arr1,arr2)"
   ]
  },
  {
   "cell_type": "code",
   "execution_count": 51,
   "id": "f01628bd-b83d-43ad-879a-e9a9102bd395",
   "metadata": {},
   "outputs": [
    {
     "data": {
      "text/plain": [
       "array([[ 4,  4],\n",
       "       [12, 12]])"
      ]
     },
     "execution_count": 51,
     "metadata": {},
     "output_type": "execute_result"
    }
   ],
   "source": [
    "arr1@arr2"
   ]
  },
  {
   "cell_type": "code",
   "execution_count": null,
   "id": "f3e8d947-4108-4260-9df6-72c97e839645",
   "metadata": {},
   "outputs": [],
   "source": []
  }
 ],
 "metadata": {
  "kernelspec": {
   "display_name": "Python 3 (ipykernel)",
   "language": "python",
   "name": "python3"
  },
  "language_info": {
   "codemirror_mode": {
    "name": "ipython",
    "version": 3
   },
   "file_extension": ".py",
   "mimetype": "text/x-python",
   "name": "python",
   "nbconvert_exporter": "python",
   "pygments_lexer": "ipython3",
   "version": "3.11.7"
  }
 },
 "nbformat": 4,
 "nbformat_minor": 5
}
